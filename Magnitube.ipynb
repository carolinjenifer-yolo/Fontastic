{
  "nbformat": 4,
  "nbformat_minor": 0,
  "metadata": {
    "colab": {
      "name": "Magnitube.ipynb",
      "provenance": [],
      "collapsed_sections": []
    },
    "kernelspec": {
      "name": "python3",
      "display_name": "Python 3"
    },
    "language_info": {
      "name": "python"
    }
  },
  "cells": [
    {
      "cell_type": "markdown",
      "metadata": {
        "id": "ygh5WcZSUtg1"
      },
      "source": [
        "# Magnitube.AI\n"
      ]
    },
    {
      "cell_type": "markdown",
      "metadata": {
        "id": "ZzbnxOWsU1WL"
      },
      "source": [
        "We start by collecting the data from the google sheets. Note that we collect the data through apps script which available on tools of google sheets."
      ]
    },
    {
      "cell_type": "code",
      "metadata": {
        "id": "3GNVkB32NdL4"
      },
      "source": [
        "from google.colab import auth\n",
        "auth.authenticate_user()\n",
        "import gspread\n",
        "from oauth2client.client import GoogleCredentials\n",
        "gc = gspread.authorize(GoogleCredentials.get_application_default())"
      ],
      "execution_count": null,
      "outputs": []
    },
    {
      "cell_type": "code",
      "metadata": {
        "id": "bQCkXLufNy-T"
      },
      "source": [
        "import pandas as pd\n",
        "import matplotlib.pyplot as plt"
      ],
      "execution_count": null,
      "outputs": []
    },
    {
      "cell_type": "code",
      "metadata": {
        "id": "MAk9hlUYOYVS"
      },
      "source": [
        "wb = gc.open_by_url('https://docs.google.com/spreadsheets/d/1TGGD7_8lfa1Q9XtRfikE2gUr9YwuVjOI5gPkdX0Q-XQ/edit#gid=0')"
      ],
      "execution_count": null,
      "outputs": []
    },
    {
      "cell_type": "code",
      "metadata": {
        "id": "qE7JCJ3eOjJw"
      },
      "source": [
        "sheet_1 = wb.worksheet('Sheet1')\n",
        "sheet_2 = wb.worksheet('Sheet2')\n",
        "sheet_3 = wb.worksheet('Sheet3')\n",
        "sheet_4 = wb.worksheet('Sheet4')\n",
        "sheet_5 = wb.worksheet('Sheet5')\n",
        "sheet_6 = wb.worksheet('Sheet6')\n",
        "sheet_7 = wb.worksheet('Sheet7')\n",
        "sheet_8 = wb.worksheet('Sheet8')\n",
        "sheet_9 = wb.worksheet('Sheet9')\n",
        "#sheet_10 = wb.worksheet('Sheet10')"
      ],
      "execution_count": null,
      "outputs": []
    },
    {
      "cell_type": "code",
      "metadata": {
        "id": "ycGJF8I3O-UE"
      },
      "source": [
        "data_1 = sheet_1.get_all_values()\n",
        "data_2 = sheet_2.get_all_values()\n",
        "data_3 = sheet_3.get_all_values()\n",
        "data_4 = sheet_4.get_all_values()\n",
        "data_5 = sheet_5.get_all_values()\n",
        "data_6 = sheet_6.get_all_values()\n",
        "data_7 = sheet_7.get_all_values()\n",
        "data_8 = sheet_8.get_all_values()\n",
        "data_9 = sheet_9.get_all_values()\n",
        "#data_10 = sheet_10.get_all_values()"
      ],
      "execution_count": null,
      "outputs": []
    },
    {
      "cell_type": "code",
      "metadata": {
        "colab": {
          "base_uri": "https://localhost:8080/",
          "height": 564
        },
        "id": "EffYz94ZPA4E",
        "outputId": "6e4645c0-e316-410d-d231-2518309307a7"
      },
      "source": [
        "#let just take a quick look at the first batch of dataframes \n",
        "df = pd.DataFrame(data_1)\n",
        "df.columns = df.iloc[0]\n",
        "df = df.iloc[1:]\n",
        "df.head()"
      ],
      "execution_count": null,
      "outputs": [
        {
          "output_type": "execute_result",
          "data": {
            "text/html": [
              "<div>\n",
              "<style scoped>\n",
              "    .dataframe tbody tr th:only-of-type {\n",
              "        vertical-align: middle;\n",
              "    }\n",
              "\n",
              "    .dataframe tbody tr th {\n",
              "        vertical-align: top;\n",
              "    }\n",
              "\n",
              "    .dataframe thead th {\n",
              "        text-align: right;\n",
              "    }\n",
              "</style>\n",
              "<table border=\"1\" class=\"dataframe\">\n",
              "  <thead>\n",
              "    <tr style=\"text-align: right;\">\n",
              "      <th></th>\n",
              "      <th>channelId</th>\n",
              "      <th>videoId</th>\n",
              "      <th>title</th>\n",
              "      <th>publishedAt</th>\n",
              "      <th>thumbnails</th>\n",
              "      <th>viewCount_Chan</th>\n",
              "      <th>subscriberCount</th>\n",
              "      <th>viewCount_Vid</th>\n",
              "      <th>likeCount</th>\n",
              "      <th>dislikeCount</th>\n",
              "      <th>Success</th>\n",
              "    </tr>\n",
              "  </thead>\n",
              "  <tbody>\n",
              "    <tr>\n",
              "      <th>1</th>\n",
              "      <td>UCVjCsq6PCd1RxrhkOfuGMsw</td>\n",
              "      <td>JA-OfBpHDkE</td>\n",
              "      <td>SIÊU NHÂN NOOB TEAM TẬP 7 : BIỆT ĐỘI SIÊU NHÂN...</td>\n",
              "      <td>2021-05-19T10:00:17Z</td>\n",
              "      <td>https://i.ytimg.com/vi/JA-OfBpHDkE/hqdefault.jpg</td>\n",
              "      <td>1210425611</td>\n",
              "      <td>1570000</td>\n",
              "      <td>266191</td>\n",
              "      <td>9810</td>\n",
              "      <td>99</td>\n",
              "      <td>0.1695484076</td>\n",
              "    </tr>\n",
              "    <tr>\n",
              "      <th>2</th>\n",
              "      <td>UCmVzcQ5hXNecXAcbn6y7TEg</td>\n",
              "      <td>AKv4t7zUETQ</td>\n",
              "      <td>NEW SEASON RECORD in GEORGOPOL😱Pubg Mobile</td>\n",
              "      <td>2021-05-19T07:21:03Z</td>\n",
              "      <td>https://i.ytimg.com/vi/AKv4t7zUETQ/hqdefault.jpg</td>\n",
              "      <td>224876371</td>\n",
              "      <td>1510000</td>\n",
              "      <td>274465</td>\n",
              "      <td>19084</td>\n",
              "      <td>389</td>\n",
              "      <td>0.1817649007</td>\n",
              "    </tr>\n",
              "    <tr>\n",
              "      <th>3</th>\n",
              "      <td>UCMrvxKTx9hLhZcOvJkYOnAw</td>\n",
              "      <td>qI1_k8B7Iqc</td>\n",
              "      <td>Wasting 12,000 Diamond 💎 Of As Gaming Opening ...</td>\n",
              "      <td>2021-05-18T05:45:40Z</td>\n",
              "      <td>https://i.ytimg.com/vi/qI1_k8B7Iqc/hqdefault.jpg</td>\n",
              "      <td>1177472102</td>\n",
              "      <td>11300000</td>\n",
              "      <td>1183954</td>\n",
              "      <td>123438</td>\n",
              "      <td>3126</td>\n",
              "      <td>0.1047746903</td>\n",
              "    </tr>\n",
              "    <tr>\n",
              "      <th>4</th>\n",
              "      <td>UCTraT1P-qAimjAASU4wilTA</td>\n",
              "      <td>eSPyZH3AWp4</td>\n",
              "      <td>PUBG Mobile NOW | GTA Later - Kaztro Live</td>\n",
              "      <td>2021-05-19T14:42:38Z</td>\n",
              "      <td>https://i.ytimg.com/vi/eSPyZH3AWp4/hqdefault_l...</td>\n",
              "      <td>145447449</td>\n",
              "      <td>1060000</td>\n",
              "      <td>142174</td>\n",
              "      <td>20677</td>\n",
              "      <td>211</td>\n",
              "      <td>0.1341264151</td>\n",
              "    </tr>\n",
              "    <tr>\n",
              "      <th>5</th>\n",
              "      <td>UCVjCsq6PCd1RxrhkOfuGMsw</td>\n",
              "      <td>3nI4BBKVPIE</td>\n",
              "      <td>MINI GAME : CUỘC THI TRỞ THÀNH ĐẦU BẾP VIP PRO...</td>\n",
              "      <td>2021-05-18T10:00:02Z</td>\n",
              "      <td>https://i.ytimg.com/vi/3nI4BBKVPIE/hqdefault.jpg</td>\n",
              "      <td>1210425611</td>\n",
              "      <td>1570000</td>\n",
              "      <td>450694</td>\n",
              "      <td>7994</td>\n",
              "      <td>138</td>\n",
              "      <td>0.287066242</td>\n",
              "    </tr>\n",
              "  </tbody>\n",
              "</table>\n",
              "</div>"
            ],
            "text/plain": [
              "0                 channelId      videoId  ... dislikeCount       Success\n",
              "1  UCVjCsq6PCd1RxrhkOfuGMsw  JA-OfBpHDkE  ...           99  0.1695484076\n",
              "2  UCmVzcQ5hXNecXAcbn6y7TEg  AKv4t7zUETQ  ...          389  0.1817649007\n",
              "3  UCMrvxKTx9hLhZcOvJkYOnAw  qI1_k8B7Iqc  ...         3126  0.1047746903\n",
              "4  UCTraT1P-qAimjAASU4wilTA  eSPyZH3AWp4  ...          211  0.1341264151\n",
              "5  UCVjCsq6PCd1RxrhkOfuGMsw  3nI4BBKVPIE  ...          138   0.287066242\n",
              "\n",
              "[5 rows x 11 columns]"
            ]
          },
          "metadata": {
            "tags": []
          },
          "execution_count": 59
        }
      ]
    },
    {
      "cell_type": "code",
      "metadata": {
        "id": "D6FN37K5uM7W"
      },
      "source": [
        "df_2 = pd.DataFrame(data_2)\n",
        "df_3 = pd.DataFrame(data_3)\n",
        "df_4 = pd.DataFrame(data_4)\n",
        "df_5 = pd.DataFrame(data_5)\n",
        "df_6 = pd.DataFrame(data_6)\n",
        "df_7 = pd.DataFrame(data_7)\n",
        "df_8 = pd.DataFrame(data_8)\n",
        "df_9 = pd.DataFrame(data_9)\n",
        "#df_10 = pd.DataFrame(data_10)"
      ],
      "execution_count": null,
      "outputs": []
    },
    {
      "cell_type": "code",
      "metadata": {
        "id": "q3JEmn4HegI7"
      },
      "source": [
        "#this get rid of the titles so it can merger smoothly\n",
        "df_2.columns = df_2.iloc[0]\n",
        "df_2 = df_2.iloc[1:]\n",
        "df_3.columns = df_3.iloc[0]\n",
        "df_3 = df_3.iloc[1:]\n",
        "df_4.columns = df_4.iloc[0]\n",
        "df_4 = df_4.iloc[1:]\n",
        "df_5.columns = df_5.iloc[0]\n",
        "df_5 = df_5.iloc[1:]\n",
        "df_6.columns = df_6.iloc[0]\n",
        "df_6 = df_6.iloc[1:]\n",
        "df_7.columns = df_7.iloc[0]\n",
        "df_7 = df_7.iloc[1:]\n",
        "df_8.columns = df_8.iloc[0]\n",
        "df_8 = df_8.iloc[1:]\n",
        "df_9.columns = df_9.iloc[0]\n",
        "df_9 = df_7.iloc[1:]\n",
        "#df_10.columns = df_10.iloc[0]\n",
        "#df_10 = df_10.iloc[1:]\n"
      ],
      "execution_count": null,
      "outputs": []
    },
    {
      "cell_type": "code",
      "metadata": {
        "colab": {
          "base_uri": "https://localhost:8080/",
          "height": 915
        },
        "id": "iJEPluKVe__f",
        "outputId": "d628ae8d-94aa-4959-b5df-247010245eb5"
      },
      "source": [
        "df = df.append([df_2,df_3,df_4,df_5,df_6,df_7,df_8,df_9])\n",
        "df"
      ],
      "execution_count": null,
      "outputs": [
        {
          "output_type": "execute_result",
          "data": {
            "text/html": [
              "<div>\n",
              "<style scoped>\n",
              "    .dataframe tbody tr th:only-of-type {\n",
              "        vertical-align: middle;\n",
              "    }\n",
              "\n",
              "    .dataframe tbody tr th {\n",
              "        vertical-align: top;\n",
              "    }\n",
              "\n",
              "    .dataframe thead th {\n",
              "        text-align: right;\n",
              "    }\n",
              "</style>\n",
              "<table border=\"1\" class=\"dataframe\">\n",
              "  <thead>\n",
              "    <tr style=\"text-align: right;\">\n",
              "      <th></th>\n",
              "      <th>channelId</th>\n",
              "      <th>videoId</th>\n",
              "      <th>title</th>\n",
              "      <th>publishedAt</th>\n",
              "      <th>thumbnails</th>\n",
              "      <th>viewCount_Chan</th>\n",
              "      <th>subscriberCount</th>\n",
              "      <th>viewCount_Vid</th>\n",
              "      <th>likeCount</th>\n",
              "      <th>dislikeCount</th>\n",
              "      <th>Success</th>\n",
              "    </tr>\n",
              "  </thead>\n",
              "  <tbody>\n",
              "    <tr>\n",
              "      <th>1</th>\n",
              "      <td>UCVjCsq6PCd1RxrhkOfuGMsw</td>\n",
              "      <td>JA-OfBpHDkE</td>\n",
              "      <td>SIÊU NHÂN NOOB TEAM TẬP 7 : BIỆT ĐỘI SIÊU NHÂN...</td>\n",
              "      <td>2021-05-19T10:00:17Z</td>\n",
              "      <td>https://i.ytimg.com/vi/JA-OfBpHDkE/hqdefault.jpg</td>\n",
              "      <td>1210425611</td>\n",
              "      <td>1570000</td>\n",
              "      <td>266191</td>\n",
              "      <td>9810</td>\n",
              "      <td>99</td>\n",
              "      <td>0.1695484076</td>\n",
              "    </tr>\n",
              "    <tr>\n",
              "      <th>2</th>\n",
              "      <td>UCmVzcQ5hXNecXAcbn6y7TEg</td>\n",
              "      <td>AKv4t7zUETQ</td>\n",
              "      <td>NEW SEASON RECORD in GEORGOPOL😱Pubg Mobile</td>\n",
              "      <td>2021-05-19T07:21:03Z</td>\n",
              "      <td>https://i.ytimg.com/vi/AKv4t7zUETQ/hqdefault.jpg</td>\n",
              "      <td>224876371</td>\n",
              "      <td>1510000</td>\n",
              "      <td>274465</td>\n",
              "      <td>19084</td>\n",
              "      <td>389</td>\n",
              "      <td>0.1817649007</td>\n",
              "    </tr>\n",
              "    <tr>\n",
              "      <th>3</th>\n",
              "      <td>UCMrvxKTx9hLhZcOvJkYOnAw</td>\n",
              "      <td>qI1_k8B7Iqc</td>\n",
              "      <td>Wasting 12,000 Diamond 💎 Of As Gaming Opening ...</td>\n",
              "      <td>2021-05-18T05:45:40Z</td>\n",
              "      <td>https://i.ytimg.com/vi/qI1_k8B7Iqc/hqdefault.jpg</td>\n",
              "      <td>1177472102</td>\n",
              "      <td>11300000</td>\n",
              "      <td>1183954</td>\n",
              "      <td>123438</td>\n",
              "      <td>3126</td>\n",
              "      <td>0.1047746903</td>\n",
              "    </tr>\n",
              "    <tr>\n",
              "      <th>4</th>\n",
              "      <td>UCTraT1P-qAimjAASU4wilTA</td>\n",
              "      <td>eSPyZH3AWp4</td>\n",
              "      <td>PUBG Mobile NOW | GTA Later - Kaztro Live</td>\n",
              "      <td>2021-05-19T14:42:38Z</td>\n",
              "      <td>https://i.ytimg.com/vi/eSPyZH3AWp4/hqdefault_l...</td>\n",
              "      <td>145447449</td>\n",
              "      <td>1060000</td>\n",
              "      <td>142174</td>\n",
              "      <td>20677</td>\n",
              "      <td>211</td>\n",
              "      <td>0.1341264151</td>\n",
              "    </tr>\n",
              "    <tr>\n",
              "      <th>5</th>\n",
              "      <td>UCVjCsq6PCd1RxrhkOfuGMsw</td>\n",
              "      <td>3nI4BBKVPIE</td>\n",
              "      <td>MINI GAME : CUỘC THI TRỞ THÀNH ĐẦU BẾP VIP PRO...</td>\n",
              "      <td>2021-05-18T10:00:02Z</td>\n",
              "      <td>https://i.ytimg.com/vi/3nI4BBKVPIE/hqdefault.jpg</td>\n",
              "      <td>1210425611</td>\n",
              "      <td>1570000</td>\n",
              "      <td>450694</td>\n",
              "      <td>7994</td>\n",
              "      <td>138</td>\n",
              "      <td>0.287066242</td>\n",
              "    </tr>\n",
              "    <tr>\n",
              "      <th>...</th>\n",
              "      <td>...</td>\n",
              "      <td>...</td>\n",
              "      <td>...</td>\n",
              "      <td>...</td>\n",
              "      <td>...</td>\n",
              "      <td>...</td>\n",
              "      <td>...</td>\n",
              "      <td>...</td>\n",
              "      <td>...</td>\n",
              "      <td>...</td>\n",
              "      <td>...</td>\n",
              "    </tr>\n",
              "    <tr>\n",
              "      <th>720</th>\n",
              "      <td>UC8Uyi1LGJ8sPGTPDjPahK5A</td>\n",
              "      <td>MEP_rHg8EYY</td>\n",
              "      <td>May 19, 2021</td>\n",
              "      <td>2021-05-19T14:15:52Z</td>\n",
              "      <td>https://i.ytimg.com/vi/MEP_rHg8EYY/hqdefault.jpg</td>\n",
              "      <td>0</td>\n",
              "      <td>0</td>\n",
              "      <td>0</td>\n",
              "      <td>0</td>\n",
              "      <td>0</td>\n",
              "      <td>#DIV/0!</td>\n",
              "    </tr>\n",
              "    <tr>\n",
              "      <th>721</th>\n",
              "      <td>UCa2dvdO1GJIyNSLX9KjwCRg</td>\n",
              "      <td>btm2U36t02A</td>\n",
              "      <td>VR News</td>\n",
              "      <td>2021-05-19T07:00:07Z</td>\n",
              "      <td>https://i.ytimg.com/vi/btm2U36t02A/hqdefault.jpg</td>\n",
              "      <td>57</td>\n",
              "      <td>3</td>\n",
              "      <td>10</td>\n",
              "      <td>2</td>\n",
              "      <td>0</td>\n",
              "      <td>#DIV/0!</td>\n",
              "    </tr>\n",
              "    <tr>\n",
              "      <th>722</th>\n",
              "      <td>UCFIhUhuHS20LoW6Tp7hwfIw</td>\n",
              "      <td>buGCupKL8Ws</td>\n",
              "      <td>First VR videos</td>\n",
              "      <td>2021-05-20T14:23:42Z</td>\n",
              "      <td>https://i.ytimg.com/vi/buGCupKL8Ws/hqdefault.jpg</td>\n",
              "      <td>4</td>\n",
              "      <td>0</td>\n",
              "      <td>7</td>\n",
              "      <td>1</td>\n",
              "      <td>0</td>\n",
              "      <td>2.333333333</td>\n",
              "    </tr>\n",
              "    <tr>\n",
              "      <th>723</th>\n",
              "      <td>UCWAmBKCOukkkjThIB3ZXK6A</td>\n",
              "      <td>P5ZLQ9_hjhQ</td>\n",
              "      <td>Screen players when they dont know what vr is</td>\n",
              "      <td>2021-05-18T19:19:42Z</td>\n",
              "      <td>https://i.ytimg.com/vi/P5ZLQ9_hjhQ/hqdefault.jpg</td>\n",
              "      <td>69</td>\n",
              "      <td>3</td>\n",
              "      <td>1</td>\n",
              "      <td>1</td>\n",
              "      <td>0</td>\n",
              "      <td>#DIV/0!</td>\n",
              "    </tr>\n",
              "    <tr>\n",
              "      <th>724</th>\n",
              "      <td>UCk5RYMZAdwNZXTvxeoMadhg</td>\n",
              "      <td>Qph_mmOab8Q</td>\n",
              "      <td>zero caliber reloaded</td>\n",
              "      <td>2021-05-20T13:18:19Z</td>\n",
              "      <td>https://i.ytimg.com/vi/Qph_mmOab8Q/hqdefault.jpg</td>\n",
              "      <td>1716</td>\n",
              "      <td>17</td>\n",
              "      <td>4</td>\n",
              "      <td>0</td>\n",
              "      <td>0</td>\n",
              "      <td>1.333333333</td>\n",
              "    </tr>\n",
              "  </tbody>\n",
              "</table>\n",
              "<p>6378 rows × 11 columns</p>\n",
              "</div>"
            ],
            "text/plain": [
              "0                   channelId      videoId  ... dislikeCount       Success\n",
              "1    UCVjCsq6PCd1RxrhkOfuGMsw  JA-OfBpHDkE  ...           99  0.1695484076\n",
              "2    UCmVzcQ5hXNecXAcbn6y7TEg  AKv4t7zUETQ  ...          389  0.1817649007\n",
              "3    UCMrvxKTx9hLhZcOvJkYOnAw  qI1_k8B7Iqc  ...         3126  0.1047746903\n",
              "4    UCTraT1P-qAimjAASU4wilTA  eSPyZH3AWp4  ...          211  0.1341264151\n",
              "5    UCVjCsq6PCd1RxrhkOfuGMsw  3nI4BBKVPIE  ...          138   0.287066242\n",
              "..                        ...          ...  ...          ...           ...\n",
              "720  UC8Uyi1LGJ8sPGTPDjPahK5A  MEP_rHg8EYY  ...            0       #DIV/0!\n",
              "721  UCa2dvdO1GJIyNSLX9KjwCRg  btm2U36t02A  ...            0       #DIV/0!\n",
              "722  UCFIhUhuHS20LoW6Tp7hwfIw  buGCupKL8Ws  ...            0   2.333333333\n",
              "723  UCWAmBKCOukkkjThIB3ZXK6A  P5ZLQ9_hjhQ  ...            0       #DIV/0!\n",
              "724  UCk5RYMZAdwNZXTvxeoMadhg  Qph_mmOab8Q  ...            0   1.333333333\n",
              "\n",
              "[6378 rows x 11 columns]"
            ]
          },
          "metadata": {
            "tags": []
          },
          "execution_count": 62
        }
      ]
    },
    {
      "cell_type": "markdown",
      "metadata": {
        "id": "a4Sd2VMfVHaO"
      },
      "source": [
        "Let's clean that data, make sure the numeric values are in fact floats"
      ]
    },
    {
      "cell_type": "code",
      "metadata": {
        "colab": {
          "base_uri": "https://localhost:8080/"
        },
        "id": "pJwkCM6rQ6uH",
        "outputId": "9f0430cf-8990-41ed-cd7e-e9571576fe35"
      },
      "source": [
        "df.info()"
      ],
      "execution_count": null,
      "outputs": [
        {
          "output_type": "stream",
          "text": [
            "<class 'pandas.core.frame.DataFrame'>\n",
            "Int64Index: 6378 entries, 1 to 724\n",
            "Data columns (total 11 columns):\n",
            " #   Column           Non-Null Count  Dtype \n",
            "---  ------           --------------  ----- \n",
            " 0   channelId        6378 non-null   object\n",
            " 1   videoId          6378 non-null   object\n",
            " 2   title            6378 non-null   object\n",
            " 3   publishedAt      6378 non-null   object\n",
            " 4   thumbnails       6378 non-null   object\n",
            " 5   viewCount_Chan   6378 non-null   object\n",
            " 6   subscriberCount  6378 non-null   object\n",
            " 7   viewCount_Vid    6378 non-null   object\n",
            " 8   likeCount        6378 non-null   object\n",
            " 9   dislikeCount     6378 non-null   object\n",
            " 10  Success          6378 non-null   object\n",
            "dtypes: object(11)\n",
            "memory usage: 597.9+ KB\n"
          ],
          "name": "stdout"
        }
      ]
    },
    {
      "cell_type": "code",
      "metadata": {
        "id": "ckFYGBM9TpKS"
      },
      "source": [
        "df['subscriberCount'] = pd.to_numeric(df['subscriberCount'], errors='coerce')\n",
        "df['viewCount_Chan'] = pd.to_numeric(df['viewCount_Chan'], errors='coerce')\n",
        "df['viewCount_Vid'] = pd.to_numeric(df['viewCount_Vid'], errors='coerce')\n",
        "df['likeCount'] = pd.to_numeric(df['likeCount'], errors='coerce')\n",
        "df['dislikeCount'] = pd.to_numeric(df['dislikeCount'], errors='coerce')\n",
        "df['Success'] = pd.to_numeric(df['Success'], errors='coerce')"
      ],
      "execution_count": null,
      "outputs": []
    },
    {
      "cell_type": "code",
      "metadata": {
        "colab": {
          "base_uri": "https://localhost:8080/"
        },
        "id": "mntrU_M9eQmU",
        "outputId": "6a64927e-616d-4289-fc85-00f23c779a5d"
      },
      "source": [
        "df.info()"
      ],
      "execution_count": null,
      "outputs": [
        {
          "output_type": "stream",
          "text": [
            "<class 'pandas.core.frame.DataFrame'>\n",
            "Int64Index: 6378 entries, 1 to 724\n",
            "Data columns (total 11 columns):\n",
            " #   Column           Non-Null Count  Dtype  \n",
            "---  ------           --------------  -----  \n",
            " 0   channelId        6378 non-null   object \n",
            " 1   videoId          6378 non-null   object \n",
            " 2   title            6378 non-null   object \n",
            " 3   publishedAt      6378 non-null   object \n",
            " 4   thumbnails       6378 non-null   object \n",
            " 5   viewCount_Chan   6378 non-null   int64  \n",
            " 6   subscriberCount  6006 non-null   float64\n",
            " 7   viewCount_Vid    5744 non-null   float64\n",
            " 8   likeCount        5704 non-null   float64\n",
            " 9   dislikeCount     5704 non-null   float64\n",
            " 10  Success          5906 non-null   float64\n",
            "dtypes: float64(5), int64(1), object(5)\n",
            "memory usage: 597.9+ KB\n"
          ],
          "name": "stdout"
        }
      ]
    },
    {
      "cell_type": "markdown",
      "metadata": {
        "id": "Sudw84KWm8DQ"
      },
      "source": [
        "Clean the data in general!"
      ]
    },
    {
      "cell_type": "code",
      "metadata": {
        "colab": {
          "base_uri": "https://localhost:8080/"
        },
        "id": "zilAqtKP2sQF",
        "outputId": "8174d816-9f28-4fb2-9885-63f30e42bcd8"
      },
      "source": [
        "df['title'].value_counts()"
      ],
      "execution_count": null,
      "outputs": [
        {
          "output_type": "execute_result",
          "data": {
            "text/plain": [
              "AR Gaming                                                                                           38\n",
              "AR GAMING                                                                                           36\n",
              "VR Gaming                                                                                           28\n",
              "MY.GAMES stream                                                                                     22\n",
              "VR GAMING                                                                                           20\n",
              "                                                                                                    ..\n",
              "Game Music Festival 2020 - THE SYMPHONY OF SIN (live stream)                                         1\n",
              "MINI GAME : GOLEM HIDE AND SEEK ** THỬ THÁCH T GAMING VÀ NOOB TEAM CHƠI TRỐN TÌM GOLEM MINECRAFT     1\n",
              "How To Add Funds to PS5 Wallet &amp; Add Money Fast! (Easiest Way!)                                  1\n",
              "KAWAL MOBIL PRESIDEN - GTA 5 RolePlay Indonesia #4                                                   1\n",
              "Ranking 100 Nintendo Switch Games from BEST to WORST!                                                1\n",
              "Name: title, Length: 5142, dtype: int64"
            ]
          },
          "metadata": {
            "tags": []
          },
          "execution_count": 66
        }
      ]
    },
    {
      "cell_type": "code",
      "metadata": {
        "colab": {
          "base_uri": "https://localhost:8080/",
          "height": 881
        },
        "id": "u2-OFnZn4mQG",
        "outputId": "2af65bc9-e4f4-4df1-f544-29c94488cc24"
      },
      "source": [
        "df[df['title'].str.contains('AR Gaming')]\n",
        "#Though same title, they are different videos."
      ],
      "execution_count": null,
      "outputs": [
        {
          "output_type": "execute_result",
          "data": {
            "text/html": [
              "<div>\n",
              "<style scoped>\n",
              "    .dataframe tbody tr th:only-of-type {\n",
              "        vertical-align: middle;\n",
              "    }\n",
              "\n",
              "    .dataframe tbody tr th {\n",
              "        vertical-align: top;\n",
              "    }\n",
              "\n",
              "    .dataframe thead th {\n",
              "        text-align: right;\n",
              "    }\n",
              "</style>\n",
              "<table border=\"1\" class=\"dataframe\">\n",
              "  <thead>\n",
              "    <tr style=\"text-align: right;\">\n",
              "      <th></th>\n",
              "      <th>channelId</th>\n",
              "      <th>videoId</th>\n",
              "      <th>title</th>\n",
              "      <th>publishedAt</th>\n",
              "      <th>thumbnails</th>\n",
              "      <th>viewCount_Chan</th>\n",
              "      <th>subscriberCount</th>\n",
              "      <th>viewCount_Vid</th>\n",
              "      <th>likeCount</th>\n",
              "      <th>dislikeCount</th>\n",
              "      <th>Success</th>\n",
              "    </tr>\n",
              "  </thead>\n",
              "  <tbody>\n",
              "    <tr>\n",
              "      <th>5</th>\n",
              "      <td>UCiWJJha_PgNuQILTLofLPHg</td>\n",
              "      <td></td>\n",
              "      <td>AR Gaming</td>\n",
              "      <td>2021-05-20T09:56:11Z</td>\n",
              "      <td>https://yt3.ggpht.com/ytc/AAUvwnjY0MUm_VBZME2b...</td>\n",
              "      <td>0</td>\n",
              "      <td>7.0</td>\n",
              "      <td>NaN</td>\n",
              "      <td>NaN</td>\n",
              "      <td>NaN</td>\n",
              "      <td>0.000000</td>\n",
              "    </tr>\n",
              "    <tr>\n",
              "      <th>7</th>\n",
              "      <td>UCXe7CerLO6u8VuRT3rg3W0g</td>\n",
              "      <td></td>\n",
              "      <td>AR Gaming</td>\n",
              "      <td>2021-05-20T10:01:22Z</td>\n",
              "      <td>https://yt3.ggpht.com/ytc/AAUvwnjHZEE7W_E_MneL...</td>\n",
              "      <td>0</td>\n",
              "      <td>2.0</td>\n",
              "      <td>NaN</td>\n",
              "      <td>NaN</td>\n",
              "      <td>NaN</td>\n",
              "      <td>0.000000</td>\n",
              "    </tr>\n",
              "    <tr>\n",
              "      <th>8</th>\n",
              "      <td>UCH28uhUIFGftqZvrx-BIxbQ</td>\n",
              "      <td>Rz5d3A85oME</td>\n",
              "      <td>AR Gaming FreeFire Classic squad rank booyah m...</td>\n",
              "      <td>2020-07-21T07:28:27Z</td>\n",
              "      <td>https://i.ytimg.com/vi/Rz5d3A85oME/hqdefault.jpg</td>\n",
              "      <td>43382</td>\n",
              "      <td>3290.0</td>\n",
              "      <td>36739.0</td>\n",
              "      <td>2037.0</td>\n",
              "      <td>165.0</td>\n",
              "      <td>18369.500000</td>\n",
              "    </tr>\n",
              "    <tr>\n",
              "      <th>10</th>\n",
              "      <td>UCkBL2BCQjZTQ6aBA1wnsiCQ</td>\n",
              "      <td></td>\n",
              "      <td>AR Gaming</td>\n",
              "      <td>2019-03-03T10:49:25Z</td>\n",
              "      <td>https://yt3.ggpht.com/ytc/AAUvwnhVJu0U2phgcGCr...</td>\n",
              "      <td>304</td>\n",
              "      <td>15.0</td>\n",
              "      <td>NaN</td>\n",
              "      <td>NaN</td>\n",
              "      <td>NaN</td>\n",
              "      <td>0.000000</td>\n",
              "    </tr>\n",
              "    <tr>\n",
              "      <th>14</th>\n",
              "      <td>UCii9Y4OvXoODJYR7GOorhow</td>\n",
              "      <td></td>\n",
              "      <td>AR Gaming</td>\n",
              "      <td>2021-02-19T14:37:35Z</td>\n",
              "      <td>https://yt3.ggpht.com/ytc/AAUvwnh3Vg2yklTbZtt4...</td>\n",
              "      <td>0</td>\n",
              "      <td>3.0</td>\n",
              "      <td>NaN</td>\n",
              "      <td>NaN</td>\n",
              "      <td>NaN</td>\n",
              "      <td>0.000000</td>\n",
              "    </tr>\n",
              "    <tr>\n",
              "      <th>...</th>\n",
              "      <td>...</td>\n",
              "      <td>...</td>\n",
              "      <td>...</td>\n",
              "      <td>...</td>\n",
              "      <td>...</td>\n",
              "      <td>...</td>\n",
              "      <td>...</td>\n",
              "      <td>...</td>\n",
              "      <td>...</td>\n",
              "      <td>...</td>\n",
              "      <td>...</td>\n",
              "    </tr>\n",
              "    <tr>\n",
              "      <th>681</th>\n",
              "      <td>UCaUnHsf9MgvOP2-DBs-2btw</td>\n",
              "      <td>RoD8zSqZ2vk</td>\n",
              "      <td>AR Gaming intro</td>\n",
              "      <td>2021-05-19T20:08:06Z</td>\n",
              "      <td>https://i.ytimg.com/vi/RoD8zSqZ2vk/hqdefault.jpg</td>\n",
              "      <td>0</td>\n",
              "      <td>1.0</td>\n",
              "      <td>8.0</td>\n",
              "      <td>0.0</td>\n",
              "      <td>0.0</td>\n",
              "      <td>NaN</td>\n",
              "    </tr>\n",
              "    <tr>\n",
              "      <th>682</th>\n",
              "      <td>UCvp0i3hPI7_FXxwn0_4x3sg</td>\n",
              "      <td>u0dBye5mxUs</td>\n",
              "      <td>Free Fire Future&amp;#39;s Gun Screen 2021 AR Gaming</td>\n",
              "      <td>2021-05-19T18:02:45Z</td>\n",
              "      <td>https://i.ytimg.com/vi/u0dBye5mxUs/hqdefault.jpg</td>\n",
              "      <td>9190</td>\n",
              "      <td>NaN</td>\n",
              "      <td>5.0</td>\n",
              "      <td>0.0</td>\n",
              "      <td>0.0</td>\n",
              "      <td>5.000000</td>\n",
              "    </tr>\n",
              "    <tr>\n",
              "      <th>686</th>\n",
              "      <td>UCFkVOoCNMEi6kZddd-w68tg</td>\n",
              "      <td>-1YOMsLsheY</td>\n",
              "      <td>Full Rush Gameplay with Teamcode || AR Gaming ...</td>\n",
              "      <td>2021-05-20T05:19:13Z</td>\n",
              "      <td>https://i.ytimg.com/vi/-1YOMsLsheY/hqdefault.jpg</td>\n",
              "      <td>6912</td>\n",
              "      <td>291.0</td>\n",
              "      <td>76.0</td>\n",
              "      <td>20.0</td>\n",
              "      <td>3.0</td>\n",
              "      <td>19.000000</td>\n",
              "    </tr>\n",
              "    <tr>\n",
              "      <th>687</th>\n",
              "      <td>UCFkVOoCNMEi6kZddd-w68tg</td>\n",
              "      <td>3yWXIhbrJPk</td>\n",
              "      <td>Solo Vs Squad Gameplay || AR Gaming || Garena ...</td>\n",
              "      <td>2021-05-19T17:38:24Z</td>\n",
              "      <td>https://i.ytimg.com/vi/3yWXIhbrJPk/hqdefault.jpg</td>\n",
              "      <td>6912</td>\n",
              "      <td>291.0</td>\n",
              "      <td>12.0</td>\n",
              "      <td>11.0</td>\n",
              "      <td>1.0</td>\n",
              "      <td>0.041237</td>\n",
              "    </tr>\n",
              "    <tr>\n",
              "      <th>691</th>\n",
              "      <td>UCvp0i3hPI7_FXxwn0_4x3sg</td>\n",
              "      <td>Nacd7BJWe6w</td>\n",
              "      <td>Raistar OP Hadeshort Free Fire Part--4 #Shorts...</td>\n",
              "      <td>2021-05-20T13:52:09Z</td>\n",
              "      <td>https://i.ytimg.com/vi/Nacd7BJWe6w/hqdefault.jpg</td>\n",
              "      <td>9190</td>\n",
              "      <td>NaN</td>\n",
              "      <td>1.0</td>\n",
              "      <td>1.0</td>\n",
              "      <td>0.0</td>\n",
              "      <td>0.058824</td>\n",
              "    </tr>\n",
              "  </tbody>\n",
              "</table>\n",
              "<p>175 rows × 11 columns</p>\n",
              "</div>"
            ],
            "text/plain": [
              "0                   channelId      videoId  ... dislikeCount       Success\n",
              "5    UCiWJJha_PgNuQILTLofLPHg               ...          NaN      0.000000\n",
              "7    UCXe7CerLO6u8VuRT3rg3W0g               ...          NaN      0.000000\n",
              "8    UCH28uhUIFGftqZvrx-BIxbQ  Rz5d3A85oME  ...        165.0  18369.500000\n",
              "10   UCkBL2BCQjZTQ6aBA1wnsiCQ               ...          NaN      0.000000\n",
              "14   UCii9Y4OvXoODJYR7GOorhow               ...          NaN      0.000000\n",
              "..                        ...          ...  ...          ...           ...\n",
              "681  UCaUnHsf9MgvOP2-DBs-2btw  RoD8zSqZ2vk  ...          0.0           NaN\n",
              "682  UCvp0i3hPI7_FXxwn0_4x3sg  u0dBye5mxUs  ...          0.0      5.000000\n",
              "686  UCFkVOoCNMEi6kZddd-w68tg  -1YOMsLsheY  ...          3.0     19.000000\n",
              "687  UCFkVOoCNMEi6kZddd-w68tg  3yWXIhbrJPk  ...          1.0      0.041237\n",
              "691  UCvp0i3hPI7_FXxwn0_4x3sg  Nacd7BJWe6w  ...          0.0      0.058824\n",
              "\n",
              "[175 rows x 11 columns]"
            ]
          },
          "metadata": {
            "tags": []
          },
          "execution_count": 67
        }
      ]
    },
    {
      "cell_type": "code",
      "metadata": {
        "colab": {
          "base_uri": "https://localhost:8080/"
        },
        "id": "T0Z668ANmCpZ",
        "outputId": "cf6d977a-6d58-4822-91b0-341b573a998b"
      },
      "source": [
        "print(len(df.loc[df['viewCount_Vid']<80000])) #how many videos have less than 10,000 views\n",
        "print(len(df.loc[df['viewCount_Vid']>80000])) #how many videos have more than 10,000 views"
      ],
      "execution_count": null,
      "outputs": [
        {
          "output_type": "stream",
          "text": [
            "2890\n",
            "2854\n"
          ],
          "name": "stdout"
        }
      ]
    },
    {
      "cell_type": "code",
      "metadata": {
        "id": "ZQ206sz6qR96"
      },
      "source": [
        "#adding category to this\n",
        "Target = []\n",
        "for i in df[\"viewCount_Vid\"]:\n",
        "  if i < 80000:\n",
        "    Target.append(\"Bad\")\n",
        "  elif i > 80000:\n",
        "    Target.append(\"Good\")\n",
        "  else:\n",
        "    Target.append(\"no\")"
      ],
      "execution_count": null,
      "outputs": []
    },
    {
      "cell_type": "code",
      "metadata": {
        "id": "yk6qODhTj2p5"
      },
      "source": [
        "df[\"Performance\"] = Target"
      ],
      "execution_count": null,
      "outputs": []
    },
    {
      "cell_type": "code",
      "metadata": {
        "colab": {
          "base_uri": "https://localhost:8080/"
        },
        "id": "nbPJ5Nsa1UU1",
        "outputId": "a6fb9bcb-cc98-47bf-8092-1a7c38bec5dd"
      },
      "source": [
        "df[\"Performance\"].value_counts()"
      ],
      "execution_count": null,
      "outputs": [
        {
          "output_type": "execute_result",
          "data": {
            "text/plain": [
              "Bad     2890\n",
              "Good    2854\n",
              "no       634\n",
              "Name: Performance, dtype: int64"
            ]
          },
          "metadata": {
            "tags": []
          },
          "execution_count": 71
        }
      ]
    },
    {
      "cell_type": "code",
      "metadata": {
        "colab": {
          "base_uri": "https://localhost:8080/",
          "height": 915
        },
        "id": "-5Uf6rY72x7x",
        "outputId": "9c92ba2d-edb8-4f7a-ade9-905d24175a7e"
      },
      "source": [
        "df = df[df[\"Performance\"] != \"no\"]\n",
        "df"
      ],
      "execution_count": null,
      "outputs": [
        {
          "output_type": "execute_result",
          "data": {
            "text/html": [
              "<div>\n",
              "<style scoped>\n",
              "    .dataframe tbody tr th:only-of-type {\n",
              "        vertical-align: middle;\n",
              "    }\n",
              "\n",
              "    .dataframe tbody tr th {\n",
              "        vertical-align: top;\n",
              "    }\n",
              "\n",
              "    .dataframe thead th {\n",
              "        text-align: right;\n",
              "    }\n",
              "</style>\n",
              "<table border=\"1\" class=\"dataframe\">\n",
              "  <thead>\n",
              "    <tr style=\"text-align: right;\">\n",
              "      <th></th>\n",
              "      <th>channelId</th>\n",
              "      <th>videoId</th>\n",
              "      <th>title</th>\n",
              "      <th>publishedAt</th>\n",
              "      <th>thumbnails</th>\n",
              "      <th>viewCount_Chan</th>\n",
              "      <th>subscriberCount</th>\n",
              "      <th>viewCount_Vid</th>\n",
              "      <th>likeCount</th>\n",
              "      <th>dislikeCount</th>\n",
              "      <th>Success</th>\n",
              "      <th>Performance</th>\n",
              "    </tr>\n",
              "  </thead>\n",
              "  <tbody>\n",
              "    <tr>\n",
              "      <th>1</th>\n",
              "      <td>UCVjCsq6PCd1RxrhkOfuGMsw</td>\n",
              "      <td>JA-OfBpHDkE</td>\n",
              "      <td>SIÊU NHÂN NOOB TEAM TẬP 7 : BIỆT ĐỘI SIÊU NHÂN...</td>\n",
              "      <td>2021-05-19T10:00:17Z</td>\n",
              "      <td>https://i.ytimg.com/vi/JA-OfBpHDkE/hqdefault.jpg</td>\n",
              "      <td>1210425611</td>\n",
              "      <td>1570000.0</td>\n",
              "      <td>266191.0</td>\n",
              "      <td>9810.0</td>\n",
              "      <td>99.0</td>\n",
              "      <td>0.169548</td>\n",
              "      <td>Good</td>\n",
              "    </tr>\n",
              "    <tr>\n",
              "      <th>2</th>\n",
              "      <td>UCmVzcQ5hXNecXAcbn6y7TEg</td>\n",
              "      <td>AKv4t7zUETQ</td>\n",
              "      <td>NEW SEASON RECORD in GEORGOPOL😱Pubg Mobile</td>\n",
              "      <td>2021-05-19T07:21:03Z</td>\n",
              "      <td>https://i.ytimg.com/vi/AKv4t7zUETQ/hqdefault.jpg</td>\n",
              "      <td>224876371</td>\n",
              "      <td>1510000.0</td>\n",
              "      <td>274465.0</td>\n",
              "      <td>19084.0</td>\n",
              "      <td>389.0</td>\n",
              "      <td>0.181765</td>\n",
              "      <td>Good</td>\n",
              "    </tr>\n",
              "    <tr>\n",
              "      <th>3</th>\n",
              "      <td>UCMrvxKTx9hLhZcOvJkYOnAw</td>\n",
              "      <td>qI1_k8B7Iqc</td>\n",
              "      <td>Wasting 12,000 Diamond 💎 Of As Gaming Opening ...</td>\n",
              "      <td>2021-05-18T05:45:40Z</td>\n",
              "      <td>https://i.ytimg.com/vi/qI1_k8B7Iqc/hqdefault.jpg</td>\n",
              "      <td>1177472102</td>\n",
              "      <td>11300000.0</td>\n",
              "      <td>1183954.0</td>\n",
              "      <td>123438.0</td>\n",
              "      <td>3126.0</td>\n",
              "      <td>0.104775</td>\n",
              "      <td>Good</td>\n",
              "    </tr>\n",
              "    <tr>\n",
              "      <th>4</th>\n",
              "      <td>UCTraT1P-qAimjAASU4wilTA</td>\n",
              "      <td>eSPyZH3AWp4</td>\n",
              "      <td>PUBG Mobile NOW | GTA Later - Kaztro Live</td>\n",
              "      <td>2021-05-19T14:42:38Z</td>\n",
              "      <td>https://i.ytimg.com/vi/eSPyZH3AWp4/hqdefault_l...</td>\n",
              "      <td>145447449</td>\n",
              "      <td>1060000.0</td>\n",
              "      <td>142174.0</td>\n",
              "      <td>20677.0</td>\n",
              "      <td>211.0</td>\n",
              "      <td>0.134126</td>\n",
              "      <td>Good</td>\n",
              "    </tr>\n",
              "    <tr>\n",
              "      <th>5</th>\n",
              "      <td>UCVjCsq6PCd1RxrhkOfuGMsw</td>\n",
              "      <td>3nI4BBKVPIE</td>\n",
              "      <td>MINI GAME : CUỘC THI TRỞ THÀNH ĐẦU BẾP VIP PRO...</td>\n",
              "      <td>2021-05-18T10:00:02Z</td>\n",
              "      <td>https://i.ytimg.com/vi/3nI4BBKVPIE/hqdefault.jpg</td>\n",
              "      <td>1210425611</td>\n",
              "      <td>1570000.0</td>\n",
              "      <td>450694.0</td>\n",
              "      <td>7994.0</td>\n",
              "      <td>138.0</td>\n",
              "      <td>0.287066</td>\n",
              "      <td>Good</td>\n",
              "    </tr>\n",
              "    <tr>\n",
              "      <th>...</th>\n",
              "      <td>...</td>\n",
              "      <td>...</td>\n",
              "      <td>...</td>\n",
              "      <td>...</td>\n",
              "      <td>...</td>\n",
              "      <td>...</td>\n",
              "      <td>...</td>\n",
              "      <td>...</td>\n",
              "      <td>...</td>\n",
              "      <td>...</td>\n",
              "      <td>...</td>\n",
              "      <td>...</td>\n",
              "    </tr>\n",
              "    <tr>\n",
              "      <th>720</th>\n",
              "      <td>UC8Uyi1LGJ8sPGTPDjPahK5A</td>\n",
              "      <td>MEP_rHg8EYY</td>\n",
              "      <td>May 19, 2021</td>\n",
              "      <td>2021-05-19T14:15:52Z</td>\n",
              "      <td>https://i.ytimg.com/vi/MEP_rHg8EYY/hqdefault.jpg</td>\n",
              "      <td>0</td>\n",
              "      <td>0.0</td>\n",
              "      <td>0.0</td>\n",
              "      <td>0.0</td>\n",
              "      <td>0.0</td>\n",
              "      <td>NaN</td>\n",
              "      <td>Bad</td>\n",
              "    </tr>\n",
              "    <tr>\n",
              "      <th>721</th>\n",
              "      <td>UCa2dvdO1GJIyNSLX9KjwCRg</td>\n",
              "      <td>btm2U36t02A</td>\n",
              "      <td>VR News</td>\n",
              "      <td>2021-05-19T07:00:07Z</td>\n",
              "      <td>https://i.ytimg.com/vi/btm2U36t02A/hqdefault.jpg</td>\n",
              "      <td>57</td>\n",
              "      <td>3.0</td>\n",
              "      <td>10.0</td>\n",
              "      <td>2.0</td>\n",
              "      <td>0.0</td>\n",
              "      <td>NaN</td>\n",
              "      <td>Bad</td>\n",
              "    </tr>\n",
              "    <tr>\n",
              "      <th>722</th>\n",
              "      <td>UCFIhUhuHS20LoW6Tp7hwfIw</td>\n",
              "      <td>buGCupKL8Ws</td>\n",
              "      <td>First VR videos</td>\n",
              "      <td>2021-05-20T14:23:42Z</td>\n",
              "      <td>https://i.ytimg.com/vi/buGCupKL8Ws/hqdefault.jpg</td>\n",
              "      <td>4</td>\n",
              "      <td>0.0</td>\n",
              "      <td>7.0</td>\n",
              "      <td>1.0</td>\n",
              "      <td>0.0</td>\n",
              "      <td>2.333333</td>\n",
              "      <td>Bad</td>\n",
              "    </tr>\n",
              "    <tr>\n",
              "      <th>723</th>\n",
              "      <td>UCWAmBKCOukkkjThIB3ZXK6A</td>\n",
              "      <td>P5ZLQ9_hjhQ</td>\n",
              "      <td>Screen players when they dont know what vr is</td>\n",
              "      <td>2021-05-18T19:19:42Z</td>\n",
              "      <td>https://i.ytimg.com/vi/P5ZLQ9_hjhQ/hqdefault.jpg</td>\n",
              "      <td>69</td>\n",
              "      <td>3.0</td>\n",
              "      <td>1.0</td>\n",
              "      <td>1.0</td>\n",
              "      <td>0.0</td>\n",
              "      <td>NaN</td>\n",
              "      <td>Bad</td>\n",
              "    </tr>\n",
              "    <tr>\n",
              "      <th>724</th>\n",
              "      <td>UCk5RYMZAdwNZXTvxeoMadhg</td>\n",
              "      <td>Qph_mmOab8Q</td>\n",
              "      <td>zero caliber reloaded</td>\n",
              "      <td>2021-05-20T13:18:19Z</td>\n",
              "      <td>https://i.ytimg.com/vi/Qph_mmOab8Q/hqdefault.jpg</td>\n",
              "      <td>1716</td>\n",
              "      <td>17.0</td>\n",
              "      <td>4.0</td>\n",
              "      <td>0.0</td>\n",
              "      <td>0.0</td>\n",
              "      <td>1.333333</td>\n",
              "      <td>Bad</td>\n",
              "    </tr>\n",
              "  </tbody>\n",
              "</table>\n",
              "<p>5744 rows × 12 columns</p>\n",
              "</div>"
            ],
            "text/plain": [
              "0                   channelId      videoId  ...   Success Performance\n",
              "1    UCVjCsq6PCd1RxrhkOfuGMsw  JA-OfBpHDkE  ...  0.169548        Good\n",
              "2    UCmVzcQ5hXNecXAcbn6y7TEg  AKv4t7zUETQ  ...  0.181765        Good\n",
              "3    UCMrvxKTx9hLhZcOvJkYOnAw  qI1_k8B7Iqc  ...  0.104775        Good\n",
              "4    UCTraT1P-qAimjAASU4wilTA  eSPyZH3AWp4  ...  0.134126        Good\n",
              "5    UCVjCsq6PCd1RxrhkOfuGMsw  3nI4BBKVPIE  ...  0.287066        Good\n",
              "..                        ...          ...  ...       ...         ...\n",
              "720  UC8Uyi1LGJ8sPGTPDjPahK5A  MEP_rHg8EYY  ...       NaN         Bad\n",
              "721  UCa2dvdO1GJIyNSLX9KjwCRg  btm2U36t02A  ...       NaN         Bad\n",
              "722  UCFIhUhuHS20LoW6Tp7hwfIw  buGCupKL8Ws  ...  2.333333         Bad\n",
              "723  UCWAmBKCOukkkjThIB3ZXK6A  P5ZLQ9_hjhQ  ...       NaN         Bad\n",
              "724  UCk5RYMZAdwNZXTvxeoMadhg  Qph_mmOab8Q  ...  1.333333         Bad\n",
              "\n",
              "[5744 rows x 12 columns]"
            ]
          },
          "metadata": {
            "tags": []
          },
          "execution_count": 72
        }
      ]
    },
    {
      "cell_type": "code",
      "metadata": {
        "id": "PmUeBfQB5z9I",
        "colab": {
          "base_uri": "https://localhost:8080/",
          "height": 915
        },
        "outputId": "d1e9a540-c3c3-48d1-8d2b-d64c2c82851b"
      },
      "source": [
        "#we make sure that data point we use for the model have the target value\n",
        "df.dropna(subset=['title','thumbnails', 'Performance']) "
      ],
      "execution_count": null,
      "outputs": [
        {
          "output_type": "execute_result",
          "data": {
            "text/html": [
              "<div>\n",
              "<style scoped>\n",
              "    .dataframe tbody tr th:only-of-type {\n",
              "        vertical-align: middle;\n",
              "    }\n",
              "\n",
              "    .dataframe tbody tr th {\n",
              "        vertical-align: top;\n",
              "    }\n",
              "\n",
              "    .dataframe thead th {\n",
              "        text-align: right;\n",
              "    }\n",
              "</style>\n",
              "<table border=\"1\" class=\"dataframe\">\n",
              "  <thead>\n",
              "    <tr style=\"text-align: right;\">\n",
              "      <th></th>\n",
              "      <th>channelId</th>\n",
              "      <th>videoId</th>\n",
              "      <th>title</th>\n",
              "      <th>publishedAt</th>\n",
              "      <th>thumbnails</th>\n",
              "      <th>viewCount_Chan</th>\n",
              "      <th>subscriberCount</th>\n",
              "      <th>viewCount_Vid</th>\n",
              "      <th>likeCount</th>\n",
              "      <th>dislikeCount</th>\n",
              "      <th>Success</th>\n",
              "      <th>Performance</th>\n",
              "    </tr>\n",
              "  </thead>\n",
              "  <tbody>\n",
              "    <tr>\n",
              "      <th>1</th>\n",
              "      <td>UCVjCsq6PCd1RxrhkOfuGMsw</td>\n",
              "      <td>JA-OfBpHDkE</td>\n",
              "      <td>SIÊU NHÂN NOOB TEAM TẬP 7 : BIỆT ĐỘI SIÊU NHÂN...</td>\n",
              "      <td>2021-05-19T10:00:17Z</td>\n",
              "      <td>https://i.ytimg.com/vi/JA-OfBpHDkE/hqdefault.jpg</td>\n",
              "      <td>1210425611</td>\n",
              "      <td>1570000.0</td>\n",
              "      <td>266191.0</td>\n",
              "      <td>9810.0</td>\n",
              "      <td>99.0</td>\n",
              "      <td>0.169548</td>\n",
              "      <td>Good</td>\n",
              "    </tr>\n",
              "    <tr>\n",
              "      <th>2</th>\n",
              "      <td>UCmVzcQ5hXNecXAcbn6y7TEg</td>\n",
              "      <td>AKv4t7zUETQ</td>\n",
              "      <td>NEW SEASON RECORD in GEORGOPOL😱Pubg Mobile</td>\n",
              "      <td>2021-05-19T07:21:03Z</td>\n",
              "      <td>https://i.ytimg.com/vi/AKv4t7zUETQ/hqdefault.jpg</td>\n",
              "      <td>224876371</td>\n",
              "      <td>1510000.0</td>\n",
              "      <td>274465.0</td>\n",
              "      <td>19084.0</td>\n",
              "      <td>389.0</td>\n",
              "      <td>0.181765</td>\n",
              "      <td>Good</td>\n",
              "    </tr>\n",
              "    <tr>\n",
              "      <th>3</th>\n",
              "      <td>UCMrvxKTx9hLhZcOvJkYOnAw</td>\n",
              "      <td>qI1_k8B7Iqc</td>\n",
              "      <td>Wasting 12,000 Diamond 💎 Of As Gaming Opening ...</td>\n",
              "      <td>2021-05-18T05:45:40Z</td>\n",
              "      <td>https://i.ytimg.com/vi/qI1_k8B7Iqc/hqdefault.jpg</td>\n",
              "      <td>1177472102</td>\n",
              "      <td>11300000.0</td>\n",
              "      <td>1183954.0</td>\n",
              "      <td>123438.0</td>\n",
              "      <td>3126.0</td>\n",
              "      <td>0.104775</td>\n",
              "      <td>Good</td>\n",
              "    </tr>\n",
              "    <tr>\n",
              "      <th>4</th>\n",
              "      <td>UCTraT1P-qAimjAASU4wilTA</td>\n",
              "      <td>eSPyZH3AWp4</td>\n",
              "      <td>PUBG Mobile NOW | GTA Later - Kaztro Live</td>\n",
              "      <td>2021-05-19T14:42:38Z</td>\n",
              "      <td>https://i.ytimg.com/vi/eSPyZH3AWp4/hqdefault_l...</td>\n",
              "      <td>145447449</td>\n",
              "      <td>1060000.0</td>\n",
              "      <td>142174.0</td>\n",
              "      <td>20677.0</td>\n",
              "      <td>211.0</td>\n",
              "      <td>0.134126</td>\n",
              "      <td>Good</td>\n",
              "    </tr>\n",
              "    <tr>\n",
              "      <th>5</th>\n",
              "      <td>UCVjCsq6PCd1RxrhkOfuGMsw</td>\n",
              "      <td>3nI4BBKVPIE</td>\n",
              "      <td>MINI GAME : CUỘC THI TRỞ THÀNH ĐẦU BẾP VIP PRO...</td>\n",
              "      <td>2021-05-18T10:00:02Z</td>\n",
              "      <td>https://i.ytimg.com/vi/3nI4BBKVPIE/hqdefault.jpg</td>\n",
              "      <td>1210425611</td>\n",
              "      <td>1570000.0</td>\n",
              "      <td>450694.0</td>\n",
              "      <td>7994.0</td>\n",
              "      <td>138.0</td>\n",
              "      <td>0.287066</td>\n",
              "      <td>Good</td>\n",
              "    </tr>\n",
              "    <tr>\n",
              "      <th>...</th>\n",
              "      <td>...</td>\n",
              "      <td>...</td>\n",
              "      <td>...</td>\n",
              "      <td>...</td>\n",
              "      <td>...</td>\n",
              "      <td>...</td>\n",
              "      <td>...</td>\n",
              "      <td>...</td>\n",
              "      <td>...</td>\n",
              "      <td>...</td>\n",
              "      <td>...</td>\n",
              "      <td>...</td>\n",
              "    </tr>\n",
              "    <tr>\n",
              "      <th>720</th>\n",
              "      <td>UC8Uyi1LGJ8sPGTPDjPahK5A</td>\n",
              "      <td>MEP_rHg8EYY</td>\n",
              "      <td>May 19, 2021</td>\n",
              "      <td>2021-05-19T14:15:52Z</td>\n",
              "      <td>https://i.ytimg.com/vi/MEP_rHg8EYY/hqdefault.jpg</td>\n",
              "      <td>0</td>\n",
              "      <td>0.0</td>\n",
              "      <td>0.0</td>\n",
              "      <td>0.0</td>\n",
              "      <td>0.0</td>\n",
              "      <td>NaN</td>\n",
              "      <td>Bad</td>\n",
              "    </tr>\n",
              "    <tr>\n",
              "      <th>721</th>\n",
              "      <td>UCa2dvdO1GJIyNSLX9KjwCRg</td>\n",
              "      <td>btm2U36t02A</td>\n",
              "      <td>VR News</td>\n",
              "      <td>2021-05-19T07:00:07Z</td>\n",
              "      <td>https://i.ytimg.com/vi/btm2U36t02A/hqdefault.jpg</td>\n",
              "      <td>57</td>\n",
              "      <td>3.0</td>\n",
              "      <td>10.0</td>\n",
              "      <td>2.0</td>\n",
              "      <td>0.0</td>\n",
              "      <td>NaN</td>\n",
              "      <td>Bad</td>\n",
              "    </tr>\n",
              "    <tr>\n",
              "      <th>722</th>\n",
              "      <td>UCFIhUhuHS20LoW6Tp7hwfIw</td>\n",
              "      <td>buGCupKL8Ws</td>\n",
              "      <td>First VR videos</td>\n",
              "      <td>2021-05-20T14:23:42Z</td>\n",
              "      <td>https://i.ytimg.com/vi/buGCupKL8Ws/hqdefault.jpg</td>\n",
              "      <td>4</td>\n",
              "      <td>0.0</td>\n",
              "      <td>7.0</td>\n",
              "      <td>1.0</td>\n",
              "      <td>0.0</td>\n",
              "      <td>2.333333</td>\n",
              "      <td>Bad</td>\n",
              "    </tr>\n",
              "    <tr>\n",
              "      <th>723</th>\n",
              "      <td>UCWAmBKCOukkkjThIB3ZXK6A</td>\n",
              "      <td>P5ZLQ9_hjhQ</td>\n",
              "      <td>Screen players when they dont know what vr is</td>\n",
              "      <td>2021-05-18T19:19:42Z</td>\n",
              "      <td>https://i.ytimg.com/vi/P5ZLQ9_hjhQ/hqdefault.jpg</td>\n",
              "      <td>69</td>\n",
              "      <td>3.0</td>\n",
              "      <td>1.0</td>\n",
              "      <td>1.0</td>\n",
              "      <td>0.0</td>\n",
              "      <td>NaN</td>\n",
              "      <td>Bad</td>\n",
              "    </tr>\n",
              "    <tr>\n",
              "      <th>724</th>\n",
              "      <td>UCk5RYMZAdwNZXTvxeoMadhg</td>\n",
              "      <td>Qph_mmOab8Q</td>\n",
              "      <td>zero caliber reloaded</td>\n",
              "      <td>2021-05-20T13:18:19Z</td>\n",
              "      <td>https://i.ytimg.com/vi/Qph_mmOab8Q/hqdefault.jpg</td>\n",
              "      <td>1716</td>\n",
              "      <td>17.0</td>\n",
              "      <td>4.0</td>\n",
              "      <td>0.0</td>\n",
              "      <td>0.0</td>\n",
              "      <td>1.333333</td>\n",
              "      <td>Bad</td>\n",
              "    </tr>\n",
              "  </tbody>\n",
              "</table>\n",
              "<p>5744 rows × 12 columns</p>\n",
              "</div>"
            ],
            "text/plain": [
              "0                   channelId      videoId  ...   Success Performance\n",
              "1    UCVjCsq6PCd1RxrhkOfuGMsw  JA-OfBpHDkE  ...  0.169548        Good\n",
              "2    UCmVzcQ5hXNecXAcbn6y7TEg  AKv4t7zUETQ  ...  0.181765        Good\n",
              "3    UCMrvxKTx9hLhZcOvJkYOnAw  qI1_k8B7Iqc  ...  0.104775        Good\n",
              "4    UCTraT1P-qAimjAASU4wilTA  eSPyZH3AWp4  ...  0.134126        Good\n",
              "5    UCVjCsq6PCd1RxrhkOfuGMsw  3nI4BBKVPIE  ...  0.287066        Good\n",
              "..                        ...          ...  ...       ...         ...\n",
              "720  UC8Uyi1LGJ8sPGTPDjPahK5A  MEP_rHg8EYY  ...       NaN         Bad\n",
              "721  UCa2dvdO1GJIyNSLX9KjwCRg  btm2U36t02A  ...       NaN         Bad\n",
              "722  UCFIhUhuHS20LoW6Tp7hwfIw  buGCupKL8Ws  ...  2.333333         Bad\n",
              "723  UCWAmBKCOukkkjThIB3ZXK6A  P5ZLQ9_hjhQ  ...       NaN         Bad\n",
              "724  UCk5RYMZAdwNZXTvxeoMadhg  Qph_mmOab8Q  ...  1.333333         Bad\n",
              "\n",
              "[5744 rows x 12 columns]"
            ]
          },
          "metadata": {
            "tags": []
          },
          "execution_count": 73
        }
      ]
    },
    {
      "cell_type": "code",
      "metadata": {
        "colab": {
          "base_uri": "https://localhost:8080/",
          "height": 204
        },
        "id": "ywuYzfhbsYLc",
        "outputId": "f1c163d9-22b4-4aae-d248-128578f81bf7"
      },
      "source": [
        "final_df = df[[\"title\", \"thumbnails\", \"Performance\"]]\n",
        "final_df.head()"
      ],
      "execution_count": null,
      "outputs": [
        {
          "output_type": "execute_result",
          "data": {
            "text/html": [
              "<div>\n",
              "<style scoped>\n",
              "    .dataframe tbody tr th:only-of-type {\n",
              "        vertical-align: middle;\n",
              "    }\n",
              "\n",
              "    .dataframe tbody tr th {\n",
              "        vertical-align: top;\n",
              "    }\n",
              "\n",
              "    .dataframe thead th {\n",
              "        text-align: right;\n",
              "    }\n",
              "</style>\n",
              "<table border=\"1\" class=\"dataframe\">\n",
              "  <thead>\n",
              "    <tr style=\"text-align: right;\">\n",
              "      <th></th>\n",
              "      <th>title</th>\n",
              "      <th>thumbnails</th>\n",
              "      <th>Performance</th>\n",
              "    </tr>\n",
              "  </thead>\n",
              "  <tbody>\n",
              "    <tr>\n",
              "      <th>1</th>\n",
              "      <td>SIÊU NHÂN NOOB TEAM TẬP 7 : BIỆT ĐỘI SIÊU NHÂN...</td>\n",
              "      <td>https://i.ytimg.com/vi/JA-OfBpHDkE/hqdefault.jpg</td>\n",
              "      <td>Good</td>\n",
              "    </tr>\n",
              "    <tr>\n",
              "      <th>2</th>\n",
              "      <td>NEW SEASON RECORD in GEORGOPOL😱Pubg Mobile</td>\n",
              "      <td>https://i.ytimg.com/vi/AKv4t7zUETQ/hqdefault.jpg</td>\n",
              "      <td>Good</td>\n",
              "    </tr>\n",
              "    <tr>\n",
              "      <th>3</th>\n",
              "      <td>Wasting 12,000 Diamond 💎 Of As Gaming Opening ...</td>\n",
              "      <td>https://i.ytimg.com/vi/qI1_k8B7Iqc/hqdefault.jpg</td>\n",
              "      <td>Good</td>\n",
              "    </tr>\n",
              "    <tr>\n",
              "      <th>4</th>\n",
              "      <td>PUBG Mobile NOW | GTA Later - Kaztro Live</td>\n",
              "      <td>https://i.ytimg.com/vi/eSPyZH3AWp4/hqdefault_l...</td>\n",
              "      <td>Good</td>\n",
              "    </tr>\n",
              "    <tr>\n",
              "      <th>5</th>\n",
              "      <td>MINI GAME : CUỘC THI TRỞ THÀNH ĐẦU BẾP VIP PRO...</td>\n",
              "      <td>https://i.ytimg.com/vi/3nI4BBKVPIE/hqdefault.jpg</td>\n",
              "      <td>Good</td>\n",
              "    </tr>\n",
              "  </tbody>\n",
              "</table>\n",
              "</div>"
            ],
            "text/plain": [
              "0                                              title  ... Performance\n",
              "1  SIÊU NHÂN NOOB TEAM TẬP 7 : BIỆT ĐỘI SIÊU NHÂN...  ...        Good\n",
              "2         NEW SEASON RECORD in GEORGOPOL😱Pubg Mobile  ...        Good\n",
              "3  Wasting 12,000 Diamond 💎 Of As Gaming Opening ...  ...        Good\n",
              "4          PUBG Mobile NOW | GTA Later - Kaztro Live  ...        Good\n",
              "5  MINI GAME : CUỘC THI TRỞ THÀNH ĐẦU BẾP VIP PRO...  ...        Good\n",
              "\n",
              "[5 rows x 3 columns]"
            ]
          },
          "metadata": {
            "tags": []
          },
          "execution_count": 74
        }
      ]
    },
    {
      "cell_type": "code",
      "metadata": {
        "id": "QQMH0KaxJpRs"
      },
      "source": [
        "import re\n",
        "def preprocess_text(sen):\n",
        "\n",
        "    # Single character removal\n",
        "    sen = re.sub(r\"\\s+[a-zA-Z]\\s+\", ' ', sen)\n",
        "\n",
        "    # Removing multiple spaces\n",
        "    sen = re.sub(r'\\s+', ' ', sen)\n",
        "\n",
        "    sen.lower()\n",
        "\n",
        "    return sen"
      ],
      "execution_count": null,
      "outputs": []
    },
    {
      "cell_type": "code",
      "metadata": {
        "colab": {
          "base_uri": "https://localhost:8080/",
          "height": 306
        },
        "id": "ttSMN2qoTUFu",
        "outputId": "2a9e9e77-373d-48e2-b5b5-e0e86882bf7c"
      },
      "source": [
        "# Apply function on the column 'text':\n",
        "final_df['cleaned_title'] = final_df['title'].apply(lambda x: preprocess_text(x))\n",
        "final_df.head()"
      ],
      "execution_count": null,
      "outputs": [
        {
          "output_type": "stream",
          "text": [
            "/usr/local/lib/python3.7/dist-packages/ipykernel_launcher.py:2: SettingWithCopyWarning: \n",
            "A value is trying to be set on a copy of a slice from a DataFrame.\n",
            "Try using .loc[row_indexer,col_indexer] = value instead\n",
            "\n",
            "See the caveats in the documentation: https://pandas.pydata.org/pandas-docs/stable/user_guide/indexing.html#returning-a-view-versus-a-copy\n",
            "  \n"
          ],
          "name": "stderr"
        },
        {
          "output_type": "execute_result",
          "data": {
            "text/html": [
              "<div>\n",
              "<style scoped>\n",
              "    .dataframe tbody tr th:only-of-type {\n",
              "        vertical-align: middle;\n",
              "    }\n",
              "\n",
              "    .dataframe tbody tr th {\n",
              "        vertical-align: top;\n",
              "    }\n",
              "\n",
              "    .dataframe thead th {\n",
              "        text-align: right;\n",
              "    }\n",
              "</style>\n",
              "<table border=\"1\" class=\"dataframe\">\n",
              "  <thead>\n",
              "    <tr style=\"text-align: right;\">\n",
              "      <th></th>\n",
              "      <th>title</th>\n",
              "      <th>thumbnails</th>\n",
              "      <th>Performance</th>\n",
              "      <th>cleaned_title</th>\n",
              "    </tr>\n",
              "  </thead>\n",
              "  <tbody>\n",
              "    <tr>\n",
              "      <th>1</th>\n",
              "      <td>SIÊU NHÂN NOOB TEAM TẬP 7 : BIỆT ĐỘI SIÊU NHÂN...</td>\n",
              "      <td>https://i.ytimg.com/vi/JA-OfBpHDkE/hqdefault.jpg</td>\n",
              "      <td>Good</td>\n",
              "      <td>SIÊU NHÂN NOOB TEAM TẬP 7 : BIỆT ĐỘI SIÊU NHÂN...</td>\n",
              "    </tr>\n",
              "    <tr>\n",
              "      <th>2</th>\n",
              "      <td>NEW SEASON RECORD in GEORGOPOL😱Pubg Mobile</td>\n",
              "      <td>https://i.ytimg.com/vi/AKv4t7zUETQ/hqdefault.jpg</td>\n",
              "      <td>Good</td>\n",
              "      <td>NEW SEASON RECORD in GEORGOPOL😱Pubg Mobile</td>\n",
              "    </tr>\n",
              "    <tr>\n",
              "      <th>3</th>\n",
              "      <td>Wasting 12,000 Diamond 💎 Of As Gaming Opening ...</td>\n",
              "      <td>https://i.ytimg.com/vi/qI1_k8B7Iqc/hqdefault.jpg</td>\n",
              "      <td>Good</td>\n",
              "      <td>Wasting 12,000 Diamond 💎 Of As Gaming Opening ...</td>\n",
              "    </tr>\n",
              "    <tr>\n",
              "      <th>4</th>\n",
              "      <td>PUBG Mobile NOW | GTA Later - Kaztro Live</td>\n",
              "      <td>https://i.ytimg.com/vi/eSPyZH3AWp4/hqdefault_l...</td>\n",
              "      <td>Good</td>\n",
              "      <td>PUBG Mobile NOW | GTA Later - Kaztro Live</td>\n",
              "    </tr>\n",
              "    <tr>\n",
              "      <th>5</th>\n",
              "      <td>MINI GAME : CUỘC THI TRỞ THÀNH ĐẦU BẾP VIP PRO...</td>\n",
              "      <td>https://i.ytimg.com/vi/3nI4BBKVPIE/hqdefault.jpg</td>\n",
              "      <td>Good</td>\n",
              "      <td>MINI GAME : CUỘC THI TRỞ THÀNH ĐẦU BẾP VIP PRO...</td>\n",
              "    </tr>\n",
              "  </tbody>\n",
              "</table>\n",
              "</div>"
            ],
            "text/plain": [
              "0                                              title  ...                                      cleaned_title\n",
              "1  SIÊU NHÂN NOOB TEAM TẬP 7 : BIỆT ĐỘI SIÊU NHÂN...  ...  SIÊU NHÂN NOOB TEAM TẬP 7 : BIỆT ĐỘI SIÊU NHÂN...\n",
              "2         NEW SEASON RECORD in GEORGOPOL😱Pubg Mobile  ...         NEW SEASON RECORD in GEORGOPOL😱Pubg Mobile\n",
              "3  Wasting 12,000 Diamond 💎 Of As Gaming Opening ...  ...  Wasting 12,000 Diamond 💎 Of As Gaming Opening ...\n",
              "4          PUBG Mobile NOW | GTA Later - Kaztro Live  ...          PUBG Mobile NOW | GTA Later - Kaztro Live\n",
              "5  MINI GAME : CUỘC THI TRỞ THÀNH ĐẦU BẾP VIP PRO...  ...  MINI GAME : CUỘC THI TRỞ THÀNH ĐẦU BẾP VIP PRO...\n",
              "\n",
              "[5 rows x 4 columns]"
            ]
          },
          "metadata": {
            "tags": []
          },
          "execution_count": 76
        }
      ]
    },
    {
      "cell_type": "code",
      "metadata": {
        "colab": {
          "base_uri": "https://localhost:8080/"
        },
        "id": "wWepTh1RJoLX",
        "outputId": "ad8e315d-cef2-470c-843b-f8100504bb30"
      },
      "source": [
        "from sklearn.feature_extraction.text import CountVectorizer\n",
        "vect = CountVectorizer(min_df=10, max_df=.5)\n",
        "vect = vect.fit(final_df[\"cleaned_title\"])\n",
        "cleaned = vect.transform(final_df[\"cleaned_title\"])\n",
        "\n",
        "\n",
        "print(\"X:\\n{}\".format(repr(cleaned)))\n"
      ],
      "execution_count": null,
      "outputs": [
        {
          "output_type": "stream",
          "text": [
            "X:\n",
            "<5744x685 sparse matrix of type '<class 'numpy.int64'>'\n",
            "\twith 37331 stored elements in Compressed Sparse Row format>\n"
          ],
          "name": "stdout"
        }
      ]
    },
    {
      "cell_type": "code",
      "metadata": {
        "id": "whrONhjZJRPq"
      },
      "source": [
        "#let's split the data into train and test\n",
        "from sklearn.model_selection import train_test_split\n",
        "X = cleaned\n",
        "y = final_df['Performance']\n",
        "X_train, X_test, y_train, y_test = train_test_split(X, y, test_size=0.30, random_state=0)"
      ],
      "execution_count": null,
      "outputs": []
    },
    {
      "cell_type": "code",
      "metadata": {
        "colab": {
          "base_uri": "https://localhost:8080/"
        },
        "id": "cGcXjodxMBJh",
        "outputId": "4ee02a24-fb5c-478e-a92c-e01f74c83b87"
      },
      "source": [
        "from sklearn.linear_model import LogisticRegression\n",
        "logreg = LogisticRegression(C=.01, solver='liblinear').fit(X_train, y_train)\n",
        "print(\"Training set score: {:.3f}\".format(logreg.score(X_train, y_train)))\n",
        "print(\"Test score: {:.2f}\".format(logreg.score(X_test, y_test)))\n"
      ],
      "execution_count": null,
      "outputs": [
        {
          "output_type": "stream",
          "text": [
            "Training set score: 0.705\n",
            "Test score: 0.68\n"
          ],
          "name": "stdout"
        }
      ]
    },
    {
      "cell_type": "code",
      "metadata": {
        "id": "Bd7NyGh6MfIu",
        "colab": {
          "base_uri": "https://localhost:8080/"
        },
        "outputId": "7da50d6a-f1ef-4b70-ac06-4af6ca16ed82"
      },
      "source": [
        "coefs=logreg.coef_[0]\n",
        "sorted_coefs = sorted ((zip(vect.get_feature_names(), coefs)),\n",
        "                key = lambda e:e[1], reverse=True)\n",
        "\n",
        "low = sorted_coefs[-20:]\n",
        "high = sorted_coefs[:20]\n",
        "print(\"Logistic Regression\")\n",
        "print(\"Lowest coefficients:\")\n",
        "for i in low:\n",
        "    print(i)\n",
        "print(\"Highest coefficients:\")\n",
        "for i in high:\n",
        "    print(i)\n"
      ],
      "execution_count": null,
      "outputs": [
        {
          "output_type": "stream",
          "text": [
            "Logistic Regression\n",
            "Lowest coefficients:\n",
            "('mobile', -0.09109648846674752)\n",
            "('squad', -0.09161409903735541)\n",
            "('s6', -0.09271510103208955)\n",
            "('s9', -0.09385088801621885)\n",
            "('a10', -0.0966322049213621)\n",
            "('a7', -0.10973796277346173)\n",
            "('play', -0.11194315904305702)\n",
            "('may', -0.14778792556558773)\n",
            "('game', -0.14783812377174077)\n",
            "('ps5', -0.17676342207504503)\n",
            "('vr', -0.1837095224588644)\n",
            "('live', -0.19928024756589624)\n",
            "('shooter', -0.19977334894178567)\n",
            "('lite', -0.20995321076720028)\n",
            "('by', -0.2203363639673557)\n",
            "('2021', -0.22387823310326704)\n",
            "('pubg', -0.23420597404116175)\n",
            "('games', -0.2633477206904008)\n",
            "('gaming', -0.5043345165720405)\n",
            "('ar', -0.619495297545463)\n",
            "Highest coefficients:\n",
            "('the', 0.24421683778093292)\n",
            "('roblox', 0.2032841259821955)\n",
            "('amp', 0.17477570287972177)\n",
            "('trailer', 0.1743950764576158)\n",
            "('minecraft', 0.1720517936715315)\n",
            "('zefa', 0.16829349062983262)\n",
            "('mini', 0.15946821192033964)\n",
            "('mobil', 0.15731083021413872)\n",
            "('nerf', 0.14377621708939267)\n",
            "('thách', 0.143667503430657)\n",
            "('garena', 0.14098935963253587)\n",
            "('first', 0.14025023512329635)\n",
            "('thử', 0.13819851112650705)\n",
            "('dynamo', 0.13749489989694255)\n",
            "('on', 0.13322576956882326)\n",
            "('39', 0.1294365167629139)\n",
            "('to', 0.12448893034872326)\n",
            "('và', 0.12121079409022219)\n",
            "('gta', 0.11935485230311184)\n",
            "('ets2', 0.11836219411791842)\n"
          ],
          "name": "stdout"
        }
      ]
    },
    {
      "cell_type": "code",
      "metadata": {
        "id": "__ai38OBMVsq",
        "colab": {
          "base_uri": "https://localhost:8080/"
        },
        "outputId": "150e52b1-ab28-49fe-d34e-16c0c784b91a"
      },
      "source": [
        "from sklearn.naive_bayes import MultinomialNB\n",
        "nbModel = MultinomialNB(alpha=10).fit(X_train, y_train)\n",
        "print(\"Training set score: {:.3f}\".format(nbModel.score(X_train, y_train)))\n",
        "print(\"Test score: {:.2f}\".format(nbModel.score(X_test, y_test)))"
      ],
      "execution_count": null,
      "outputs": [
        {
          "output_type": "stream",
          "text": [
            "Training set score: 0.733\n",
            "Test score: 0.69\n"
          ],
          "name": "stdout"
        }
      ]
    },
    {
      "cell_type": "code",
      "metadata": {
        "id": "dGtqTN1yMmmX",
        "colab": {
          "base_uri": "https://localhost:8080/"
        },
        "outputId": "1d454149-c8fc-464b-b6a9-d2798f5c85c7"
      },
      "source": [
        "coefs=nbModel.coef_[0]\n",
        "sorted_coefs = sorted ((zip(vect.get_feature_names(), coefs)),\n",
        "                key = lambda e:e[1], reverse=True)\n",
        "\n",
        "low = sorted_coefs[-20:]\n",
        "high = sorted_coefs[:20]\n",
        "print (\"Multinomial NB\")\n",
        "print(\"Lowest coefficients:\")\n",
        "for i in low:\n",
        "    print(i)\n",
        "print(\"Highest coefficients:\")\n",
        "for i in high:\n",
        "    print(i)\n"
      ],
      "execution_count": null,
      "outputs": [
        {
          "output_type": "stream",
          "text": [
            "Multinomial NB\n",
            "Lowest coefficients:\n",
            "('argaming', -7.614065446068364)\n",
            "('boy', -7.614065446068364)\n",
            "('damage', -7.614065446068364)\n",
            "('driver', -7.614065446068364)\n",
            "('gone', -7.614065446068364)\n",
            "('grenade', -7.614065446068364)\n",
            "('killed', -7.614065446068364)\n",
            "('mk14', -7.614065446068364)\n",
            "('pubglitelive', -7.614065446068364)\n",
            "('pubgmobile', -7.614065446068364)\n",
            "('ranked', -7.614065446068364)\n",
            "('running', -7.614065446068364)\n",
            "('s12k', -7.614065446068364)\n",
            "('scrim', -7.614065446068364)\n",
            "('status', -7.614065446068364)\n",
            "('tdm', -7.614065446068364)\n",
            "('unlimited', -7.614065446068364)\n",
            "('vrgaming', -7.614065446068364)\n",
            "('wb', -7.614065446068364)\n",
            "('yt', -7.614065446068364)\n",
            "Highest coefficients:\n",
            "('games', -3.905383364658248)\n",
            "('vr', -3.9712299304558343)\n",
            "('gaming', -4.084768061778893)\n",
            "('game', -4.129753157695702)\n",
            "('the', -4.239896736794128)\n",
            "('mobil', -4.3331542302807105)\n",
            "('switch', -4.375386993903984)\n",
            "('stream', -4.423589095721861)\n",
            "('ps5', -4.427712812905723)\n",
            "('gameplay', -4.509478767602291)\n",
            "('nintendo', -4.527578809245909)\n",
            "('to', -4.628383508367874)\n",
            "('in', -4.729264733221655)\n",
            "('best', -4.792686559659151)\n",
            "('shooter', -4.835246174077946)\n",
            "('top', -4.886212617669974)\n",
            "('free', -4.899370702247485)\n",
            "('of', -4.899370702247485)\n",
            "('amp', -4.939916796641835)\n",
            "('new', -4.946837239486409)\n"
          ],
          "name": "stdout"
        }
      ]
    },
    {
      "cell_type": "code",
      "metadata": {
        "id": "cVgj_YbqyXKY"
      },
      "source": [
        "#we are gonna write a function the accepts the title and tells you whether is good or bad\n",
        "def title(input):\n",
        "  text = vect.transform(input)\n",
        "  print(\"Logistic regression predicts your title to be: {} should be {}\".format(logreg.predict_proba(text), logreg.predict(text)))\n",
        "  print(\"Naive Bayes predicts your title to be: {} should be {}\".format(nbModel.predict_proba(text), nbModel.predict(text)))"
      ],
      "execution_count": null,
      "outputs": []
    },
    {
      "cell_type": "code",
      "metadata": {
        "colab": {
          "base_uri": "https://localhost:8080/"
        },
        "id": "6ZWrygqS4oFM",
        "outputId": "3fb07e1e-57ed-43b5-a685-6fd042b79f08"
      },
      "source": [
        "title([input(\"please enter some weird ass title: \")])"
      ],
      "execution_count": null,
      "outputs": [
        {
          "output_type": "stream",
          "text": [
            "please enter some weird ass title: play game mode online \n",
            "Logistic regression predicts your title to be: [[0.49158201 0.50841799]] should be ['Good']\n",
            "Naive Bayes predicts your title to be: [[0.42894722 0.57105278]] should be ['Good']\n"
          ],
          "name": "stdout"
        }
      ]
    }
   
