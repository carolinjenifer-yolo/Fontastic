{
  "nbformat": 4,
  "nbformat_minor": 0,
  "metadata": {
    "colab": {
      "name": "Magnitube.ipynb",
      "provenance": [],
      "collapsed_sections": [],
      "include_colab_link": true
    },
    "kernelspec": {
      "name": "python3",
      "display_name": "Python 3"
    },
    "language_info": {
      "name": "python"
    }
  },
  "cells": [
    {
      "cell_type": "markdown",
      "metadata": {
        "id": "view-in-github",
        "colab_type": "text"
      },
      "source": [
        "<a href=\"https://colab.research.google.com/github/carolinjenifer-yolo/Fontastic/blob/main/Magnitube.ipynb\" target=\"_parent\"><img src=\"https://colab.research.google.com/assets/colab-badge.svg\" alt=\"Open In Colab\"/></a>"
      ]
    },
    {
      "cell_type": "markdown",
      "metadata": {
        "id": "ygh5WcZSUtg1"
      },
      "source": [
        "# Magnitube.AI\n"
      ]
    },
    {
      "cell_type": "markdown",
      "metadata": {
        "id": "ZzbnxOWsU1WL"
      },
      "source": [
        "We start by collecting the data from the google sheets. Note that we collect the data through apps script which available on tools of google sheets."
      ]
    },
    {
      "cell_type": "code",
      "metadata": {
        "id": "3GNVkB32NdL4"
      },
      "source": [
        "from google.colab import auth\n",
        "auth.authenticate_user()\n",
        "import gspread\n",
        "from oauth2client.client import GoogleCredentials\n",
        "gc = gspread.authorize(GoogleCredentials.get_application_default())"
      ],
      "execution_count": 1,
      "outputs": []
    },
    {
      "cell_type": "code",
      "metadata": {
        "id": "bQCkXLufNy-T"
      },
      "source": [
        "import pandas as pd\n",
        "import matplotlib.pyplot as plt"
      ],
      "execution_count": 2,
      "outputs": []
    },
    {
      "cell_type": "code",
      "metadata": {
        "id": "MAk9hlUYOYVS"
      },
      "source": [
        "wb = gc.open_by_url('https://docs.google.com/spreadsheets/d/1TGGD7_8lfa1Q9XtRfikE2gUr9YwuVjOI5gPkdX0Q-XQ/edit#gid=0')"
      ],
      "execution_count": 3,
      "outputs": []
    },
    {
      "cell_type": "code",
      "metadata": {
        "id": "qE7JCJ3eOjJw"
      },
      "source": [
        "sheet_1 = wb.worksheet('Sheet1')\n",
        "sheet_2 = wb.worksheet('Sheet2')\n",
        "sheet_3 = wb.worksheet('Sheet3')\n",
        "sheet_4 = wb.worksheet('Sheet4')\n",
        "sheet_5 = wb.worksheet('Sheet5')\n",
        "sheet_6 = wb.worksheet('Sheet6')\n",
        "sheet_7 = wb.worksheet('Sheet7')\n",
        "sheet_8 = wb.worksheet('Sheet8')\n",
        "sheet_9 = wb.worksheet('Sheet9')\n",
        "#sheet_10 = wb.worksheet('Sheet10')"
      ],
      "execution_count": 4,
      "outputs": []
    },
    {
      "cell_type": "code",
      "metadata": {
        "id": "ycGJF8I3O-UE"
      },
      "source": [
        "data_1 = sheet_1.get_all_values()\n",
        "data_2 = sheet_2.get_all_values()\n",
        "data_3 = sheet_3.get_all_values()\n",
        "data_4 = sheet_4.get_all_values()\n",
        "data_5 = sheet_5.get_all_values()\n",
        "data_6 = sheet_6.get_all_values()\n",
        "data_7 = sheet_7.get_all_values()\n",
        "data_8 = sheet_8.get_all_values()\n",
        "data_9 = sheet_9.get_all_values()\n",
        "#data_10 = sheet_10.get_all_values()"
      ],
      "execution_count": 5,
      "outputs": []
    },
    {
      "cell_type": "code",
      "metadata": {
        "id": "EffYz94ZPA4E",
        "colab": {
          "base_uri": "https://localhost:8080/",
          "height": 573
        },
        "outputId": "e60948ba-1844-4c84-fd46-f24bab9593ae"
      },
      "source": [
        "#let just take a quick look at the first batch of dataframes \n",
        "df = pd.DataFrame(data_1)\n",
        "df.columns = df.iloc[0]\n",
        "df = df.iloc[1:]\n",
        "df.head()"
      ],
      "execution_count": 6,
      "outputs": [
        {
          "output_type": "execute_result",
          "data": {
            "text/html": [
              "<div>\n",
              "<style scoped>\n",
              "    .dataframe tbody tr th:only-of-type {\n",
              "        vertical-align: middle;\n",
              "    }\n",
              "\n",
              "    .dataframe tbody tr th {\n",
              "        vertical-align: top;\n",
              "    }\n",
              "\n",
              "    .dataframe thead th {\n",
              "        text-align: right;\n",
              "    }\n",
              "</style>\n",
              "<table border=\"1\" class=\"dataframe\">\n",
              "  <thead>\n",
              "    <tr style=\"text-align: right;\">\n",
              "      <th></th>\n",
              "      <th>channelId</th>\n",
              "      <th>videoId</th>\n",
              "      <th>title</th>\n",
              "      <th>publishedAt</th>\n",
              "      <th>thumbnails</th>\n",
              "      <th>viewCount_Chan</th>\n",
              "      <th>subscriberCount</th>\n",
              "      <th>viewCount_Vid</th>\n",
              "      <th>likeCount</th>\n",
              "      <th>dislikeCount</th>\n",
              "      <th>Success</th>\n",
              "    </tr>\n",
              "  </thead>\n",
              "  <tbody>\n",
              "    <tr>\n",
              "      <th>1</th>\n",
              "      <td>UCVjCsq6PCd1RxrhkOfuGMsw</td>\n",
              "      <td>JA-OfBpHDkE</td>\n",
              "      <td>SIÊU NHÂN NOOB TEAM TẬP 7 : BIỆT ĐỘI SIÊU NHÂN...</td>\n",
              "      <td>2021-05-19T10:00:17Z</td>\n",
              "      <td>https://i.ytimg.com/vi/JA-OfBpHDkE/hqdefault.jpg</td>\n",
              "      <td>1210425611</td>\n",
              "      <td>1570000</td>\n",
              "      <td>266191</td>\n",
              "      <td>9810</td>\n",
              "      <td>99</td>\n",
              "      <td>0.1695484076</td>\n",
              "    </tr>\n",
              "    <tr>\n",
              "      <th>2</th>\n",
              "      <td>UCmVzcQ5hXNecXAcbn6y7TEg</td>\n",
              "      <td>AKv4t7zUETQ</td>\n",
              "      <td>NEW SEASON RECORD in GEORGOPOL😱Pubg Mobile</td>\n",
              "      <td>2021-05-19T07:21:03Z</td>\n",
              "      <td>https://i.ytimg.com/vi/AKv4t7zUETQ/hqdefault.jpg</td>\n",
              "      <td>224876371</td>\n",
              "      <td>1510000</td>\n",
              "      <td>274465</td>\n",
              "      <td>19084</td>\n",
              "      <td>389</td>\n",
              "      <td>0.1817649007</td>\n",
              "    </tr>\n",
              "    <tr>\n",
              "      <th>3</th>\n",
              "      <td>UCMrvxKTx9hLhZcOvJkYOnAw</td>\n",
              "      <td>qI1_k8B7Iqc</td>\n",
              "      <td>Wasting 12,000 Diamond 💎 Of As Gaming Opening ...</td>\n",
              "      <td>2021-05-18T05:45:40Z</td>\n",
              "      <td>https://i.ytimg.com/vi/qI1_k8B7Iqc/hqdefault.jpg</td>\n",
              "      <td>1177472102</td>\n",
              "      <td>11300000</td>\n",
              "      <td>1183954</td>\n",
              "      <td>123438</td>\n",
              "      <td>3126</td>\n",
              "      <td>0.1047746903</td>\n",
              "    </tr>\n",
              "    <tr>\n",
              "      <th>4</th>\n",
              "      <td>UCTraT1P-qAimjAASU4wilTA</td>\n",
              "      <td>eSPyZH3AWp4</td>\n",
              "      <td>PUBG Mobile NOW | GTA Later - Kaztro Live</td>\n",
              "      <td>2021-05-19T14:42:38Z</td>\n",
              "      <td>https://i.ytimg.com/vi/eSPyZH3AWp4/hqdefault_l...</td>\n",
              "      <td>145447449</td>\n",
              "      <td>1060000</td>\n",
              "      <td>142174</td>\n",
              "      <td>20677</td>\n",
              "      <td>211</td>\n",
              "      <td>0.1341264151</td>\n",
              "    </tr>\n",
              "    <tr>\n",
              "      <th>5</th>\n",
              "      <td>UCVjCsq6PCd1RxrhkOfuGMsw</td>\n",
              "      <td>3nI4BBKVPIE</td>\n",
              "      <td>MINI GAME : CUỘC THI TRỞ THÀNH ĐẦU BẾP VIP PRO...</td>\n",
              "      <td>2021-05-18T10:00:02Z</td>\n",
              "      <td>https://i.ytimg.com/vi/3nI4BBKVPIE/hqdefault.jpg</td>\n",
              "      <td>1210425611</td>\n",
              "      <td>1570000</td>\n",
              "      <td>450694</td>\n",
              "      <td>7994</td>\n",
              "      <td>138</td>\n",
              "      <td>0.287066242</td>\n",
              "    </tr>\n",
              "  </tbody>\n",
              "</table>\n",
              "</div>"
            ],
            "text/plain": [
              "0                 channelId      videoId  ... dislikeCount       Success\n",
              "1  UCVjCsq6PCd1RxrhkOfuGMsw  JA-OfBpHDkE  ...           99  0.1695484076\n",
              "2  UCmVzcQ5hXNecXAcbn6y7TEg  AKv4t7zUETQ  ...          389  0.1817649007\n",
              "3  UCMrvxKTx9hLhZcOvJkYOnAw  qI1_k8B7Iqc  ...         3126  0.1047746903\n",
              "4  UCTraT1P-qAimjAASU4wilTA  eSPyZH3AWp4  ...          211  0.1341264151\n",
              "5  UCVjCsq6PCd1RxrhkOfuGMsw  3nI4BBKVPIE  ...          138   0.287066242\n",
              "\n",
              "[5 rows x 11 columns]"
            ]
          },
          "metadata": {
            "tags": []
          },
          "execution_count": 6
        }
      ]
    },
    {
      "cell_type": "code",
      "metadata": {
        "id": "D6FN37K5uM7W"
      },
      "source": [
        "df_2 = pd.DataFrame(data_2)\n",
        "df_3 = pd.DataFrame(data_3)\n",
        "df_4 = pd.DataFrame(data_4)\n",
        "df_5 = pd.DataFrame(data_5)\n",
        "df_6 = pd.DataFrame(data_6)\n",
        "df_7 = pd.DataFrame(data_7)\n",
        "df_8 = pd.DataFrame(data_8)\n",
        "df_9 = pd.DataFrame(data_9)\n",
        "#df_10 = pd.DataFrame(data_10)"
      ],
      "execution_count": 7,
      "outputs": []
    },
    {
      "cell_type": "code",
      "metadata": {
        "id": "q3JEmn4HegI7"
      },
      "source": [
        "#this get rid of the titles so it can merger smoothly\n",
        "df_2.columns = df_2.iloc[0]\n",
        "df_2 = df_2.iloc[1:]\n",
        "df_3.columns = df_3.iloc[0]\n",
        "df_3 = df_3.iloc[1:]\n",
        "df_4.columns = df_4.iloc[0]\n",
        "df_4 = df_4.iloc[1:]\n",
        "df_5.columns = df_5.iloc[0]\n",
        "df_5 = df_5.iloc[1:]\n",
        "df_6.columns = df_6.iloc[0]\n",
        "df_6 = df_6.iloc[1:]\n",
        "df_7.columns = df_7.iloc[0]\n",
        "df_7 = df_7.iloc[1:]\n",
        "df_8.columns = df_8.iloc[0]\n",
        "df_8 = df_8.iloc[1:]\n",
        "df_9.columns = df_9.iloc[0]\n",
        "df_9 = df_7.iloc[1:]\n",
        "#df_10.columns = df_10.iloc[0]\n",
        "#df_10 = df_10.iloc[1:]\n"
      ],
      "execution_count": 8,
      "outputs": []
    },
    {
      "cell_type": "code",
      "metadata": {
        "id": "iJEPluKVe__f",
        "colab": {
          "base_uri": "https://localhost:8080/",
          "height": 929
        },
        "outputId": "b6df3bf6-143d-4abc-92a7-0ebba19b4e5d"
      },
      "source": [
        "df = df.append([df_2,df_3,df_4,df_5,df_6,df_7,df_8,df_9])\n",
        "df"
      ],
      "execution_count": 9,
      "outputs": [
        {
          "output_type": "execute_result",
          "data": {
            "text/html": [
              "<div>\n",
              "<style scoped>\n",
              "    .dataframe tbody tr th:only-of-type {\n",
              "        vertical-align: middle;\n",
              "    }\n",
              "\n",
              "    .dataframe tbody tr th {\n",
              "        vertical-align: top;\n",
              "    }\n",
              "\n",
              "    .dataframe thead th {\n",
              "        text-align: right;\n",
              "    }\n",
              "</style>\n",
              "<table border=\"1\" class=\"dataframe\">\n",
              "  <thead>\n",
              "    <tr style=\"text-align: right;\">\n",
              "      <th></th>\n",
              "      <th>channelId</th>\n",
              "      <th>videoId</th>\n",
              "      <th>title</th>\n",
              "      <th>publishedAt</th>\n",
              "      <th>thumbnails</th>\n",
              "      <th>viewCount_Chan</th>\n",
              "      <th>subscriberCount</th>\n",
              "      <th>viewCount_Vid</th>\n",
              "      <th>likeCount</th>\n",
              "      <th>dislikeCount</th>\n",
              "      <th>Success</th>\n",
              "    </tr>\n",
              "  </thead>\n",
              "  <tbody>\n",
              "    <tr>\n",
              "      <th>1</th>\n",
              "      <td>UCVjCsq6PCd1RxrhkOfuGMsw</td>\n",
              "      <td>JA-OfBpHDkE</td>\n",
              "      <td>SIÊU NHÂN NOOB TEAM TẬP 7 : BIỆT ĐỘI SIÊU NHÂN...</td>\n",
              "      <td>2021-05-19T10:00:17Z</td>\n",
              "      <td>https://i.ytimg.com/vi/JA-OfBpHDkE/hqdefault.jpg</td>\n",
              "      <td>1210425611</td>\n",
              "      <td>1570000</td>\n",
              "      <td>266191</td>\n",
              "      <td>9810</td>\n",
              "      <td>99</td>\n",
              "      <td>0.1695484076</td>\n",
              "    </tr>\n",
              "    <tr>\n",
              "      <th>2</th>\n",
              "      <td>UCmVzcQ5hXNecXAcbn6y7TEg</td>\n",
              "      <td>AKv4t7zUETQ</td>\n",
              "      <td>NEW SEASON RECORD in GEORGOPOL😱Pubg Mobile</td>\n",
              "      <td>2021-05-19T07:21:03Z</td>\n",
              "      <td>https://i.ytimg.com/vi/AKv4t7zUETQ/hqdefault.jpg</td>\n",
              "      <td>224876371</td>\n",
              "      <td>1510000</td>\n",
              "      <td>274465</td>\n",
              "      <td>19084</td>\n",
              "      <td>389</td>\n",
              "      <td>0.1817649007</td>\n",
              "    </tr>\n",
              "    <tr>\n",
              "      <th>3</th>\n",
              "      <td>UCMrvxKTx9hLhZcOvJkYOnAw</td>\n",
              "      <td>qI1_k8B7Iqc</td>\n",
              "      <td>Wasting 12,000 Diamond 💎 Of As Gaming Opening ...</td>\n",
              "      <td>2021-05-18T05:45:40Z</td>\n",
              "      <td>https://i.ytimg.com/vi/qI1_k8B7Iqc/hqdefault.jpg</td>\n",
              "      <td>1177472102</td>\n",
              "      <td>11300000</td>\n",
              "      <td>1183954</td>\n",
              "      <td>123438</td>\n",
              "      <td>3126</td>\n",
              "      <td>0.1047746903</td>\n",
              "    </tr>\n",
              "    <tr>\n",
              "      <th>4</th>\n",
              "      <td>UCTraT1P-qAimjAASU4wilTA</td>\n",
              "      <td>eSPyZH3AWp4</td>\n",
              "      <td>PUBG Mobile NOW | GTA Later - Kaztro Live</td>\n",
              "      <td>2021-05-19T14:42:38Z</td>\n",
              "      <td>https://i.ytimg.com/vi/eSPyZH3AWp4/hqdefault_l...</td>\n",
              "      <td>145447449</td>\n",
              "      <td>1060000</td>\n",
              "      <td>142174</td>\n",
              "      <td>20677</td>\n",
              "      <td>211</td>\n",
              "      <td>0.1341264151</td>\n",
              "    </tr>\n",
              "    <tr>\n",
              "      <th>5</th>\n",
              "      <td>UCVjCsq6PCd1RxrhkOfuGMsw</td>\n",
              "      <td>3nI4BBKVPIE</td>\n",
              "      <td>MINI GAME : CUỘC THI TRỞ THÀNH ĐẦU BẾP VIP PRO...</td>\n",
              "      <td>2021-05-18T10:00:02Z</td>\n",
              "      <td>https://i.ytimg.com/vi/3nI4BBKVPIE/hqdefault.jpg</td>\n",
              "      <td>1210425611</td>\n",
              "      <td>1570000</td>\n",
              "      <td>450694</td>\n",
              "      <td>7994</td>\n",
              "      <td>138</td>\n",
              "      <td>0.287066242</td>\n",
              "    </tr>\n",
              "    <tr>\n",
              "      <th>...</th>\n",
              "      <td>...</td>\n",
              "      <td>...</td>\n",
              "      <td>...</td>\n",
              "      <td>...</td>\n",
              "      <td>...</td>\n",
              "      <td>...</td>\n",
              "      <td>...</td>\n",
              "      <td>...</td>\n",
              "      <td>...</td>\n",
              "      <td>...</td>\n",
              "      <td>...</td>\n",
              "    </tr>\n",
              "    <tr>\n",
              "      <th>720</th>\n",
              "      <td>UC8Uyi1LGJ8sPGTPDjPahK5A</td>\n",
              "      <td>MEP_rHg8EYY</td>\n",
              "      <td>May 19, 2021</td>\n",
              "      <td>2021-05-19T14:15:52Z</td>\n",
              "      <td>https://i.ytimg.com/vi/MEP_rHg8EYY/hqdefault.jpg</td>\n",
              "      <td>0</td>\n",
              "      <td>0</td>\n",
              "      <td>0</td>\n",
              "      <td>0</td>\n",
              "      <td>0</td>\n",
              "      <td>#DIV/0!</td>\n",
              "    </tr>\n",
              "    <tr>\n",
              "      <th>721</th>\n",
              "      <td>UCa2dvdO1GJIyNSLX9KjwCRg</td>\n",
              "      <td>btm2U36t02A</td>\n",
              "      <td>VR News</td>\n",
              "      <td>2021-05-19T07:00:07Z</td>\n",
              "      <td>https://i.ytimg.com/vi/btm2U36t02A/hqdefault.jpg</td>\n",
              "      <td>57</td>\n",
              "      <td>3</td>\n",
              "      <td>10</td>\n",
              "      <td>2</td>\n",
              "      <td>0</td>\n",
              "      <td>#DIV/0!</td>\n",
              "    </tr>\n",
              "    <tr>\n",
              "      <th>722</th>\n",
              "      <td>UCFIhUhuHS20LoW6Tp7hwfIw</td>\n",
              "      <td>buGCupKL8Ws</td>\n",
              "      <td>First VR videos</td>\n",
              "      <td>2021-05-20T14:23:42Z</td>\n",
              "      <td>https://i.ytimg.com/vi/buGCupKL8Ws/hqdefault.jpg</td>\n",
              "      <td>4</td>\n",
              "      <td>0</td>\n",
              "      <td>7</td>\n",
              "      <td>1</td>\n",
              "      <td>0</td>\n",
              "      <td>2.333333333</td>\n",
              "    </tr>\n",
              "    <tr>\n",
              "      <th>723</th>\n",
              "      <td>UCWAmBKCOukkkjThIB3ZXK6A</td>\n",
              "      <td>P5ZLQ9_hjhQ</td>\n",
              "      <td>Screen players when they dont know what vr is</td>\n",
              "      <td>2021-05-18T19:19:42Z</td>\n",
              "      <td>https://i.ytimg.com/vi/P5ZLQ9_hjhQ/hqdefault.jpg</td>\n",
              "      <td>69</td>\n",
              "      <td>3</td>\n",
              "      <td>1</td>\n",
              "      <td>1</td>\n",
              "      <td>0</td>\n",
              "      <td>#DIV/0!</td>\n",
              "    </tr>\n",
              "    <tr>\n",
              "      <th>724</th>\n",
              "      <td>UCk5RYMZAdwNZXTvxeoMadhg</td>\n",
              "      <td>Qph_mmOab8Q</td>\n",
              "      <td>zero caliber reloaded</td>\n",
              "      <td>2021-05-20T13:18:19Z</td>\n",
              "      <td>https://i.ytimg.com/vi/Qph_mmOab8Q/hqdefault.jpg</td>\n",
              "      <td>1716</td>\n",
              "      <td>17</td>\n",
              "      <td>4</td>\n",
              "      <td>0</td>\n",
              "      <td>0</td>\n",
              "      <td>1.333333333</td>\n",
              "    </tr>\n",
              "  </tbody>\n",
              "</table>\n",
              "<p>6378 rows × 11 columns</p>\n",
              "</div>"
            ],
            "text/plain": [
              "0                   channelId      videoId  ... dislikeCount       Success\n",
              "1    UCVjCsq6PCd1RxrhkOfuGMsw  JA-OfBpHDkE  ...           99  0.1695484076\n",
              "2    UCmVzcQ5hXNecXAcbn6y7TEg  AKv4t7zUETQ  ...          389  0.1817649007\n",
              "3    UCMrvxKTx9hLhZcOvJkYOnAw  qI1_k8B7Iqc  ...         3126  0.1047746903\n",
              "4    UCTraT1P-qAimjAASU4wilTA  eSPyZH3AWp4  ...          211  0.1341264151\n",
              "5    UCVjCsq6PCd1RxrhkOfuGMsw  3nI4BBKVPIE  ...          138   0.287066242\n",
              "..                        ...          ...  ...          ...           ...\n",
              "720  UC8Uyi1LGJ8sPGTPDjPahK5A  MEP_rHg8EYY  ...            0       #DIV/0!\n",
              "721  UCa2dvdO1GJIyNSLX9KjwCRg  btm2U36t02A  ...            0       #DIV/0!\n",
              "722  UCFIhUhuHS20LoW6Tp7hwfIw  buGCupKL8Ws  ...            0   2.333333333\n",
              "723  UCWAmBKCOukkkjThIB3ZXK6A  P5ZLQ9_hjhQ  ...            0       #DIV/0!\n",
              "724  UCk5RYMZAdwNZXTvxeoMadhg  Qph_mmOab8Q  ...            0   1.333333333\n",
              "\n",
              "[6378 rows x 11 columns]"
            ]
          },
          "metadata": {
            "tags": []
          },
          "execution_count": 9
        }
      ]
    },
    {
      "cell_type": "markdown",
      "metadata": {
        "id": "a4Sd2VMfVHaO"
      },
      "source": [
        "Let's clean that data, make sure the numeric values are in fact floats"
      ]
    },
    {
      "cell_type": "code",
      "metadata": {
        "id": "pJwkCM6rQ6uH",
        "colab": {
          "base_uri": "https://localhost:8080/"
        },
        "outputId": "572a5b2a-9572-4497-bf34-d03ecddda7ec"
      },
      "source": [
        "df.info()"
      ],
      "execution_count": 10,
      "outputs": [
        {
          "output_type": "stream",
          "text": [
            "<class 'pandas.core.frame.DataFrame'>\n",
            "Int64Index: 6378 entries, 1 to 724\n",
            "Data columns (total 11 columns):\n",
            " #   Column           Non-Null Count  Dtype \n",
            "---  ------           --------------  ----- \n",
            " 0   channelId        6378 non-null   object\n",
            " 1   videoId          6378 non-null   object\n",
            " 2   title            6378 non-null   object\n",
            " 3   publishedAt      6378 non-null   object\n",
            " 4   thumbnails       6378 non-null   object\n",
            " 5   viewCount_Chan   6378 non-null   object\n",
            " 6   subscriberCount  6378 non-null   object\n",
            " 7   viewCount_Vid    6378 non-null   object\n",
            " 8   likeCount        6378 non-null   object\n",
            " 9   dislikeCount     6378 non-null   object\n",
            " 10  Success          6378 non-null   object\n",
            "dtypes: object(11)\n",
            "memory usage: 597.9+ KB\n"
          ],
          "name": "stdout"
        }
      ]
    },
    {
      "cell_type": "code",
      "metadata": {
        "id": "ckFYGBM9TpKS"
      },
      "source": [
        "df['subscriberCount'] = pd.to_numeric(df['subscriberCount'], errors='coerce')\n",
        "df['viewCount_Chan'] = pd.to_numeric(df['viewCount_Chan'], errors='coerce')\n",
        "df['viewCount_Vid'] = pd.to_numeric(df['viewCount_Vid'], errors='coerce')\n",
        "df['likeCount'] = pd.to_numeric(df['likeCount'], errors='coerce')\n",
        "df['dislikeCount'] = pd.to_numeric(df['dislikeCount'], errors='coerce')\n",
        "df['Success'] = pd.to_numeric(df['Success'], errors='coerce')"
      ],
      "execution_count": 11,
      "outputs": []
    },
    {
      "cell_type": "code",
      "metadata": {
        "id": "mntrU_M9eQmU",
        "colab": {
          "base_uri": "https://localhost:8080/"
        },
        "outputId": "a70d0927-bfbe-42fe-db53-781e527d0f73"
      },
      "source": [
        "df.info()"
      ],
      "execution_count": 12,
      "outputs": [
        {
          "output_type": "stream",
          "text": [
            "<class 'pandas.core.frame.DataFrame'>\n",
            "Int64Index: 6378 entries, 1 to 724\n",
            "Data columns (total 11 columns):\n",
            " #   Column           Non-Null Count  Dtype  \n",
            "---  ------           --------------  -----  \n",
            " 0   channelId        6378 non-null   object \n",
            " 1   videoId          6378 non-null   object \n",
            " 2   title            6378 non-null   object \n",
            " 3   publishedAt      6378 non-null   object \n",
            " 4   thumbnails       6378 non-null   object \n",
            " 5   viewCount_Chan   6378 non-null   int64  \n",
            " 6   subscriberCount  6006 non-null   float64\n",
            " 7   viewCount_Vid    5744 non-null   float64\n",
            " 8   likeCount        5704 non-null   float64\n",
            " 9   dislikeCount     5704 non-null   float64\n",
            " 10  Success          5906 non-null   float64\n",
            "dtypes: float64(5), int64(1), object(5)\n",
            "memory usage: 597.9+ KB\n"
          ],
          "name": "stdout"
        }
      ]
    },
    {
      "cell_type": "markdown",
      "metadata": {
        "id": "Sudw84KWm8DQ"
      },
      "source": [
        "Clean the data in general!"
      ]
    },
    {
      "cell_type": "code",
      "metadata": {
        "id": "zilAqtKP2sQF",
        "colab": {
          "base_uri": "https://localhost:8080/"
        },
        "outputId": "f0a94a46-0edb-4902-ddd9-a87bdb2597ef"
      },
      "source": [
        "df['title'].value_counts()"
      ],
      "execution_count": 13,
      "outputs": [
        {
          "output_type": "execute_result",
          "data": {
            "text/plain": [
              "AR Gaming                                                                                 38\n",
              "AR GAMING                                                                                 36\n",
              "VR Gaming                                                                                 28\n",
              "MY.GAMES stream                                                                           22\n",
              "VR GAMING                                                                                 20\n",
              "                                                                                          ..\n",
              "&#39;Zombie Gunship Revenant AR&#39; Gameplay Teaser                                       1\n",
              "Gut und kostenlos - 13 tolle Free2Play-Games für die Switch                                1\n",
              "How To Live Stream On Facebook - Facebook Tutorial                                         1\n",
              "Sniper 3D Gun Shooter: Free Shooting Games - FPS Android Gameplay #5 #DroidCheatGaming     1\n",
              "Room Tour Project 245 - SICK Desk &amp; Gaming Setups!                                     1\n",
              "Name: title, Length: 5142, dtype: int64"
            ]
          },
          "metadata": {
            "tags": []
          },
          "execution_count": 13
        }
      ]
    },
    {
      "cell_type": "code",
      "metadata": {
        "id": "u2-OFnZn4mQG",
        "colab": {
          "base_uri": "https://localhost:8080/",
          "height": 894
        },
        "outputId": "cc1dbb14-5a8c-4f2f-aa7f-747aed7bb098"
      },
      "source": [
        "df[df['title'].str.contains('AR Gaming')]\n",
        "#Though same title, they are different videos."
      ],
      "execution_count": 14,
      "outputs": [
        {
          "output_type": "execute_result",
          "data": {
            "text/html": [
              "<div>\n",
              "<style scoped>\n",
              "    .dataframe tbody tr th:only-of-type {\n",
              "        vertical-align: middle;\n",
              "    }\n",
              "\n",
              "    .dataframe tbody tr th {\n",
              "        vertical-align: top;\n",
              "    }\n",
              "\n",
              "    .dataframe thead th {\n",
              "        text-align: right;\n",
              "    }\n",
              "</style>\n",
              "<table border=\"1\" class=\"dataframe\">\n",
              "  <thead>\n",
              "    <tr style=\"text-align: right;\">\n",
              "      <th></th>\n",
              "      <th>channelId</th>\n",
              "      <th>videoId</th>\n",
              "      <th>title</th>\n",
              "      <th>publishedAt</th>\n",
              "      <th>thumbnails</th>\n",
              "      <th>viewCount_Chan</th>\n",
              "      <th>subscriberCount</th>\n",
              "      <th>viewCount_Vid</th>\n",
              "      <th>likeCount</th>\n",
              "      <th>dislikeCount</th>\n",
              "      <th>Success</th>\n",
              "    </tr>\n",
              "  </thead>\n",
              "  <tbody>\n",
              "    <tr>\n",
              "      <th>5</th>\n",
              "      <td>UCiWJJha_PgNuQILTLofLPHg</td>\n",
              "      <td></td>\n",
              "      <td>AR Gaming</td>\n",
              "      <td>2021-05-20T09:56:11Z</td>\n",
              "      <td>https://yt3.ggpht.com/ytc/AAUvwnjY0MUm_VBZME2b...</td>\n",
              "      <td>0</td>\n",
              "      <td>7.0</td>\n",
              "      <td>NaN</td>\n",
              "      <td>NaN</td>\n",
              "      <td>NaN</td>\n",
              "      <td>0.000000</td>\n",
              "    </tr>\n",
              "    <tr>\n",
              "      <th>7</th>\n",
              "      <td>UCXe7CerLO6u8VuRT3rg3W0g</td>\n",
              "      <td></td>\n",
              "      <td>AR Gaming</td>\n",
              "      <td>2021-05-20T10:01:22Z</td>\n",
              "      <td>https://yt3.ggpht.com/ytc/AAUvwnjHZEE7W_E_MneL...</td>\n",
              "      <td>0</td>\n",
              "      <td>2.0</td>\n",
              "      <td>NaN</td>\n",
              "      <td>NaN</td>\n",
              "      <td>NaN</td>\n",
              "      <td>0.000000</td>\n",
              "    </tr>\n",
              "    <tr>\n",
              "      <th>8</th>\n",
              "      <td>UCH28uhUIFGftqZvrx-BIxbQ</td>\n",
              "      <td>Rz5d3A85oME</td>\n",
              "      <td>AR Gaming FreeFire Classic squad rank booyah m...</td>\n",
              "      <td>2020-07-21T07:28:27Z</td>\n",
              "      <td>https://i.ytimg.com/vi/Rz5d3A85oME/hqdefault.jpg</td>\n",
              "      <td>43382</td>\n",
              "      <td>3290.0</td>\n",
              "      <td>36739.0</td>\n",
              "      <td>2037.0</td>\n",
              "      <td>165.0</td>\n",
              "      <td>18369.500000</td>\n",
              "    </tr>\n",
              "    <tr>\n",
              "      <th>10</th>\n",
              "      <td>UCkBL2BCQjZTQ6aBA1wnsiCQ</td>\n",
              "      <td></td>\n",
              "      <td>AR Gaming</td>\n",
              "      <td>2019-03-03T10:49:25Z</td>\n",
              "      <td>https://yt3.ggpht.com/ytc/AAUvwnhVJu0U2phgcGCr...</td>\n",
              "      <td>304</td>\n",
              "      <td>15.0</td>\n",
              "      <td>NaN</td>\n",
              "      <td>NaN</td>\n",
              "      <td>NaN</td>\n",
              "      <td>0.000000</td>\n",
              "    </tr>\n",
              "    <tr>\n",
              "      <th>14</th>\n",
              "      <td>UCii9Y4OvXoODJYR7GOorhow</td>\n",
              "      <td></td>\n",
              "      <td>AR Gaming</td>\n",
              "      <td>2021-02-19T14:37:35Z</td>\n",
              "      <td>https://yt3.ggpht.com/ytc/AAUvwnh3Vg2yklTbZtt4...</td>\n",
              "      <td>0</td>\n",
              "      <td>3.0</td>\n",
              "      <td>NaN</td>\n",
              "      <td>NaN</td>\n",
              "      <td>NaN</td>\n",
              "      <td>0.000000</td>\n",
              "    </tr>\n",
              "    <tr>\n",
              "      <th>...</th>\n",
              "      <td>...</td>\n",
              "      <td>...</td>\n",
              "      <td>...</td>\n",
              "      <td>...</td>\n",
              "      <td>...</td>\n",
              "      <td>...</td>\n",
              "      <td>...</td>\n",
              "      <td>...</td>\n",
              "      <td>...</td>\n",
              "      <td>...</td>\n",
              "      <td>...</td>\n",
              "    </tr>\n",
              "    <tr>\n",
              "      <th>681</th>\n",
              "      <td>UCaUnHsf9MgvOP2-DBs-2btw</td>\n",
              "      <td>RoD8zSqZ2vk</td>\n",
              "      <td>AR Gaming intro</td>\n",
              "      <td>2021-05-19T20:08:06Z</td>\n",
              "      <td>https://i.ytimg.com/vi/RoD8zSqZ2vk/hqdefault.jpg</td>\n",
              "      <td>0</td>\n",
              "      <td>1.0</td>\n",
              "      <td>8.0</td>\n",
              "      <td>0.0</td>\n",
              "      <td>0.0</td>\n",
              "      <td>NaN</td>\n",
              "    </tr>\n",
              "    <tr>\n",
              "      <th>682</th>\n",
              "      <td>UCvp0i3hPI7_FXxwn0_4x3sg</td>\n",
              "      <td>u0dBye5mxUs</td>\n",
              "      <td>Free Fire Future&amp;#39;s Gun Screen 2021 AR Gaming</td>\n",
              "      <td>2021-05-19T18:02:45Z</td>\n",
              "      <td>https://i.ytimg.com/vi/u0dBye5mxUs/hqdefault.jpg</td>\n",
              "      <td>9190</td>\n",
              "      <td>NaN</td>\n",
              "      <td>5.0</td>\n",
              "      <td>0.0</td>\n",
              "      <td>0.0</td>\n",
              "      <td>5.000000</td>\n",
              "    </tr>\n",
              "    <tr>\n",
              "      <th>686</th>\n",
              "      <td>UCFkVOoCNMEi6kZddd-w68tg</td>\n",
              "      <td>-1YOMsLsheY</td>\n",
              "      <td>Full Rush Gameplay with Teamcode || AR Gaming ...</td>\n",
              "      <td>2021-05-20T05:19:13Z</td>\n",
              "      <td>https://i.ytimg.com/vi/-1YOMsLsheY/hqdefault.jpg</td>\n",
              "      <td>6912</td>\n",
              "      <td>291.0</td>\n",
              "      <td>76.0</td>\n",
              "      <td>20.0</td>\n",
              "      <td>3.0</td>\n",
              "      <td>19.000000</td>\n",
              "    </tr>\n",
              "    <tr>\n",
              "      <th>687</th>\n",
              "      <td>UCFkVOoCNMEi6kZddd-w68tg</td>\n",
              "      <td>3yWXIhbrJPk</td>\n",
              "      <td>Solo Vs Squad Gameplay || AR Gaming || Garena ...</td>\n",
              "      <td>2021-05-19T17:38:24Z</td>\n",
              "      <td>https://i.ytimg.com/vi/3yWXIhbrJPk/hqdefault.jpg</td>\n",
              "      <td>6912</td>\n",
              "      <td>291.0</td>\n",
              "      <td>12.0</td>\n",
              "      <td>11.0</td>\n",
              "      <td>1.0</td>\n",
              "      <td>0.041237</td>\n",
              "    </tr>\n",
              "    <tr>\n",
              "      <th>691</th>\n",
              "      <td>UCvp0i3hPI7_FXxwn0_4x3sg</td>\n",
              "      <td>Nacd7BJWe6w</td>\n",
              "      <td>Raistar OP Hadeshort Free Fire Part--4 #Shorts...</td>\n",
              "      <td>2021-05-20T13:52:09Z</td>\n",
              "      <td>https://i.ytimg.com/vi/Nacd7BJWe6w/hqdefault.jpg</td>\n",
              "      <td>9190</td>\n",
              "      <td>NaN</td>\n",
              "      <td>1.0</td>\n",
              "      <td>1.0</td>\n",
              "      <td>0.0</td>\n",
              "      <td>0.058824</td>\n",
              "    </tr>\n",
              "  </tbody>\n",
              "</table>\n",
              "<p>175 rows × 11 columns</p>\n",
              "</div>"
            ],
            "text/plain": [
              "0                   channelId      videoId  ... dislikeCount       Success\n",
              "5    UCiWJJha_PgNuQILTLofLPHg               ...          NaN      0.000000\n",
              "7    UCXe7CerLO6u8VuRT3rg3W0g               ...          NaN      0.000000\n",
              "8    UCH28uhUIFGftqZvrx-BIxbQ  Rz5d3A85oME  ...        165.0  18369.500000\n",
              "10   UCkBL2BCQjZTQ6aBA1wnsiCQ               ...          NaN      0.000000\n",
              "14   UCii9Y4OvXoODJYR7GOorhow               ...          NaN      0.000000\n",
              "..                        ...          ...  ...          ...           ...\n",
              "681  UCaUnHsf9MgvOP2-DBs-2btw  RoD8zSqZ2vk  ...          0.0           NaN\n",
              "682  UCvp0i3hPI7_FXxwn0_4x3sg  u0dBye5mxUs  ...          0.0      5.000000\n",
              "686  UCFkVOoCNMEi6kZddd-w68tg  -1YOMsLsheY  ...          3.0     19.000000\n",
              "687  UCFkVOoCNMEi6kZddd-w68tg  3yWXIhbrJPk  ...          1.0      0.041237\n",
              "691  UCvp0i3hPI7_FXxwn0_4x3sg  Nacd7BJWe6w  ...          0.0      0.058824\n",
              "\n",
              "[175 rows x 11 columns]"
            ]
          },
          "metadata": {
            "tags": []
          },
          "execution_count": 14
        }
      ]
    },
    {
      "cell_type": "code",
      "metadata": {
        "id": "T0Z668ANmCpZ",
        "colab": {
          "base_uri": "https://localhost:8080/"
        },
        "outputId": "2cad506d-a669-4d36-f0e3-fb962ce4d1bc"
      },
      "source": [
        "print(len(df.loc[df['viewCount_Vid']<80000])) #how many videos have less than 10,000 views\n",
        "print(len(df.loc[df['viewCount_Vid']>80000])) #how many videos have more than 10,000 views"
      ],
      "execution_count": 15,
      "outputs": [
        {
          "output_type": "stream",
          "text": [
            "2890\n",
            "2854\n"
          ],
          "name": "stdout"
        }
      ]
    },
    {
      "cell_type": "code",
      "metadata": {
        "id": "ZQ206sz6qR96"
      },
      "source": [
        "#adding category to this\n",
        "Target = []\n",
        "for i in df[\"viewCount_Vid\"]:\n",
        "  if i < 80000:\n",
        "    Target.append(\"Bad\")\n",
        "  elif i > 80000:\n",
        "    Target.append(\"Good\")\n",
        "  else:\n",
        "    Target.append(\"no\")"
      ],
      "execution_count": 16,
      "outputs": []
    },
    {
      "cell_type": "code",
      "metadata": {
        "id": "yk6qODhTj2p5"
      },
      "source": [
        "df[\"Performance\"] = Target"
      ],
      "execution_count": 17,
      "outputs": []
    },
    {
      "cell_type": "code",
      "metadata": {
        "id": "nbPJ5Nsa1UU1",
        "colab": {
          "base_uri": "https://localhost:8080/"
        },
        "outputId": "c96de400-e7c4-40ce-d210-a41be2a8f4ae"
      },
      "source": [
        "df[\"Performance\"].value_counts()"
      ],
      "execution_count": 18,
      "outputs": [
        {
          "output_type": "execute_result",
          "data": {
            "text/plain": [
              "Bad     2890\n",
              "Good    2854\n",
              "no       634\n",
              "Name: Performance, dtype: int64"
            ]
          },
          "metadata": {
            "tags": []
          },
          "execution_count": 18
        }
      ]
    },
    {
      "cell_type": "code",
      "metadata": {
        "id": "-5Uf6rY72x7x",
        "colab": {
          "base_uri": "https://localhost:8080/",
          "height": 929
        },
        "outputId": "c9f26f78-b592-446d-c413-680559e7f00c"
      },
      "source": [
        "df = df[df[\"Performance\"] != \"no\"]\n",
        "df"
      ],
      "execution_count": 19,
      "outputs": [
        {
          "output_type": "execute_result",
          "data": {
            "text/html": [
              "<div>\n",
              "<style scoped>\n",
              "    .dataframe tbody tr th:only-of-type {\n",
              "        vertical-align: middle;\n",
              "    }\n",
              "\n",
              "    .dataframe tbody tr th {\n",
              "        vertical-align: top;\n",
              "    }\n",
              "\n",
              "    .dataframe thead th {\n",
              "        text-align: right;\n",
              "    }\n",
              "</style>\n",
              "<table border=\"1\" class=\"dataframe\">\n",
              "  <thead>\n",
              "    <tr style=\"text-align: right;\">\n",
              "      <th></th>\n",
              "      <th>channelId</th>\n",
              "      <th>videoId</th>\n",
              "      <th>title</th>\n",
              "      <th>publishedAt</th>\n",
              "      <th>thumbnails</th>\n",
              "      <th>viewCount_Chan</th>\n",
              "      <th>subscriberCount</th>\n",
              "      <th>viewCount_Vid</th>\n",
              "      <th>likeCount</th>\n",
              "      <th>dislikeCount</th>\n",
              "      <th>Success</th>\n",
              "      <th>Performance</th>\n",
              "    </tr>\n",
              "  </thead>\n",
              "  <tbody>\n",
              "    <tr>\n",
              "      <th>1</th>\n",
              "      <td>UCVjCsq6PCd1RxrhkOfuGMsw</td>\n",
              "      <td>JA-OfBpHDkE</td>\n",
              "      <td>SIÊU NHÂN NOOB TEAM TẬP 7 : BIỆT ĐỘI SIÊU NHÂN...</td>\n",
              "      <td>2021-05-19T10:00:17Z</td>\n",
              "      <td>https://i.ytimg.com/vi/JA-OfBpHDkE/hqdefault.jpg</td>\n",
              "      <td>1210425611</td>\n",
              "      <td>1570000.0</td>\n",
              "      <td>266191.0</td>\n",
              "      <td>9810.0</td>\n",
              "      <td>99.0</td>\n",
              "      <td>0.169548</td>\n",
              "      <td>Good</td>\n",
              "    </tr>\n",
              "    <tr>\n",
              "      <th>2</th>\n",
              "      <td>UCmVzcQ5hXNecXAcbn6y7TEg</td>\n",
              "      <td>AKv4t7zUETQ</td>\n",
              "      <td>NEW SEASON RECORD in GEORGOPOL😱Pubg Mobile</td>\n",
              "      <td>2021-05-19T07:21:03Z</td>\n",
              "      <td>https://i.ytimg.com/vi/AKv4t7zUETQ/hqdefault.jpg</td>\n",
              "      <td>224876371</td>\n",
              "      <td>1510000.0</td>\n",
              "      <td>274465.0</td>\n",
              "      <td>19084.0</td>\n",
              "      <td>389.0</td>\n",
              "      <td>0.181765</td>\n",
              "      <td>Good</td>\n",
              "    </tr>\n",
              "    <tr>\n",
              "      <th>3</th>\n",
              "      <td>UCMrvxKTx9hLhZcOvJkYOnAw</td>\n",
              "      <td>qI1_k8B7Iqc</td>\n",
              "      <td>Wasting 12,000 Diamond 💎 Of As Gaming Opening ...</td>\n",
              "      <td>2021-05-18T05:45:40Z</td>\n",
              "      <td>https://i.ytimg.com/vi/qI1_k8B7Iqc/hqdefault.jpg</td>\n",
              "      <td>1177472102</td>\n",
              "      <td>11300000.0</td>\n",
              "      <td>1183954.0</td>\n",
              "      <td>123438.0</td>\n",
              "      <td>3126.0</td>\n",
              "      <td>0.104775</td>\n",
              "      <td>Good</td>\n",
              "    </tr>\n",
              "    <tr>\n",
              "      <th>4</th>\n",
              "      <td>UCTraT1P-qAimjAASU4wilTA</td>\n",
              "      <td>eSPyZH3AWp4</td>\n",
              "      <td>PUBG Mobile NOW | GTA Later - Kaztro Live</td>\n",
              "      <td>2021-05-19T14:42:38Z</td>\n",
              "      <td>https://i.ytimg.com/vi/eSPyZH3AWp4/hqdefault_l...</td>\n",
              "      <td>145447449</td>\n",
              "      <td>1060000.0</td>\n",
              "      <td>142174.0</td>\n",
              "      <td>20677.0</td>\n",
              "      <td>211.0</td>\n",
              "      <td>0.134126</td>\n",
              "      <td>Good</td>\n",
              "    </tr>\n",
              "    <tr>\n",
              "      <th>5</th>\n",
              "      <td>UCVjCsq6PCd1RxrhkOfuGMsw</td>\n",
              "      <td>3nI4BBKVPIE</td>\n",
              "      <td>MINI GAME : CUỘC THI TRỞ THÀNH ĐẦU BẾP VIP PRO...</td>\n",
              "      <td>2021-05-18T10:00:02Z</td>\n",
              "      <td>https://i.ytimg.com/vi/3nI4BBKVPIE/hqdefault.jpg</td>\n",
              "      <td>1210425611</td>\n",
              "      <td>1570000.0</td>\n",
              "      <td>450694.0</td>\n",
              "      <td>7994.0</td>\n",
              "      <td>138.0</td>\n",
              "      <td>0.287066</td>\n",
              "      <td>Good</td>\n",
              "    </tr>\n",
              "    <tr>\n",
              "      <th>...</th>\n",
              "      <td>...</td>\n",
              "      <td>...</td>\n",
              "      <td>...</td>\n",
              "      <td>...</td>\n",
              "      <td>...</td>\n",
              "      <td>...</td>\n",
              "      <td>...</td>\n",
              "      <td>...</td>\n",
              "      <td>...</td>\n",
              "      <td>...</td>\n",
              "      <td>...</td>\n",
              "      <td>...</td>\n",
              "    </tr>\n",
              "    <tr>\n",
              "      <th>720</th>\n",
              "      <td>UC8Uyi1LGJ8sPGTPDjPahK5A</td>\n",
              "      <td>MEP_rHg8EYY</td>\n",
              "      <td>May 19, 2021</td>\n",
              "      <td>2021-05-19T14:15:52Z</td>\n",
              "      <td>https://i.ytimg.com/vi/MEP_rHg8EYY/hqdefault.jpg</td>\n",
              "      <td>0</td>\n",
              "      <td>0.0</td>\n",
              "      <td>0.0</td>\n",
              "      <td>0.0</td>\n",
              "      <td>0.0</td>\n",
              "      <td>NaN</td>\n",
              "      <td>Bad</td>\n",
              "    </tr>\n",
              "    <tr>\n",
              "      <th>721</th>\n",
              "      <td>UCa2dvdO1GJIyNSLX9KjwCRg</td>\n",
              "      <td>btm2U36t02A</td>\n",
              "      <td>VR News</td>\n",
              "      <td>2021-05-19T07:00:07Z</td>\n",
              "      <td>https://i.ytimg.com/vi/btm2U36t02A/hqdefault.jpg</td>\n",
              "      <td>57</td>\n",
              "      <td>3.0</td>\n",
              "      <td>10.0</td>\n",
              "      <td>2.0</td>\n",
              "      <td>0.0</td>\n",
              "      <td>NaN</td>\n",
              "      <td>Bad</td>\n",
              "    </tr>\n",
              "    <tr>\n",
              "      <th>722</th>\n",
              "      <td>UCFIhUhuHS20LoW6Tp7hwfIw</td>\n",
              "      <td>buGCupKL8Ws</td>\n",
              "      <td>First VR videos</td>\n",
              "      <td>2021-05-20T14:23:42Z</td>\n",
              "      <td>https://i.ytimg.com/vi/buGCupKL8Ws/hqdefault.jpg</td>\n",
              "      <td>4</td>\n",
              "      <td>0.0</td>\n",
              "      <td>7.0</td>\n",
              "      <td>1.0</td>\n",
              "      <td>0.0</td>\n",
              "      <td>2.333333</td>\n",
              "      <td>Bad</td>\n",
              "    </tr>\n",
              "    <tr>\n",
              "      <th>723</th>\n",
              "      <td>UCWAmBKCOukkkjThIB3ZXK6A</td>\n",
              "      <td>P5ZLQ9_hjhQ</td>\n",
              "      <td>Screen players when they dont know what vr is</td>\n",
              "      <td>2021-05-18T19:19:42Z</td>\n",
              "      <td>https://i.ytimg.com/vi/P5ZLQ9_hjhQ/hqdefault.jpg</td>\n",
              "      <td>69</td>\n",
              "      <td>3.0</td>\n",
              "      <td>1.0</td>\n",
              "      <td>1.0</td>\n",
              "      <td>0.0</td>\n",
              "      <td>NaN</td>\n",
              "      <td>Bad</td>\n",
              "    </tr>\n",
              "    <tr>\n",
              "      <th>724</th>\n",
              "      <td>UCk5RYMZAdwNZXTvxeoMadhg</td>\n",
              "      <td>Qph_mmOab8Q</td>\n",
              "      <td>zero caliber reloaded</td>\n",
              "      <td>2021-05-20T13:18:19Z</td>\n",
              "      <td>https://i.ytimg.com/vi/Qph_mmOab8Q/hqdefault.jpg</td>\n",
              "      <td>1716</td>\n",
              "      <td>17.0</td>\n",
              "      <td>4.0</td>\n",
              "      <td>0.0</td>\n",
              "      <td>0.0</td>\n",
              "      <td>1.333333</td>\n",
              "      <td>Bad</td>\n",
              "    </tr>\n",
              "  </tbody>\n",
              "</table>\n",
              "<p>5744 rows × 12 columns</p>\n",
              "</div>"
            ],
            "text/plain": [
              "0                   channelId      videoId  ...   Success Performance\n",
              "1    UCVjCsq6PCd1RxrhkOfuGMsw  JA-OfBpHDkE  ...  0.169548        Good\n",
              "2    UCmVzcQ5hXNecXAcbn6y7TEg  AKv4t7zUETQ  ...  0.181765        Good\n",
              "3    UCMrvxKTx9hLhZcOvJkYOnAw  qI1_k8B7Iqc  ...  0.104775        Good\n",
              "4    UCTraT1P-qAimjAASU4wilTA  eSPyZH3AWp4  ...  0.134126        Good\n",
              "5    UCVjCsq6PCd1RxrhkOfuGMsw  3nI4BBKVPIE  ...  0.287066        Good\n",
              "..                        ...          ...  ...       ...         ...\n",
              "720  UC8Uyi1LGJ8sPGTPDjPahK5A  MEP_rHg8EYY  ...       NaN         Bad\n",
              "721  UCa2dvdO1GJIyNSLX9KjwCRg  btm2U36t02A  ...       NaN         Bad\n",
              "722  UCFIhUhuHS20LoW6Tp7hwfIw  buGCupKL8Ws  ...  2.333333         Bad\n",
              "723  UCWAmBKCOukkkjThIB3ZXK6A  P5ZLQ9_hjhQ  ...       NaN         Bad\n",
              "724  UCk5RYMZAdwNZXTvxeoMadhg  Qph_mmOab8Q  ...  1.333333         Bad\n",
              "\n",
              "[5744 rows x 12 columns]"
            ]
          },
          "metadata": {
            "tags": []
          },
          "execution_count": 19
        }
      ]
    },
    {
      "cell_type": "code",
      "metadata": {
        "id": "PmUeBfQB5z9I",
        "colab": {
          "base_uri": "https://localhost:8080/",
          "height": 929
        },
        "outputId": "195f818c-47f6-42a3-ce99-ea07f6f0be74"
      },
      "source": [
        "#we make sure that data point we use for the model have the target value\n",
        "df.dropna(subset=['title','thumbnails', 'Performance']) "
      ],
      "execution_count": 20,
      "outputs": [
        {
          "output_type": "execute_result",
          "data": {
            "text/html": [
              "<div>\n",
              "<style scoped>\n",
              "    .dataframe tbody tr th:only-of-type {\n",
              "        vertical-align: middle;\n",
              "    }\n",
              "\n",
              "    .dataframe tbody tr th {\n",
              "        vertical-align: top;\n",
              "    }\n",
              "\n",
              "    .dataframe thead th {\n",
              "        text-align: right;\n",
              "    }\n",
              "</style>\n",
              "<table border=\"1\" class=\"dataframe\">\n",
              "  <thead>\n",
              "    <tr style=\"text-align: right;\">\n",
              "      <th></th>\n",
              "      <th>channelId</th>\n",
              "      <th>videoId</th>\n",
              "      <th>title</th>\n",
              "      <th>publishedAt</th>\n",
              "      <th>thumbnails</th>\n",
              "      <th>viewCount_Chan</th>\n",
              "      <th>subscriberCount</th>\n",
              "      <th>viewCount_Vid</th>\n",
              "      <th>likeCount</th>\n",
              "      <th>dislikeCount</th>\n",
              "      <th>Success</th>\n",
              "      <th>Performance</th>\n",
              "    </tr>\n",
              "  </thead>\n",
              "  <tbody>\n",
              "    <tr>\n",
              "      <th>1</th>\n",
              "      <td>UCVjCsq6PCd1RxrhkOfuGMsw</td>\n",
              "      <td>JA-OfBpHDkE</td>\n",
              "      <td>SIÊU NHÂN NOOB TEAM TẬP 7 : BIỆT ĐỘI SIÊU NHÂN...</td>\n",
              "      <td>2021-05-19T10:00:17Z</td>\n",
              "      <td>https://i.ytimg.com/vi/JA-OfBpHDkE/hqdefault.jpg</td>\n",
              "      <td>1210425611</td>\n",
              "      <td>1570000.0</td>\n",
              "      <td>266191.0</td>\n",
              "      <td>9810.0</td>\n",
              "      <td>99.0</td>\n",
              "      <td>0.169548</td>\n",
              "      <td>Good</td>\n",
              "    </tr>\n",
              "    <tr>\n",
              "      <th>2</th>\n",
              "      <td>UCmVzcQ5hXNecXAcbn6y7TEg</td>\n",
              "      <td>AKv4t7zUETQ</td>\n",
              "      <td>NEW SEASON RECORD in GEORGOPOL😱Pubg Mobile</td>\n",
              "      <td>2021-05-19T07:21:03Z</td>\n",
              "      <td>https://i.ytimg.com/vi/AKv4t7zUETQ/hqdefault.jpg</td>\n",
              "      <td>224876371</td>\n",
              "      <td>1510000.0</td>\n",
              "      <td>274465.0</td>\n",
              "      <td>19084.0</td>\n",
              "      <td>389.0</td>\n",
              "      <td>0.181765</td>\n",
              "      <td>Good</td>\n",
              "    </tr>\n",
              "    <tr>\n",
              "      <th>3</th>\n",
              "      <td>UCMrvxKTx9hLhZcOvJkYOnAw</td>\n",
              "      <td>qI1_k8B7Iqc</td>\n",
              "      <td>Wasting 12,000 Diamond 💎 Of As Gaming Opening ...</td>\n",
              "      <td>2021-05-18T05:45:40Z</td>\n",
              "      <td>https://i.ytimg.com/vi/qI1_k8B7Iqc/hqdefault.jpg</td>\n",
              "      <td>1177472102</td>\n",
              "      <td>11300000.0</td>\n",
              "      <td>1183954.0</td>\n",
              "      <td>123438.0</td>\n",
              "      <td>3126.0</td>\n",
              "      <td>0.104775</td>\n",
              "      <td>Good</td>\n",
              "    </tr>\n",
              "    <tr>\n",
              "      <th>4</th>\n",
              "      <td>UCTraT1P-qAimjAASU4wilTA</td>\n",
              "      <td>eSPyZH3AWp4</td>\n",
              "      <td>PUBG Mobile NOW | GTA Later - Kaztro Live</td>\n",
              "      <td>2021-05-19T14:42:38Z</td>\n",
              "      <td>https://i.ytimg.com/vi/eSPyZH3AWp4/hqdefault_l...</td>\n",
              "      <td>145447449</td>\n",
              "      <td>1060000.0</td>\n",
              "      <td>142174.0</td>\n",
              "      <td>20677.0</td>\n",
              "      <td>211.0</td>\n",
              "      <td>0.134126</td>\n",
              "      <td>Good</td>\n",
              "    </tr>\n",
              "    <tr>\n",
              "      <th>5</th>\n",
              "      <td>UCVjCsq6PCd1RxrhkOfuGMsw</td>\n",
              "      <td>3nI4BBKVPIE</td>\n",
              "      <td>MINI GAME : CUỘC THI TRỞ THÀNH ĐẦU BẾP VIP PRO...</td>\n",
              "      <td>2021-05-18T10:00:02Z</td>\n",
              "      <td>https://i.ytimg.com/vi/3nI4BBKVPIE/hqdefault.jpg</td>\n",
              "      <td>1210425611</td>\n",
              "      <td>1570000.0</td>\n",
              "      <td>450694.0</td>\n",
              "      <td>7994.0</td>\n",
              "      <td>138.0</td>\n",
              "      <td>0.287066</td>\n",
              "      <td>Good</td>\n",
              "    </tr>\n",
              "    <tr>\n",
              "      <th>...</th>\n",
              "      <td>...</td>\n",
              "      <td>...</td>\n",
              "      <td>...</td>\n",
              "      <td>...</td>\n",
              "      <td>...</td>\n",
              "      <td>...</td>\n",
              "      <td>...</td>\n",
              "      <td>...</td>\n",
              "      <td>...</td>\n",
              "      <td>...</td>\n",
              "      <td>...</td>\n",
              "      <td>...</td>\n",
              "    </tr>\n",
              "    <tr>\n",
              "      <th>720</th>\n",
              "      <td>UC8Uyi1LGJ8sPGTPDjPahK5A</td>\n",
              "      <td>MEP_rHg8EYY</td>\n",
              "      <td>May 19, 2021</td>\n",
              "      <td>2021-05-19T14:15:52Z</td>\n",
              "      <td>https://i.ytimg.com/vi/MEP_rHg8EYY/hqdefault.jpg</td>\n",
              "      <td>0</td>\n",
              "      <td>0.0</td>\n",
              "      <td>0.0</td>\n",
              "      <td>0.0</td>\n",
              "      <td>0.0</td>\n",
              "      <td>NaN</td>\n",
              "      <td>Bad</td>\n",
              "    </tr>\n",
              "    <tr>\n",
              "      <th>721</th>\n",
              "      <td>UCa2dvdO1GJIyNSLX9KjwCRg</td>\n",
              "      <td>btm2U36t02A</td>\n",
              "      <td>VR News</td>\n",
              "      <td>2021-05-19T07:00:07Z</td>\n",
              "      <td>https://i.ytimg.com/vi/btm2U36t02A/hqdefault.jpg</td>\n",
              "      <td>57</td>\n",
              "      <td>3.0</td>\n",
              "      <td>10.0</td>\n",
              "      <td>2.0</td>\n",
              "      <td>0.0</td>\n",
              "      <td>NaN</td>\n",
              "      <td>Bad</td>\n",
              "    </tr>\n",
              "    <tr>\n",
              "      <th>722</th>\n",
              "      <td>UCFIhUhuHS20LoW6Tp7hwfIw</td>\n",
              "      <td>buGCupKL8Ws</td>\n",
              "      <td>First VR videos</td>\n",
              "      <td>2021-05-20T14:23:42Z</td>\n",
              "      <td>https://i.ytimg.com/vi/buGCupKL8Ws/hqdefault.jpg</td>\n",
              "      <td>4</td>\n",
              "      <td>0.0</td>\n",
              "      <td>7.0</td>\n",
              "      <td>1.0</td>\n",
              "      <td>0.0</td>\n",
              "      <td>2.333333</td>\n",
              "      <td>Bad</td>\n",
              "    </tr>\n",
              "    <tr>\n",
              "      <th>723</th>\n",
              "      <td>UCWAmBKCOukkkjThIB3ZXK6A</td>\n",
              "      <td>P5ZLQ9_hjhQ</td>\n",
              "      <td>Screen players when they dont know what vr is</td>\n",
              "      <td>2021-05-18T19:19:42Z</td>\n",
              "      <td>https://i.ytimg.com/vi/P5ZLQ9_hjhQ/hqdefault.jpg</td>\n",
              "      <td>69</td>\n",
              "      <td>3.0</td>\n",
              "      <td>1.0</td>\n",
              "      <td>1.0</td>\n",
              "      <td>0.0</td>\n",
              "      <td>NaN</td>\n",
              "      <td>Bad</td>\n",
              "    </tr>\n",
              "    <tr>\n",
              "      <th>724</th>\n",
              "      <td>UCk5RYMZAdwNZXTvxeoMadhg</td>\n",
              "      <td>Qph_mmOab8Q</td>\n",
              "      <td>zero caliber reloaded</td>\n",
              "      <td>2021-05-20T13:18:19Z</td>\n",
              "      <td>https://i.ytimg.com/vi/Qph_mmOab8Q/hqdefault.jpg</td>\n",
              "      <td>1716</td>\n",
              "      <td>17.0</td>\n",
              "      <td>4.0</td>\n",
              "      <td>0.0</td>\n",
              "      <td>0.0</td>\n",
              "      <td>1.333333</td>\n",
              "      <td>Bad</td>\n",
              "    </tr>\n",
              "  </tbody>\n",
              "</table>\n",
              "<p>5744 rows × 12 columns</p>\n",
              "</div>"
            ],
            "text/plain": [
              "0                   channelId      videoId  ...   Success Performance\n",
              "1    UCVjCsq6PCd1RxrhkOfuGMsw  JA-OfBpHDkE  ...  0.169548        Good\n",
              "2    UCmVzcQ5hXNecXAcbn6y7TEg  AKv4t7zUETQ  ...  0.181765        Good\n",
              "3    UCMrvxKTx9hLhZcOvJkYOnAw  qI1_k8B7Iqc  ...  0.104775        Good\n",
              "4    UCTraT1P-qAimjAASU4wilTA  eSPyZH3AWp4  ...  0.134126        Good\n",
              "5    UCVjCsq6PCd1RxrhkOfuGMsw  3nI4BBKVPIE  ...  0.287066        Good\n",
              "..                        ...          ...  ...       ...         ...\n",
              "720  UC8Uyi1LGJ8sPGTPDjPahK5A  MEP_rHg8EYY  ...       NaN         Bad\n",
              "721  UCa2dvdO1GJIyNSLX9KjwCRg  btm2U36t02A  ...       NaN         Bad\n",
              "722  UCFIhUhuHS20LoW6Tp7hwfIw  buGCupKL8Ws  ...  2.333333         Bad\n",
              "723  UCWAmBKCOukkkjThIB3ZXK6A  P5ZLQ9_hjhQ  ...       NaN         Bad\n",
              "724  UCk5RYMZAdwNZXTvxeoMadhg  Qph_mmOab8Q  ...  1.333333         Bad\n",
              "\n",
              "[5744 rows x 12 columns]"
            ]
          },
          "metadata": {
            "tags": []
          },
          "execution_count": 20
        }
      ]
    },
    {
      "cell_type": "code",
      "metadata": {
        "id": "ywuYzfhbsYLc",
        "colab": {
          "base_uri": "https://localhost:8080/",
          "height": 206
        },
        "outputId": "d5200b6f-bb28-48f4-ffe6-8e460e5c7527"
      },
      "source": [
        "final_df = df[[\"title\", \"thumbnails\", \"Performance\"]]\n",
        "final_df.head()"
      ],
      "execution_count": 21,
      "outputs": [
        {
          "output_type": "execute_result",
          "data": {
            "text/html": [
              "<div>\n",
              "<style scoped>\n",
              "    .dataframe tbody tr th:only-of-type {\n",
              "        vertical-align: middle;\n",
              "    }\n",
              "\n",
              "    .dataframe tbody tr th {\n",
              "        vertical-align: top;\n",
              "    }\n",
              "\n",
              "    .dataframe thead th {\n",
              "        text-align: right;\n",
              "    }\n",
              "</style>\n",
              "<table border=\"1\" class=\"dataframe\">\n",
              "  <thead>\n",
              "    <tr style=\"text-align: right;\">\n",
              "      <th></th>\n",
              "      <th>title</th>\n",
              "      <th>thumbnails</th>\n",
              "      <th>Performance</th>\n",
              "    </tr>\n",
              "  </thead>\n",
              "  <tbody>\n",
              "    <tr>\n",
              "      <th>1</th>\n",
              "      <td>SIÊU NHÂN NOOB TEAM TẬP 7 : BIỆT ĐỘI SIÊU NHÂN...</td>\n",
              "      <td>https://i.ytimg.com/vi/JA-OfBpHDkE/hqdefault.jpg</td>\n",
              "      <td>Good</td>\n",
              "    </tr>\n",
              "    <tr>\n",
              "      <th>2</th>\n",
              "      <td>NEW SEASON RECORD in GEORGOPOL😱Pubg Mobile</td>\n",
              "      <td>https://i.ytimg.com/vi/AKv4t7zUETQ/hqdefault.jpg</td>\n",
              "      <td>Good</td>\n",
              "    </tr>\n",
              "    <tr>\n",
              "      <th>3</th>\n",
              "      <td>Wasting 12,000 Diamond 💎 Of As Gaming Opening ...</td>\n",
              "      <td>https://i.ytimg.com/vi/qI1_k8B7Iqc/hqdefault.jpg</td>\n",
              "      <td>Good</td>\n",
              "    </tr>\n",
              "    <tr>\n",
              "      <th>4</th>\n",
              "      <td>PUBG Mobile NOW | GTA Later - Kaztro Live</td>\n",
              "      <td>https://i.ytimg.com/vi/eSPyZH3AWp4/hqdefault_l...</td>\n",
              "      <td>Good</td>\n",
              "    </tr>\n",
              "    <tr>\n",
              "      <th>5</th>\n",
              "      <td>MINI GAME : CUỘC THI TRỞ THÀNH ĐẦU BẾP VIP PRO...</td>\n",
              "      <td>https://i.ytimg.com/vi/3nI4BBKVPIE/hqdefault.jpg</td>\n",
              "      <td>Good</td>\n",
              "    </tr>\n",
              "  </tbody>\n",
              "</table>\n",
              "</div>"
            ],
            "text/plain": [
              "0                                              title  ... Performance\n",
              "1  SIÊU NHÂN NOOB TEAM TẬP 7 : BIỆT ĐỘI SIÊU NHÂN...  ...        Good\n",
              "2         NEW SEASON RECORD in GEORGOPOL😱Pubg Mobile  ...        Good\n",
              "3  Wasting 12,000 Diamond 💎 Of As Gaming Opening ...  ...        Good\n",
              "4          PUBG Mobile NOW | GTA Later - Kaztro Live  ...        Good\n",
              "5  MINI GAME : CUỘC THI TRỞ THÀNH ĐẦU BẾP VIP PRO...  ...        Good\n",
              "\n",
              "[5 rows x 3 columns]"
            ]
          },
          "metadata": {
            "tags": []
          },
          "execution_count": 21
        }
      ]
    },
    {
      "cell_type": "code",
      "metadata": {
        "id": "QQMH0KaxJpRs"
      },
      "source": [
        "import re\n",
        "def preprocess_text(sen):\n",
        "\n",
        "    # Single character removal\n",
        "    sen = re.sub(r\"\\s+[a-zA-Z]\\s+\", ' ', sen)\n",
        "\n",
        "    # Removing multiple spaces\n",
        "    sen = re.sub(r'\\s+', ' ', sen)\n",
        "\n",
        "    sen.lower()\n",
        "\n",
        "    return sen"
      ],
      "execution_count": 22,
      "outputs": []
    },
    {
      "cell_type": "code",
      "metadata": {
        "id": "ttSMN2qoTUFu",
        "colab": {
          "base_uri": "https://localhost:8080/",
          "height": 379
        },
        "outputId": "2e20e63f-3ad0-4c05-fee3-9d6113100c4f"
      },
      "source": [
        "# Apply function on the column 'text':\n",
        "final_df['cleaned_title'] = final_df['title'].apply(lambda x: preprocess_text(x))\n",
        "final_df.head()"
      ],
      "execution_count": 23,
      "outputs": [
        {
          "output_type": "stream",
          "text": [
            "/usr/local/lib/python3.7/dist-packages/ipykernel_launcher.py:2: SettingWithCopyWarning: \n",
            "A value is trying to be set on a copy of a slice from a DataFrame.\n",
            "Try using .loc[row_indexer,col_indexer] = value instead\n",
            "\n",
            "See the caveats in the documentation: https://pandas.pydata.org/pandas-docs/stable/user_guide/indexing.html#returning-a-view-versus-a-copy\n",
            "  \n"
          ],
          "name": "stderr"
        },
        {
          "output_type": "execute_result",
          "data": {
            "text/html": [
              "<div>\n",
              "<style scoped>\n",
              "    .dataframe tbody tr th:only-of-type {\n",
              "        vertical-align: middle;\n",
              "    }\n",
              "\n",
              "    .dataframe tbody tr th {\n",
              "        vertical-align: top;\n",
              "    }\n",
              "\n",
              "    .dataframe thead th {\n",
              "        text-align: right;\n",
              "    }\n",
              "</style>\n",
              "<table border=\"1\" class=\"dataframe\">\n",
              "  <thead>\n",
              "    <tr style=\"text-align: right;\">\n",
              "      <th></th>\n",
              "      <th>title</th>\n",
              "      <th>thumbnails</th>\n",
              "      <th>Performance</th>\n",
              "      <th>cleaned_title</th>\n",
              "    </tr>\n",
              "  </thead>\n",
              "  <tbody>\n",
              "    <tr>\n",
              "      <th>1</th>\n",
              "      <td>SIÊU NHÂN NOOB TEAM TẬP 7 : BIỆT ĐỘI SIÊU NHÂN...</td>\n",
              "      <td>https://i.ytimg.com/vi/JA-OfBpHDkE/hqdefault.jpg</td>\n",
              "      <td>Good</td>\n",
              "      <td>SIÊU NHÂN NOOB TEAM TẬP 7 : BIỆT ĐỘI SIÊU NHÂN...</td>\n",
              "    </tr>\n",
              "    <tr>\n",
              "      <th>2</th>\n",
              "      <td>NEW SEASON RECORD in GEORGOPOL😱Pubg Mobile</td>\n",
              "      <td>https://i.ytimg.com/vi/AKv4t7zUETQ/hqdefault.jpg</td>\n",
              "      <td>Good</td>\n",
              "      <td>NEW SEASON RECORD in GEORGOPOL😱Pubg Mobile</td>\n",
              "    </tr>\n",
              "    <tr>\n",
              "      <th>3</th>\n",
              "      <td>Wasting 12,000 Diamond 💎 Of As Gaming Opening ...</td>\n",
              "      <td>https://i.ytimg.com/vi/qI1_k8B7Iqc/hqdefault.jpg</td>\n",
              "      <td>Good</td>\n",
              "      <td>Wasting 12,000 Diamond 💎 Of As Gaming Opening ...</td>\n",
              "    </tr>\n",
              "    <tr>\n",
              "      <th>4</th>\n",
              "      <td>PUBG Mobile NOW | GTA Later - Kaztro Live</td>\n",
              "      <td>https://i.ytimg.com/vi/eSPyZH3AWp4/hqdefault_l...</td>\n",
              "      <td>Good</td>\n",
              "      <td>PUBG Mobile NOW | GTA Later - Kaztro Live</td>\n",
              "    </tr>\n",
              "    <tr>\n",
              "      <th>5</th>\n",
              "      <td>MINI GAME : CUỘC THI TRỞ THÀNH ĐẦU BẾP VIP PRO...</td>\n",
              "      <td>https://i.ytimg.com/vi/3nI4BBKVPIE/hqdefault.jpg</td>\n",
              "      <td>Good</td>\n",
              "      <td>MINI GAME : CUỘC THI TRỞ THÀNH ĐẦU BẾP VIP PRO...</td>\n",
              "    </tr>\n",
              "  </tbody>\n",
              "</table>\n",
              "</div>"
            ],
            "text/plain": [
              "0                                              title  ...                                      cleaned_title\n",
              "1  SIÊU NHÂN NOOB TEAM TẬP 7 : BIỆT ĐỘI SIÊU NHÂN...  ...  SIÊU NHÂN NOOB TEAM TẬP 7 : BIỆT ĐỘI SIÊU NHÂN...\n",
              "2         NEW SEASON RECORD in GEORGOPOL😱Pubg Mobile  ...         NEW SEASON RECORD in GEORGOPOL😱Pubg Mobile\n",
              "3  Wasting 12,000 Diamond 💎 Of As Gaming Opening ...  ...  Wasting 12,000 Diamond 💎 Of As Gaming Opening ...\n",
              "4          PUBG Mobile NOW | GTA Later - Kaztro Live  ...          PUBG Mobile NOW | GTA Later - Kaztro Live\n",
              "5  MINI GAME : CUỘC THI TRỞ THÀNH ĐẦU BẾP VIP PRO...  ...  MINI GAME : CUỘC THI TRỞ THÀNH ĐẦU BẾP VIP PRO...\n",
              "\n",
              "[5 rows x 4 columns]"
            ]
          },
          "metadata": {
            "tags": []
          },
          "execution_count": 23
        }
      ]
    },
    {
      "cell_type": "code",
      "metadata": {
        "colab": {
          "base_uri": "https://localhost:8080/"
        },
        "id": "qqdQOKoISUiF",
        "outputId": "621ec38f-7922-47e7-a86d-cb8459866352"
      },
      "source": [
        "final_df[\"Performance\"].value_counts()"
      ],
      "execution_count": 24,
      "outputs": [
        {
          "output_type": "execute_result",
          "data": {
            "text/plain": [
              "Bad     2890\n",
              "Good    2854\n",
              "Name: Performance, dtype: int64"
            ]
          },
          "metadata": {
            "tags": []
          },
          "execution_count": 24
        }
      ]
    },
    {
      "cell_type": "code",
      "metadata": {
        "colab": {
          "base_uri": "https://localhost:8080/"
        },
        "id": "VNYcs3CEcB0I",
        "outputId": "322c53af-0e2c-4723-909b-1b40b649c977"
      },
      "source": [
        "this = final_df[final_df[\"Performance\"]==\"Bad\"]\n",
        "this[\"title\"]"
      ],
      "execution_count": 25,
      "outputs": [
        {
          "output_type": "execute_result",
          "data": {
            "text/plain": [
              "6      We Found JERRY the Cartoon Dog in Baldi&#39;s ...\n",
              "9      8 Video Games Heroes Who Completely Failed At ...\n",
              "15     Malaysia Vs Sri Lankan || D entertainment, Sua...\n",
              "24     Reaksi up gaming di gift ryzen!!! kocak reaksi...\n",
              "41     [100%] Redmi K40 Gaming đã cài được Google Pla...\n",
              "                             ...                        \n",
              "720                                         May 19, 2021\n",
              "721                                              VR News\n",
              "722                                      First VR videos\n",
              "723        Screen players when they dont know what vr is\n",
              "724                                zero caliber reloaded\n",
              "Name: title, Length: 2890, dtype: object"
            ]
          },
          "metadata": {
            "tags": []
          },
          "execution_count": 25
        }
      ]
    },
    {
      "cell_type": "code",
      "metadata": {
        "id": "Qy5mJbKVdApp",
        "colab": {
          "base_uri": "https://localhost:8080/"
        },
        "outputId": "b4fadccf-e376-438f-851a-adfa4646cbd1"
      },
      "source": [
        "this = final_df[final_df[\"Performance\"]==\"Good\"]\n",
        "this[\"title\"]"
      ],
      "execution_count": 26,
      "outputs": [
        {
          "output_type": "execute_result",
          "data": {
            "text/plain": [
              "1      SIÊU NHÂN NOOB TEAM TẬP 7 : BIỆT ĐỘI SIÊU NHÂN...\n",
              "2             NEW SEASON RECORD in GEORGOPOL😱Pubg Mobile\n",
              "3      Wasting 12,000 Diamond 💎 Of As Gaming Opening ...\n",
              "4              PUBG Mobile NOW | GTA Later - Kaztro Live\n",
              "5      MINI GAME : CUỘC THI TRỞ THÀNH ĐẦU BẾP VIP PRO...\n",
              "                             ...                        \n",
              "664    Jio Launches 3D AR Glasses, 5G, New Jio TV+ an...\n",
              "665       He Didn&#39;t Think This VR Game Could Do This\n",
              "668    Uyyala Jampala Telugu Full Movie | Raj Tarun, ...\n",
              "675                 7 Zordaar Apps That You Should Try !\n",
              "681           Snapchat Spectacles 3 | 3D Smart Glasses 🔥\n",
              "Name: title, Length: 2854, dtype: object"
            ]
          },
          "metadata": {
            "tags": []
          },
          "execution_count": 26
        }
      ]
    },
    {
      "cell_type": "code",
      "metadata": {
        "colab": {
          "base_uri": "https://localhost:8080/"
        },
        "id": "u3ITw1KDmzru",
        "outputId": "aa6d9f4b-5de4-4bb7-94ce-fa4a6dae973b"
      },
      "source": [
        "from sklearn.pipeline import Pipeline\n",
        "from sklearn.linear_model import LogisticRegression\n",
        "from sklearn.naive_bayes import MultinomialNB\n",
        "from sklearn.metrics import accuracy_score, classification_report\n",
        "from sklearn.datasets import make_classification\n",
        "from sklearn.feature_extraction.text import CountVectorizer\n",
        "from sklearn.model_selection import train_test_split\n",
        "\n",
        "X = final_df[\"cleaned_title\"]\n",
        "y = final_df['Performance']\n",
        "X_train, X_test, y_train, y_test = train_test_split(X, y, test_size=0.30, random_state=0)\n",
        "\n",
        "\n",
        "pipeline = Pipeline([('vect', CountVectorizer(min_df=10, max_df=.5)),(\"logreg\", LogisticRegression(C=.01, solver='liblinear'))])\n",
        "\n",
        "#let's split the data into train and test\n",
        "\n",
        "pipeline.fit(X_train,y_train)\n",
        "\n",
        "\n",
        "y_pred = pipeline.predict(X_test)\n",
        "print(classification_report(y_test, y_pred))\n",
        "print('Accuracy: {} %'.format(100 * accuracy_score(y_test, y_pred)))\n",
        "\n",
        "# Saving the Pipeline\n",
        "\n",
        "from joblib import dump\n",
        "dump(pipeline, 'title_classifier.joblib')"
      ],
      "execution_count": 34,
      "outputs": [
        {
          "output_type": "stream",
          "text": [
            "              precision    recall  f1-score   support\n",
            "\n",
            "         Bad       0.69      0.64      0.66       873\n",
            "        Good       0.66      0.70      0.68       851\n",
            "\n",
            "    accuracy                           0.67      1724\n",
            "   macro avg       0.67      0.67      0.67      1724\n",
            "weighted avg       0.67      0.67      0.67      1724\n",
            "\n",
            "Accuracy: 67.05336426914154 %\n"
          ],
          "name": "stdout"
        },
        {
          "output_type": "execute_result",
          "data": {
            "text/plain": [
              "['title_classifier.joblib']"
            ]
          },
          "metadata": {
            "tags": []
          },
          "execution_count": 34
        }
      ]
    },
    {
      "cell_type": "code",
      "metadata": {
        "id": "wWepTh1RJoLX",
        "colab": {
          "base_uri": "https://localhost:8080/"
        },
        "outputId": "3431ca44-53ba-4bf5-a812-ec0d3d8a9728"
      },
      "source": [
        "from sklearn.feature_extraction.text import CountVectorizer\n",
        "vect = CountVectorizer(min_df=10, max_df=.5)\n",
        "vect = vect.fit(final_df[\"cleaned_title\"])\n",
        "cleaned = vect.transform(final_df[\"cleaned_title\"])\n",
        "\n",
        "\n",
        "print(\"X:\\n{}\".format(repr(cleaned)))\n"
      ],
      "execution_count": 28,
      "outputs": [
        {
          "output_type": "stream",
          "text": [
            "X:\n",
            "<5744x685 sparse matrix of type '<class 'numpy.int64'>'\n",
            "\twith 37331 stored elements in Compressed Sparse Row format>\n"
          ],
          "name": "stdout"
        }
      ]
    },
    {
      "cell_type": "code",
      "metadata": {
        "id": "whrONhjZJRPq"
      },
      "source": [
        "#let's split the data into train and test\n",
        "from sklearn.model_selection import train_test_split\n",
        "X = cleaned\n",
        "y = final_df['Performance']\n",
        "X_train, X_test, y_train, y_test = train_test_split(X, y, test_size=0.30, random_state=0)"
      ],
      "execution_count": 29,
      "outputs": []
    },
    {
      "cell_type": "code",
      "metadata": {
        "id": "cGcXjodxMBJh",
        "colab": {
          "base_uri": "https://localhost:8080/"
        },
        "outputId": "e1be3ff1-d3a7-4d65-dc3c-e2738893dd74"
      },
      "source": [
        "from sklearn.linear_model import LogisticRegression\n",
        "logreg = LogisticRegression(C=.01, solver='liblinear').fit(X_train, y_train)\n",
        "print(\"Training set score: {:.3f}\".format(logreg.score(X_train, y_train)))\n",
        "print(\"Test score: {:.2f}\".format(logreg.score(X_test, y_test)))\n"
      ],
      "execution_count": 30,
      "outputs": [
        {
          "output_type": "stream",
          "text": [
            "Training set score: 0.705\n",
            "Test score: 0.68\n"
          ],
          "name": "stdout"
        }
      ]
    },
    {
      "cell_type": "code",
      "metadata": {
        "id": "Bd7NyGh6MfIu",
        "colab": {
          "base_uri": "https://localhost:8080/"
        },
        "outputId": "38615707-2b2d-45bc-88c0-0045e16d47b1"
      },
      "source": [
        "coefs=logreg.coef_[0]\n",
        "sorted_coefs = sorted ((zip(vect.get_feature_names(), coefs)),\n",
        "                key = lambda e:e[1], reverse=True)\n",
        "\n",
        "low = sorted_coefs[-20:]\n",
        "high = sorted_coefs[:20]\n",
        "print(\"Logistic Regression\")\n",
        "print(\"Lowest coefficients:\")\n",
        "for i in low:\n",
        "    print(i)\n",
        "print(\"Highest coefficients:\")\n",
        "for i in high:\n",
        "    print(i)\n"
      ],
      "execution_count": 31,
      "outputs": [
        {
          "output_type": "stream",
          "text": [
            "Logistic Regression\n",
            "Lowest coefficients:\n",
            "('mobile', -0.09109648846674752)\n",
            "('squad', -0.09161409903735541)\n",
            "('s6', -0.09271510103208955)\n",
            "('s9', -0.09385088801621885)\n",
            "('a10', -0.0966322049213621)\n",
            "('a7', -0.10973796277346173)\n",
            "('play', -0.11194315904305702)\n",
            "('may', -0.14778792556558773)\n",
            "('game', -0.14783812377174077)\n",
            "('ps5', -0.17676342207504503)\n",
            "('vr', -0.1837095224588644)\n",
            "('live', -0.19928024756589624)\n",
            "('shooter', -0.19977334894178567)\n",
            "('lite', -0.20995321076720028)\n",
            "('by', -0.2203363639673557)\n",
            "('2021', -0.22387823310326704)\n",
            "('pubg', -0.23420597404116175)\n",
            "('games', -0.2633477206904008)\n",
            "('gaming', -0.5043345165720405)\n",
            "('ar', -0.619495297545463)\n",
            "Highest coefficients:\n",
            "('the', 0.24421683778093292)\n",
            "('roblox', 0.2032841259821955)\n",
            "('amp', 0.17477570287972177)\n",
            "('trailer', 0.1743950764576158)\n",
            "('minecraft', 0.1720517936715315)\n",
            "('zefa', 0.16829349062983262)\n",
            "('mini', 0.15946821192033964)\n",
            "('mobil', 0.15731083021413872)\n",
            "('nerf', 0.14377621708939267)\n",
            "('thách', 0.143667503430657)\n",
            "('garena', 0.14098935963253587)\n",
            "('first', 0.14025023512329635)\n",
            "('thử', 0.13819851112650705)\n",
            "('dynamo', 0.13749489989694255)\n",
            "('on', 0.13322576956882326)\n",
            "('39', 0.1294365167629139)\n",
            "('to', 0.12448893034872326)\n",
            "('và', 0.12121079409022219)\n",
            "('gta', 0.11935485230311184)\n",
            "('ets2', 0.11836219411791842)\n"
          ],
          "name": "stdout"
        }
      ]
    },
    {
      "cell_type": "code",
      "metadata": {
        "id": "__ai38OBMVsq",
        "colab": {
          "base_uri": "https://localhost:8080/"
        },
        "outputId": "0508dd7e-76f3-4222-d70a-3679c1fcf465"
      },
      "source": [
        "from sklearn.naive_bayes import MultinomialNB\n",
        "nbModel = MultinomialNB(alpha=10).fit(X_train, y_train)\n",
        "print(\"Training set score: {:.3f}\".format(nbModel.score(X_train, y_train)))\n",
        "print(\"Test score: {:.2f}\".format(nbModel.score(X_test, y_test)))"
      ],
      "execution_count": 32,
      "outputs": [
        {
          "output_type": "stream",
          "text": [
            "Training set score: 0.733\n",
            "Test score: 0.69\n"
          ],
          "name": "stdout"
        }
      ]
    },
    {
      "cell_type": "code",
      "metadata": {
        "id": "dGtqTN1yMmmX",
        "colab": {
          "base_uri": "https://localhost:8080/"
        },
        "outputId": "eaf33a96-bd43-4af5-9abd-ff898a60e8ca"
      },
      "source": [
        "coefs=nbModel.coef_[0]\n",
        "sorted_coefs = sorted ((zip(vect.get_feature_names(), coefs)),\n",
        "                key = lambda e:e[1], reverse=True)\n",
        "\n",
        "low = sorted_coefs[-20:]\n",
        "high = sorted_coefs[:20]\n",
        "print (\"Multinomial NB\")\n",
        "print(\"Lowest coefficients:\")\n",
        "for i in low:\n",
        "    print(i)\n",
        "print(\"Highest coefficients:\")\n",
        "for i in high:\n",
        "    print(i)\n"
      ],
      "execution_count": 33,
      "outputs": [
        {
          "output_type": "stream",
          "text": [
            "Multinomial NB\n",
            "Lowest coefficients:\n",
            "('argaming', -7.614065446068364)\n",
            "('boy', -7.614065446068364)\n",
            "('damage', -7.614065446068364)\n",
            "('driver', -7.614065446068364)\n",
            "('gone', -7.614065446068364)\n",
            "('grenade', -7.614065446068364)\n",
            "('killed', -7.614065446068364)\n",
            "('mk14', -7.614065446068364)\n",
            "('pubglitelive', -7.614065446068364)\n",
            "('pubgmobile', -7.614065446068364)\n",
            "('ranked', -7.614065446068364)\n",
            "('running', -7.614065446068364)\n",
            "('s12k', -7.614065446068364)\n",
            "('scrim', -7.614065446068364)\n",
            "('status', -7.614065446068364)\n",
            "('tdm', -7.614065446068364)\n",
            "('unlimited', -7.614065446068364)\n",
            "('vrgaming', -7.614065446068364)\n",
            "('wb', -7.614065446068364)\n",
            "('yt', -7.614065446068364)\n",
            "Highest coefficients:\n",
            "('games', -3.905383364658248)\n",
            "('vr', -3.9712299304558343)\n",
            "('gaming', -4.084768061778893)\n",
            "('game', -4.129753157695702)\n",
            "('the', -4.239896736794128)\n",
            "('mobil', -4.3331542302807105)\n",
            "('switch', -4.375386993903984)\n",
            "('stream', -4.423589095721861)\n",
            "('ps5', -4.427712812905723)\n",
            "('gameplay', -4.509478767602291)\n",
            "('nintendo', -4.527578809245909)\n",
            "('to', -4.628383508367874)\n",
            "('in', -4.729264733221655)\n",
            "('best', -4.792686559659151)\n",
            "('shooter', -4.835246174077946)\n",
            "('top', -4.886212617669974)\n",
            "('free', -4.899370702247485)\n",
            "('of', -4.899370702247485)\n",
            "('amp', -4.939916796641835)\n",
            "('new', -4.946837239486409)\n"
          ],
          "name": "stdout"
        }
      ]
    },
    {
      "cell_type": "code",
      "metadata": {
        "id": "KbWr00lbsofT",
        "colab": {
          "base_uri": "https://localhost:8080/",
          "height": 1000
        },
        "outputId": "0d8b3486-41cf-45a0-85bf-930cc9bfd850"
      },
      "source": [
        "!pip install streamlit\n",
        "!pip install pyngrok"
      ],
      "execution_count": null,
      "outputs": [
        {
          "output_type": "stream",
          "text": [
            "Collecting streamlit\n",
            "\u001b[?25l  Downloading https://files.pythonhosted.org/packages/04/11/57097e14f72a2d1b2a1bbe86c2a8bc375661bfd5c30b5e8cee7c2fad9a44/streamlit-0.82.0-py2.py3-none-any.whl (8.2MB)\n",
            "\u001b[K     |████████████████████████████████| 8.2MB 5.1MB/s \n",
            "\u001b[?25hCollecting base58\n",
            "  Downloading https://files.pythonhosted.org/packages/b8/a1/d9f565e9910c09fd325dc638765e8843a19fa696275c16cc08cf3b0a3c25/base58-2.1.0-py3-none-any.whl\n",
            "Requirement already satisfied: numpy in /usr/local/lib/python3.7/dist-packages (from streamlit) (1.19.5)\n",
            "Requirement already satisfied: tzlocal in /usr/local/lib/python3.7/dist-packages (from streamlit) (1.5.1)\n",
            "Requirement already satisfied: cachetools>=4.0 in /usr/local/lib/python3.7/dist-packages (from streamlit) (4.2.2)\n",
            "Requirement already satisfied: pyarrow; python_version < \"3.9\" in /usr/local/lib/python3.7/dist-packages (from streamlit) (3.0.0)\n",
            "Requirement already satisfied: requests in /usr/local/lib/python3.7/dist-packages (from streamlit) (2.23.0)\n",
            "Collecting blinker\n",
            "\u001b[?25l  Downloading https://files.pythonhosted.org/packages/1b/51/e2a9f3b757eb802f61dc1f2b09c8c99f6eb01cf06416c0671253536517b6/blinker-1.4.tar.gz (111kB)\n",
            "\u001b[K     |████████████████████████████████| 112kB 45.6MB/s \n",
            "\u001b[?25hRequirement already satisfied: protobuf!=3.11,>=3.6.0 in /usr/local/lib/python3.7/dist-packages (from streamlit) (3.12.4)\n",
            "Requirement already satisfied: click<8.0,>=7.0 in /usr/local/lib/python3.7/dist-packages (from streamlit) (7.1.2)\n",
            "Collecting pydeck>=0.1.dev5\n",
            "\u001b[?25l  Downloading https://files.pythonhosted.org/packages/d6/bc/f0e44828e4290367c869591d50d3671a4d0ee94926da6cb734b7b200308c/pydeck-0.6.2-py2.py3-none-any.whl (4.2MB)\n",
            "\u001b[K     |████████████████████████████████| 4.2MB 36.1MB/s \n",
            "\u001b[?25hRequirement already satisfied: tornado>=5.0 in /usr/local/lib/python3.7/dist-packages (from streamlit) (5.1.1)\n",
            "Requirement already satisfied: packaging in /usr/local/lib/python3.7/dist-packages (from streamlit) (20.9)\n",
            "Requirement already satisfied: pandas>=0.21.0 in /usr/local/lib/python3.7/dist-packages (from streamlit) (1.1.5)\n",
            "Requirement already satisfied: pillow>=6.2.0 in /usr/local/lib/python3.7/dist-packages (from streamlit) (7.1.2)\n",
            "Collecting validators\n",
            "  Downloading https://files.pythonhosted.org/packages/db/2f/7fed3ee94ad665ad2c1de87f858f10a7785251ff75b4fd47987888d07ef1/validators-0.18.2-py3-none-any.whl\n",
            "Collecting gitpython\n",
            "\u001b[?25l  Downloading https://files.pythonhosted.org/packages/a6/99/98019716955ba243657daedd1de8f3a88ca1f5b75057c38e959db22fb87b/GitPython-3.1.14-py3-none-any.whl (159kB)\n",
            "\u001b[K     |████████████████████████████████| 163kB 39.4MB/s \n",
            "\u001b[?25hCollecting watchdog; platform_system != \"Darwin\"\n",
            "\u001b[?25l  Downloading https://files.pythonhosted.org/packages/f2/5b/36b3b11e557830de6fc1dc06e9aa3ee274119b8cea9cc98175dbbf72cf87/watchdog-2.1.2-py3-none-manylinux2014_x86_64.whl (74kB)\n",
            "\u001b[K     |████████████████████████████████| 81kB 6.7MB/s \n",
            "\u001b[?25hRequirement already satisfied: python-dateutil in /usr/local/lib/python3.7/dist-packages (from streamlit) (2.8.1)\n",
            "Requirement already satisfied: toml in /usr/local/lib/python3.7/dist-packages (from streamlit) (0.10.2)\n",
            "Requirement already satisfied: altair>=3.2.0 in /usr/local/lib/python3.7/dist-packages (from streamlit) (4.1.0)\n",
            "Requirement already satisfied: astor in /usr/local/lib/python3.7/dist-packages (from streamlit) (0.8.1)\n",
            "Requirement already satisfied: pytz in /usr/local/lib/python3.7/dist-packages (from tzlocal->streamlit) (2018.9)\n",
            "Requirement already satisfied: certifi>=2017.4.17 in /usr/local/lib/python3.7/dist-packages (from requests->streamlit) (2021.5.30)\n",
            "Requirement already satisfied: urllib3!=1.25.0,!=1.25.1,<1.26,>=1.21.1 in /usr/local/lib/python3.7/dist-packages (from requests->streamlit) (1.24.3)\n",
            "Requirement already satisfied: chardet<4,>=3.0.2 in /usr/local/lib/python3.7/dist-packages (from requests->streamlit) (3.0.4)\n",
            "Requirement already satisfied: idna<3,>=2.5 in /usr/local/lib/python3.7/dist-packages (from requests->streamlit) (2.10)\n",
            "Requirement already satisfied: setuptools in /usr/local/lib/python3.7/dist-packages (from protobuf!=3.11,>=3.6.0->streamlit) (57.0.0)\n",
            "Requirement already satisfied: six>=1.9 in /usr/local/lib/python3.7/dist-packages (from protobuf!=3.11,>=3.6.0->streamlit) (1.15.0)\n",
            "Requirement already satisfied: jinja2>=2.10.1 in /usr/local/lib/python3.7/dist-packages (from pydeck>=0.1.dev5->streamlit) (2.11.3)\n",
            "Requirement already satisfied: traitlets>=4.3.2 in /usr/local/lib/python3.7/dist-packages (from pydeck>=0.1.dev5->streamlit) (5.0.5)\n",
            "Requirement already satisfied: ipywidgets>=7.0.0 in /usr/local/lib/python3.7/dist-packages (from pydeck>=0.1.dev5->streamlit) (7.6.3)\n",
            "Collecting ipykernel>=5.1.2; python_version >= \"3.4\"\n",
            "\u001b[?25l  Downloading https://files.pythonhosted.org/packages/90/6d/6c8fe4b658f77947d4244ce81f60230c4c8d1dc1a21ae83e63b269339178/ipykernel-5.5.5-py3-none-any.whl (120kB)\n",
            "\u001b[K     |████████████████████████████████| 122kB 39.2MB/s \n",
            "\u001b[?25hRequirement already satisfied: pyparsing>=2.0.2 in /usr/local/lib/python3.7/dist-packages (from packaging->streamlit) (2.4.7)\n",
            "Requirement already satisfied: decorator>=3.4.0 in /usr/local/lib/python3.7/dist-packages (from validators->streamlit) (4.4.2)\n",
            "Collecting gitdb<5,>=4.0.1\n",
            "\u001b[?25l  Downloading https://files.pythonhosted.org/packages/ea/e8/f414d1a4f0bbc668ed441f74f44c116d9816833a48bf81d22b697090dba8/gitdb-4.0.7-py3-none-any.whl (63kB)\n",
            "\u001b[K     |████████████████████████████████| 71kB 6.9MB/s \n",
            "\u001b[?25hRequirement already satisfied: entrypoints in /usr/local/lib/python3.7/dist-packages (from altair>=3.2.0->streamlit) (0.3)\n",
            "Requirement already satisfied: toolz in /usr/local/lib/python3.7/dist-packages (from altair>=3.2.0->streamlit) (0.11.1)\n",
            "Requirement already satisfied: jsonschema in /usr/local/lib/python3.7/dist-packages (from altair>=3.2.0->streamlit) (2.6.0)\n",
            "Requirement already satisfied: MarkupSafe>=0.23 in /usr/local/lib/python3.7/dist-packages (from jinja2>=2.10.1->pydeck>=0.1.dev5->streamlit) (2.0.1)\n",
            "Requirement already satisfied: ipython-genutils in /usr/local/lib/python3.7/dist-packages (from traitlets>=4.3.2->pydeck>=0.1.dev5->streamlit) (0.2.0)\n",
            "Requirement already satisfied: jupyterlab-widgets>=1.0.0; python_version >= \"3.6\" in /usr/local/lib/python3.7/dist-packages (from ipywidgets>=7.0.0->pydeck>=0.1.dev5->streamlit) (1.0.0)\n",
            "Requirement already satisfied: ipython>=4.0.0; python_version >= \"3.3\" in /usr/local/lib/python3.7/dist-packages (from ipywidgets>=7.0.0->pydeck>=0.1.dev5->streamlit) (5.5.0)\n",
            "Requirement already satisfied: nbformat>=4.2.0 in /usr/local/lib/python3.7/dist-packages (from ipywidgets>=7.0.0->pydeck>=0.1.dev5->streamlit) (5.1.3)\n",
            "Requirement already satisfied: widgetsnbextension~=3.5.0 in /usr/local/lib/python3.7/dist-packages (from ipywidgets>=7.0.0->pydeck>=0.1.dev5->streamlit) (3.5.1)\n",
            "Requirement already satisfied: jupyter-client in /usr/local/lib/python3.7/dist-packages (from ipykernel>=5.1.2; python_version >= \"3.4\"->pydeck>=0.1.dev5->streamlit) (5.3.5)\n",
            "Collecting smmap<5,>=3.0.1\n",
            "  Downloading https://files.pythonhosted.org/packages/68/ee/d540eb5e5996eb81c26ceffac6ee49041d473bc5125f2aa995cf51ec1cf1/smmap-4.0.0-py2.py3-none-any.whl\n",
            "Requirement already satisfied: pickleshare in /usr/local/lib/python3.7/dist-packages (from ipython>=4.0.0; python_version >= \"3.3\"->ipywidgets>=7.0.0->pydeck>=0.1.dev5->streamlit) (0.7.5)\n",
            "Requirement already satisfied: simplegeneric>0.8 in /usr/local/lib/python3.7/dist-packages (from ipython>=4.0.0; python_version >= \"3.3\"->ipywidgets>=7.0.0->pydeck>=0.1.dev5->streamlit) (0.8.1)\n",
            "Requirement already satisfied: prompt-toolkit<2.0.0,>=1.0.4 in /usr/local/lib/python3.7/dist-packages (from ipython>=4.0.0; python_version >= \"3.3\"->ipywidgets>=7.0.0->pydeck>=0.1.dev5->streamlit) (1.0.18)\n",
            "Requirement already satisfied: pexpect; sys_platform != \"win32\" in /usr/local/lib/python3.7/dist-packages (from ipython>=4.0.0; python_version >= \"3.3\"->ipywidgets>=7.0.0->pydeck>=0.1.dev5->streamlit) (4.8.0)\n",
            "Requirement already satisfied: pygments in /usr/local/lib/python3.7/dist-packages (from ipython>=4.0.0; python_version >= \"3.3\"->ipywidgets>=7.0.0->pydeck>=0.1.dev5->streamlit) (2.6.1)\n",
            "Requirement already satisfied: jupyter-core in /usr/local/lib/python3.7/dist-packages (from nbformat>=4.2.0->ipywidgets>=7.0.0->pydeck>=0.1.dev5->streamlit) (4.7.1)\n",
            "Requirement already satisfied: notebook>=4.4.1 in /usr/local/lib/python3.7/dist-packages (from widgetsnbextension~=3.5.0->ipywidgets>=7.0.0->pydeck>=0.1.dev5->streamlit) (5.3.1)\n",
            "Requirement already satisfied: pyzmq>=13 in /usr/local/lib/python3.7/dist-packages (from jupyter-client->ipykernel>=5.1.2; python_version >= \"3.4\"->pydeck>=0.1.dev5->streamlit) (22.1.0)\n",
            "Requirement already satisfied: wcwidth in /usr/local/lib/python3.7/dist-packages (from prompt-toolkit<2.0.0,>=1.0.4->ipython>=4.0.0; python_version >= \"3.3\"->ipywidgets>=7.0.0->pydeck>=0.1.dev5->streamlit) (0.2.5)\n",
            "Requirement already satisfied: ptyprocess>=0.5 in /usr/local/lib/python3.7/dist-packages (from pexpect; sys_platform != \"win32\"->ipython>=4.0.0; python_version >= \"3.3\"->ipywidgets>=7.0.0->pydeck>=0.1.dev5->streamlit) (0.7.0)\n",
            "Requirement already satisfied: Send2Trash in /usr/local/lib/python3.7/dist-packages (from notebook>=4.4.1->widgetsnbextension~=3.5.0->ipywidgets>=7.0.0->pydeck>=0.1.dev5->streamlit) (1.5.0)\n",
            "Requirement already satisfied: nbconvert in /usr/local/lib/python3.7/dist-packages (from notebook>=4.4.1->widgetsnbextension~=3.5.0->ipywidgets>=7.0.0->pydeck>=0.1.dev5->streamlit) (5.6.1)\n",
            "Requirement already satisfied: terminado>=0.8.1 in /usr/local/lib/python3.7/dist-packages (from notebook>=4.4.1->widgetsnbextension~=3.5.0->ipywidgets>=7.0.0->pydeck>=0.1.dev5->streamlit) (0.10.1)\n",
            "Requirement already satisfied: pandocfilters>=1.4.1 in /usr/local/lib/python3.7/dist-packages (from nbconvert->notebook>=4.4.1->widgetsnbextension~=3.5.0->ipywidgets>=7.0.0->pydeck>=0.1.dev5->streamlit) (1.4.3)\n",
            "Requirement already satisfied: defusedxml in /usr/local/lib/python3.7/dist-packages (from nbconvert->notebook>=4.4.1->widgetsnbextension~=3.5.0->ipywidgets>=7.0.0->pydeck>=0.1.dev5->streamlit) (0.7.1)\n",
            "Requirement already satisfied: bleach in /usr/local/lib/python3.7/dist-packages (from nbconvert->notebook>=4.4.1->widgetsnbextension~=3.5.0->ipywidgets>=7.0.0->pydeck>=0.1.dev5->streamlit) (3.3.0)\n",
            "Requirement already satisfied: mistune<2,>=0.8.1 in /usr/local/lib/python3.7/dist-packages (from nbconvert->notebook>=4.4.1->widgetsnbextension~=3.5.0->ipywidgets>=7.0.0->pydeck>=0.1.dev5->streamlit) (0.8.4)\n",
            "Requirement already satisfied: testpath in /usr/local/lib/python3.7/dist-packages (from nbconvert->notebook>=4.4.1->widgetsnbextension~=3.5.0->ipywidgets>=7.0.0->pydeck>=0.1.dev5->streamlit) (0.5.0)\n",
            "Requirement already satisfied: webencodings in /usr/local/lib/python3.7/dist-packages (from bleach->nbconvert->notebook>=4.4.1->widgetsnbextension~=3.5.0->ipywidgets>=7.0.0->pydeck>=0.1.dev5->streamlit) (0.5.1)\n",
            "Building wheels for collected packages: blinker\n",
            "  Building wheel for blinker (setup.py) ... \u001b[?25l\u001b[?25hdone\n",
            "  Created wheel for blinker: filename=blinker-1.4-cp37-none-any.whl size=13476 sha256=84421aa4af4b4dd672019463b479e21e46961708e1613749d82aa579a01e60b1\n",
            "  Stored in directory: /root/.cache/pip/wheels/92/a0/00/8690a57883956a301d91cf4ec999cc0b258b01e3f548f86e89\n",
            "Successfully built blinker\n",
            "\u001b[31mERROR: google-colab 1.0.0 has requirement ipykernel~=4.10, but you'll have ipykernel 5.5.5 which is incompatible.\u001b[0m\n",
            "Installing collected packages: base58, blinker, ipykernel, pydeck, validators, smmap, gitdb, gitpython, watchdog, streamlit\n",
            "  Found existing installation: ipykernel 4.10.1\n",
            "    Uninstalling ipykernel-4.10.1:\n",
            "      Successfully uninstalled ipykernel-4.10.1\n",
            "Successfully installed base58-2.1.0 blinker-1.4 gitdb-4.0.7 gitpython-3.1.14 ipykernel-5.5.5 pydeck-0.6.2 smmap-4.0.0 streamlit-0.82.0 validators-0.18.2 watchdog-2.1.2\n"
          ],
          "name": "stdout"
        },
        {
          "output_type": "display_data",
          "data": {
            "application/vnd.colab-display-data+json": {
              "pip_warning": {
                "packages": [
                  "ipykernel"
                ]
              }
            }
          },
          "metadata": {
            "tags": []
          }
        },
        {
          "output_type": "stream",
          "text": [
            "Collecting pyngrok\n",
            "\u001b[?25l  Downloading https://files.pythonhosted.org/packages/6b/4e/a2fe095bbe17cf26424c4abcd22a0490e22d01cc628f25af5e220ddbf6f0/pyngrok-5.0.5.tar.gz (745kB)\n",
            "\r\u001b[K     |▍                               | 10kB 14.6MB/s eta 0:00:01\r\u001b[K     |▉                               | 20kB 19.7MB/s eta 0:00:01\r\u001b[K     |█▎                              | 30kB 11.4MB/s eta 0:00:01\r\u001b[K     |█▊                              | 40kB 9.0MB/s eta 0:00:01\r\u001b[K     |██▏                             | 51kB 4.8MB/s eta 0:00:01\r\u001b[K     |██▋                             | 61kB 5.1MB/s eta 0:00:01\r\u001b[K     |███                             | 71kB 5.8MB/s eta 0:00:01\r\u001b[K     |███▌                            | 81kB 6.4MB/s eta 0:00:01\r\u001b[K     |████                            | 92kB 6.6MB/s eta 0:00:01\r\u001b[K     |████▍                           | 102kB 6.9MB/s eta 0:00:01\r\u001b[K     |████▉                           | 112kB 6.9MB/s eta 0:00:01\r\u001b[K     |█████▎                          | 122kB 6.9MB/s eta 0:00:01\r\u001b[K     |█████▊                          | 133kB 6.9MB/s eta 0:00:01\r\u001b[K     |██████▏                         | 143kB 6.9MB/s eta 0:00:01\r\u001b[K     |██████▋                         | 153kB 6.9MB/s eta 0:00:01\r\u001b[K     |███████                         | 163kB 6.9MB/s eta 0:00:01\r\u001b[K     |███████▌                        | 174kB 6.9MB/s eta 0:00:01\r\u001b[K     |████████                        | 184kB 6.9MB/s eta 0:00:01\r\u001b[K     |████████▍                       | 194kB 6.9MB/s eta 0:00:01\r\u001b[K     |████████▉                       | 204kB 6.9MB/s eta 0:00:01\r\u001b[K     |█████████▎                      | 215kB 6.9MB/s eta 0:00:01\r\u001b[K     |█████████▊                      | 225kB 6.9MB/s eta 0:00:01\r\u001b[K     |██████████▏                     | 235kB 6.9MB/s eta 0:00:01\r\u001b[K     |██████████▌                     | 245kB 6.9MB/s eta 0:00:01\r\u001b[K     |███████████                     | 256kB 6.9MB/s eta 0:00:01\r\u001b[K     |███████████▍                    | 266kB 6.9MB/s eta 0:00:01\r\u001b[K     |███████████▉                    | 276kB 6.9MB/s eta 0:00:01\r\u001b[K     |████████████▎                   | 286kB 6.9MB/s eta 0:00:01\r\u001b[K     |████████████▊                   | 296kB 6.9MB/s eta 0:00:01\r\u001b[K     |█████████████▏                  | 307kB 6.9MB/s eta 0:00:01\r\u001b[K     |█████████████▋                  | 317kB 6.9MB/s eta 0:00:01\r\u001b[K     |██████████████                  | 327kB 6.9MB/s eta 0:00:01\r\u001b[K     |██████████████▌                 | 337kB 6.9MB/s eta 0:00:01\r\u001b[K     |███████████████                 | 348kB 6.9MB/s eta 0:00:01\r\u001b[K     |███████████████▍                | 358kB 6.9MB/s eta 0:00:01\r\u001b[K     |███████████████▉                | 368kB 6.9MB/s eta 0:00:01\r\u001b[K     |████████████████▎               | 378kB 6.9MB/s eta 0:00:01\r\u001b[K     |████████████████▊               | 389kB 6.9MB/s eta 0:00:01\r\u001b[K     |█████████████████▏              | 399kB 6.9MB/s eta 0:00:01\r\u001b[K     |█████████████████▋              | 409kB 6.9MB/s eta 0:00:01\r\u001b[K     |██████████████████              | 419kB 6.9MB/s eta 0:00:01\r\u001b[K     |██████████████████▌             | 430kB 6.9MB/s eta 0:00:01\r\u001b[K     |███████████████████             | 440kB 6.9MB/s eta 0:00:01\r\u001b[K     |███████████████████▍            | 450kB 6.9MB/s eta 0:00:01\r\u001b[K     |███████████████████▉            | 460kB 6.9MB/s eta 0:00:01\r\u001b[K     |████████████████████▎           | 471kB 6.9MB/s eta 0:00:01\r\u001b[K     |████████████████████▊           | 481kB 6.9MB/s eta 0:00:01\r\u001b[K     |█████████████████████           | 491kB 6.9MB/s eta 0:00:01\r\u001b[K     |█████████████████████▌          | 501kB 6.9MB/s eta 0:00:01\r\u001b[K     |██████████████████████          | 512kB 6.9MB/s eta 0:00:01\r\u001b[K     |██████████████████████▍         | 522kB 6.9MB/s eta 0:00:01\r\u001b[K     |██████████████████████▉         | 532kB 6.9MB/s eta 0:00:01\r\u001b[K     |███████████████████████▎        | 542kB 6.9MB/s eta 0:00:01\r\u001b[K     |███████████████████████▊        | 552kB 6.9MB/s eta 0:00:01\r\u001b[K     |████████████████████████▏       | 563kB 6.9MB/s eta 0:00:01\r\u001b[K     |████████████████████████▋       | 573kB 6.9MB/s eta 0:00:01\r\u001b[K     |█████████████████████████       | 583kB 6.9MB/s eta 0:00:01\r\u001b[K     |█████████████████████████▌      | 593kB 6.9MB/s eta 0:00:01\r\u001b[K     |██████████████████████████      | 604kB 6.9MB/s eta 0:00:01\r\u001b[K     |██████████████████████████▍     | 614kB 6.9MB/s eta 0:00:01\r\u001b[K     |██████████████████████████▉     | 624kB 6.9MB/s eta 0:00:01\r\u001b[K     |███████████████████████████▎    | 634kB 6.9MB/s eta 0:00:01\r\u001b[K     |███████████████████████████▊    | 645kB 6.9MB/s eta 0:00:01\r\u001b[K     |████████████████████████████▏   | 655kB 6.9MB/s eta 0:00:01\r\u001b[K     |████████████████████████████▋   | 665kB 6.9MB/s eta 0:00:01\r\u001b[K     |█████████████████████████████   | 675kB 6.9MB/s eta 0:00:01\r\u001b[K     |█████████████████████████████▌  | 686kB 6.9MB/s eta 0:00:01\r\u001b[K     |██████████████████████████████  | 696kB 6.9MB/s eta 0:00:01\r\u001b[K     |██████████████████████████████▍ | 706kB 6.9MB/s eta 0:00:01\r\u001b[K     |██████████████████████████████▉ | 716kB 6.9MB/s eta 0:00:01\r\u001b[K     |███████████████████████████████▏| 727kB 6.9MB/s eta 0:00:01\r\u001b[K     |███████████████████████████████▋| 737kB 6.9MB/s eta 0:00:01\r\u001b[K     |████████████████████████████████| 747kB 6.9MB/s \n",
            "\u001b[?25hRequirement already satisfied: PyYAML in /usr/local/lib/python3.7/dist-packages (from pyngrok) (3.13)\n",
            "Building wheels for collected packages: pyngrok\n",
            "  Building wheel for pyngrok (setup.py) ... \u001b[?25l\u001b[?25hdone\n",
            "  Created wheel for pyngrok: filename=pyngrok-5.0.5-cp37-none-any.whl size=19262 sha256=239ce31c3151c4a452b4fe9b8ebdc9ec6db2c05d743ff3b7d847fabcba36f37f\n",
            "  Stored in directory: /root/.cache/pip/wheels/0c/13/64/5ebbcc22eaf53fdf5766b397c1fb17c83f5775fdccf0ea1b88\n",
            "Successfully built pyngrok\n",
            "Installing collected packages: pyngrok\n",
            "Successfully installed pyngrok-5.0.5\n"
          ],
          "name": "stdout"
        }
      ]
    },
    {
      "cell_type": "code",
      "metadata": {
        "colab": {
          "base_uri": "https://localhost:8080/"
        },
        "id": "40Q3_wzRt4K9",
        "outputId": "f32568e0-cef2-428e-a95b-fa6c3f2fe068"
      },
      "source": [
        "%%writefile app.py\n",
        "import streamlit as st\n",
        "\n",
        "print('Hello World')"
      ],
      "execution_count": null,
      "outputs": [
        {
          "output_type": "stream",
          "text": [
            "Writing app.py\n"
          ],
          "name": "stdout"
        }
      ]
    },
    {
      "cell_type": "code",
      "metadata": {
        "colab": {
          "base_uri": "https://localhost:8080/"
        },
        "id": "T85zJq3ivfDx",
        "outputId": "46fddb25-0e2c-4158-b0bb-9e4d5fad03b5"
      },
      "source": [
        "!ngrok authtoken 1tt8RjzEVOiJTxNHufT3cFjRQie_5WgNzDBRHCr6oZmUd8zvr"
      ],
      "execution_count": null,
      "outputs": [
        {
          "output_type": "stream",
          "text": [
            "Authtoken saved to configuration file: /root/.ngrok2/ngrok.yml\n"
          ],
          "name": "stdout"
        }
      ]
    },
    {
      "cell_type": "code",
      "metadata": {
        "id": "VeLhrKhJwI1y"
      },
      "source": [
        "from pyngrok import ngrok"
      ],
      "execution_count": null,
      "outputs": []
    },
    {
      "cell_type": "code",
      "metadata": {
        "id": "buNqIqoWwpiq"
      },
      "source": [
        "!streamlit run app.py&>/dev/null&"
      ],
      "execution_count": null,
      "outputs": []
    },
    {
      "cell_type": "code",
      "metadata": {
        "colab": {
          "base_uri": "https://localhost:8080/"
        },
        "id": "BzbaFI-mxtd5",
        "outputId": "9886240d-0ce7-43a8-d88e-e135e5de85c8"
      },
      "source": [
        "!pgrep streamlit"
      ],
      "execution_count": null,
      "outputs": [
        {
          "output_type": "stream",
          "text": [
            "183\n"
          ],
          "name": "stdout"
        }
      ]
    },
    {
      "cell_type": "code",
      "metadata": {
        "id": "N5t8JDFzwcnC"
      },
      "source": [
        "publ_url = ngrok.connect(port='8501')"
      ],
      "execution_count": null,
      "outputs": []
    },
    {
      "cell_type": "code",
      "metadata": {
        "colab": {
          "base_uri": "https://localhost:8080/"
        },
        "id": "KjEdVKvLyOsd",
        "outputId": "5000ba68-d59b-4a1b-ae50-3d0ad1cd248f"
      },
      "source": [
        "publ_url"
      ],
      "execution_count": null,
      "outputs": [
        {
          "output_type": "execute_result",
          "data": {
            "text/plain": [
              "<NgrokTunnel: \"http://97ecbf0276b0.ngrok.io\" -> \"http://localhost:80\">"
            ]
          },
          "metadata": {
            "tags": []
          },
          "execution_count": 37
        }
      ]
    },
    {
      "cell_type": "code",
      "metadata": {
        "colab": {
          "base_uri": "https://localhost:8080/",
          "height": 17
        },
        "id": "YWqs3v3nidRi",
        "outputId": "48350b2f-5ef9-4605-9185-a76e56b66c42"
      },
      "source": [
        "import pickle\n",
        "from google.colab import files\n",
        "\n",
        "filename = 'finalized_model.sav'\n",
        "pickle.dump(logreg, open(filename, 'wb'))\n",
        "files.download('finalized_model.sav')"
      ],
      "execution_count": null,
      "outputs": [
        {
          "output_type": "display_data",
          "data": {
            "application/javascript": [
              "\n",
              "    async function download(id, filename, size) {\n",
              "      if (!google.colab.kernel.accessAllowed) {\n",
              "        return;\n",
              "      }\n",
              "      const div = document.createElement('div');\n",
              "      const label = document.createElement('label');\n",
              "      label.textContent = `Downloading \"${filename}\": `;\n",
              "      div.appendChild(label);\n",
              "      const progress = document.createElement('progress');\n",
              "      progress.max = size;\n",
              "      div.appendChild(progress);\n",
              "      document.body.appendChild(div);\n",
              "\n",
              "      const buffers = [];\n",
              "      let downloaded = 0;\n",
              "\n",
              "      const channel = await google.colab.kernel.comms.open(id);\n",
              "      // Send a message to notify the kernel that we're ready.\n",
              "      channel.send({})\n",
              "\n",
              "      for await (const message of channel.messages) {\n",
              "        // Send a message to notify the kernel that we're ready.\n",
              "        channel.send({})\n",
              "        if (message.buffers) {\n",
              "          for (const buffer of message.buffers) {\n",
              "            buffers.push(buffer);\n",
              "            downloaded += buffer.byteLength;\n",
              "            progress.value = downloaded;\n",
              "          }\n",
              "        }\n",
              "      }\n",
              "      const blob = new Blob(buffers, {type: 'application/binary'});\n",
              "      const a = document.createElement('a');\n",
              "      a.href = window.URL.createObjectURL(blob);\n",
              "      a.download = filename;\n",
              "      div.appendChild(a);\n",
              "      a.click();\n",
              "      div.remove();\n",
              "    }\n",
              "  "
            ],
            "text/plain": [
              "<IPython.core.display.Javascript object>"
            ]
          },
          "metadata": {
            "tags": []
          }
        },
        {
          "output_type": "display_data",
          "data": {
            "application/javascript": [
              "download(\"download_5a31fe48-4cc2-41e8-8a3f-033198b9d3b4\", \"finalized_model.sav\", 6329)"
            ],
            "text/plain": [
              "<IPython.core.display.Javascript object>"
            ]
          },
          "metadata": {
            "tags": []
          }
        }
      ]
    },
    {
      "cell_type": "code",
      "metadata": {
        "id": "cVgj_YbqyXKY"
      },
      "source": [
        "#we are gonna write a function the accepts the title and tells you whether is good or bad\n",
        "def title(input):\n",
        "  text = vect.transform(input)\n",
        "  print(\"Logistic regression predicts your title to be: {} should be {}\".format(logreg.predict_proba(text), logreg.predict(text)))\n",
        "  print(\"Naive Bayes predicts your title to be: {} should be {}\".format(nbModel.predict_proba(text), nbModel.predict(text)))"
      ],
      "execution_count": null,
      "outputs": []
    },
    {
      "cell_type": "code",
      "metadata": {
        "id": "7jkk0wsQBKsy"
      },
      "source": [
        "again = 'Yes'\n",
        "\n",
        "while again == 'Yes':\n",
        "\n",
        "  title([input(\"please enter a title: \")])\n",
        "  q = str(input(\"Would you like to try another title: (Yes/No)\"))\n",
        "  again = q\n"
      ],
      "execution_count": null,
      "outputs": []
    },
    {
      "cell_type": "code",
      "metadata": {
        "id": "WXGe12nC_Bkc"
      },
      "source": [
        "pip install streamlit"
      ],
      "execution_count": null,
      "outputs": []
    },
    {
      "cell_type": "code",
      "metadata": {
        "id": "nKfaFYHM_JaT"
      },
      "source": [
        "import streamlit as st\n",
        "st.write(\"\"\"\n",
        "#Magnitube.AI!*\n",
        "\"\"\")"
      ],
      "execution_count": null,
      "outputs": []
    },
    {
      "cell_type": "code",
      "metadata": {
        "id": "DAnJb6lfA0gh"
      },
      "source": [
        "!pip install streamlit\n",
        "import streamlit as streamlit"
      ],
      "execution_count": null,
      "outputs": []
    },
    {
      "cell_type": "code",
      "metadata": {
        "id": "m42_LWS9-_hg"
      },
      "source": [
        "from numpy import array\n",
        "from keras.preprocessing.text import one_hot\n",
        "from keras.preprocessing.sequence import pad_sequences\n",
        "from keras.models import Sequential\n",
        "from keras.layers.core import Activation, Dropout, Dense\n",
        "from keras.layers import Flatten, LSTM\n",
        "from keras.layers import GlobalMaxPooling1D\n",
        "from keras.models import Model\n",
        "from keras.layers.embeddings import Embedding\n",
        "from sklearn.model_selection import train_test_split\n",
        "from keras.preprocessing.text import Tokenizer\n",
        "from keras.layers import Input\n",
        "from keras.layers.merge import Concatenate\n",
        "\n",
        "import pandas as pd\n",
        "import numpy as np\n",
        "import re"
      ],
      "execution_count": null,
      "outputs": []
    },
    {
      "cell_type": "code",
      "metadata": {
        "id": "t18kDr2aQzUS"
      },
      "source": [
        "df = df[\"title\"].astype(str)"
      ],
      "execution_count": null,
      "outputs": []
    },
    {
      "cell_type": "code",
      "metadata": {
        "id": "FG5FkZ3JMMGm"
      },
      "source": [
        "#this code cleans the train text data\n",
        "X1_train = []\n",
        "sentences = list(X_train[\"title\"])\n",
        "for sen in sentences:\n",
        "    X1_train.append(preprocess_text(sen))"
      ],
      "execution_count": null,
      "outputs": []
    },
    {
      "cell_type": "code",
      "metadata": {
        "id": "EV6KoJoMMgsV"
      },
      "source": [
        "#this code cleans the test train data \n",
        "X1_test = []\n",
        "sentences = list(X_test[\"title\"])\n",
        "for sen in sentences:\n",
        "    X1_test.append(preprocess_text(sen))"
      ],
      "execution_count": null,
      "outputs": []
    },
    {
      "cell_type": "code",
      "metadata": {
        "id": "ij_3LJ_yZ_nZ"
      },
      "source": [
        "tokenizer = Tokenizer(num_words=5000)\n",
        "tokenizer.fit_on_texts(X1_train)\n",
        "\n",
        "X1_train = tokenizer.texts_to_sequences(X1_train)\n",
        "X1_test = tokenizer.texts_to_sequences(X1_test)\n",
        "\n",
        "vocab_size = len(tokenizer.word_index) + 1\n",
        "\n",
        "maxlen = 200\n",
        "\n",
        "X1_train = pad_sequences(X1_train, padding='post', maxlen=maxlen)\n",
        "X1_test = pad_sequences(X1_test, padding='post', maxlen=maxlen)"
      ],
      "execution_count": null,
      "outputs": []
    },
    {
      "cell_type": "code",
      "metadata": {
        "id": "Rk2zV_pxcyy-"
      },
      "source": [
        "# this website helped figure out how to get the glove file https://ai.plainenglish.io/implementation-of-pre-trained-glove-word-embeddings-on-dataset-dceb141297c9\n",
        "!wget http://nlp.stanford.edu/data/glove.6B.zip"
      ],
      "execution_count": null,
      "outputs": []
    },
    {
      "cell_type": "code",
      "metadata": {
        "id": "5z1WfpAEc6N0"
      },
      "source": [
        "!unzip glove*.zip\n",
        "!ls\n",
        "!pwd"
      ],
      "execution_count": null,
      "outputs": []
    },
    {
      "cell_type": "code",
      "metadata": {
        "id": "m7Hp1_fYdpHW"
      },
      "source": [
        "from numpy import array\n",
        "from numpy import asarray\n",
        "from numpy import zeros\n",
        "\n",
        "print('Indexing word vectors.')\n",
        "\n",
        "embeddings_dictionary = {}\n",
        "glove_file= open('glove.6B.100d.txt', encoding='utf-8')\n",
        "for line in glove_file:\n",
        "    records = line.split()\n",
        "    word = records[0]\n",
        "    vector_dimensions = asarray(records[1:], dtype='float32')\n",
        "    embeddings_dictionary[word] = vector_dimensions\n",
        "\n",
        "glove_file.close()\n",
        "\n",
        "embedding_matrix = zeros((vocab_size, 100))\n",
        "for word, index in tokenizer.word_index.items():\n",
        "    embedding_vector = embeddings_dictionary.get(word)\n",
        "    if embedding_vector is not None:\n",
        "        embedding_matrix[index] = embedding_vector"
      ],
      "execution_count": null,
      "outputs": []
    },
    {
      "cell_type": "code",
      "metadata": {
        "id": "s-c5CeFcbYUJ"
      },
      "source": [
        "X2_train = X_train[[\"viewCount_Chan\",\"subscriberCount\",\"viewCount_Vid\",\"likeCount\",\"dislikeCount\"]].values\n",
        "X2_test = X_test[[\"viewCount_Chan\",\"subscriberCount\",\"viewCount_Vid\",\"likeCount\",\"dislikeCount\"]].values"
      ],
      "execution_count": null,
      "outputs": []
    },
    {
      "cell_type": "code",
      "metadata": {
        "id": "PYpibKHpgrz2"
      },
      "source": [
        "input_1 = Input(shape=(maxlen,))\n",
        "\n",
        "input_2 = Input(shape=(5,))"
      ],
      "execution_count": null,
      "outputs": []
    },
    {
      "cell_type": "code",
      "metadata": {
        "id": "hGMCllamstcU"
      },
      "source": [
        "embedding_layer = Embedding(vocab_size, 100, weights=[embedding_matrix], trainable=False)(input_1)\n",
        "LSTM_Layer_1 = LSTM(128)(embedding_layer)"
      ],
      "execution_count": null,
      "outputs": []
    },
    {
      "cell_type": "code",
      "metadata": {
        "id": "8Bi1NrJZg6In"
      },
      "source": [
        "dense_layer_1 = Dense(10, activation='relu')(input_2)\n",
        "dense_layer_2 = Dense(10, activation='relu')(dense_layer_1)"
      ],
      "execution_count": null,
      "outputs": []
    },
    {
      "cell_type": "code",
      "metadata": {
        "id": "b9OQbvQag_or"
      },
      "source": [
        "concat_layer = Concatenate()([LSTM_Layer_1, dense_layer_2])\n",
        "dense_layer_3 = Dense(10, activation='relu')(concat_layer)\n",
        "output = Dense(5, activation='softmax')(dense_layer_3)\n",
        "model = Model(inputs=[input_1, input_2], outputs=output)"
      ],
      "execution_count": null,
      "outputs": []
    },
    {
      "cell_type": "code",
      "metadata": {
        "id": "sWVBGv2zhHIn"
      },
      "source": [
        "model.compile(loss='categorical_crossentropy', optimizer='adam', metrics=['acc'])\n",
        "print(model.summary())"
      ],
      "execution_count": null,
      "outputs": []
    },
    {
      "cell_type": "code",
      "metadata": {
        "id": "t3IoiP5YhR26"
      },
      "source": [
        "from keras.utils import plot_model\n",
        "plot_model(model, to_file='model_plot3.png', show_shapes=True, show_layer_names=True)"
      ],
      "execution_count": null,
      "outputs": []
    },
    {
      "cell_type": "code",
      "metadata": {
        "id": "PFD_cy8QhcCY"
      },
      "source": [
        "history = model.fit(x=[X1_train, X2_train], y=y_train, batch_size=128, epochs=10, verbose=1, validation_split=0.3)"
      ],
      "execution_count": null,
      "outputs": []
    },
    {
      "cell_type": "code",
      "metadata": {
        "id": "F7Eyz8lonCF3"
      },
      "source": [
        "score = model.evaluate(x=[X1_test, X2_test], y=y_test, verbose=1)\n",
        "\n",
        "print(\"Test Score:\", score[0])\n",
        "print(\"Test Accuracy:\", score[1])"
      ],
      "execution_count": null,
      "outputs": []
    },
    {
      "cell_type": "code",
      "metadata": {
        "id": "F3Um-hqMBSoI"
      },
      "source": [
        "### FOR CNN ##\n",
        "from google.colab import files\n",
        "final_df.to_csv('final_df.csv')\n",
        "files.download('final_df.csv')"
      ],
      "execution_count": null,
      "outputs": []
    },
    {
      "cell_type": "code",
      "metadata": {
        "id": "NZCJoPXu7s6m"
      },
      "source": [
        "final_df.info() # sense-check"
      ],
      "execution_count": null,
      "outputs": []
    }
  ]
}